{
 "cells": [
  {
   "cell_type": "markdown",
   "id": "07e4ec0c-5f2d-47ed-ba1e-f9cdce57a0c1",
   "metadata": {},
   "source": [
    "# Tuple"
   ]
  },
  {
   "cell_type": "code",
   "execution_count": 2,
   "id": "753537cc-595c-4755-953c-211a068c613a",
   "metadata": {
    "tags": []
   },
   "outputs": [],
   "source": [
    "a = 1,2,3"
   ]
  },
  {
   "cell_type": "code",
   "execution_count": 4,
   "id": "7e49cd84-6526-46c0-a11c-76254021d6ed",
   "metadata": {
    "tags": []
   },
   "outputs": [
    {
     "data": {
      "text/plain": [
       "tuple"
      ]
     },
     "execution_count": 4,
     "metadata": {},
     "output_type": "execute_result"
    }
   ],
   "source": [
    "type(a)"
   ]
  },
  {
   "cell_type": "code",
   "execution_count": 5,
   "id": "dbb1dae4-5fd0-44e1-8d47-fa57620daedb",
   "metadata": {
    "tags": []
   },
   "outputs": [],
   "source": [
    "b = (1,2,3,4,5)"
   ]
  },
  {
   "cell_type": "code",
   "execution_count": 6,
   "id": "66aba474-180c-46bd-9d79-8a36203ef608",
   "metadata": {
    "tags": []
   },
   "outputs": [
    {
     "data": {
      "text/plain": [
       "2"
      ]
     },
     "execution_count": 6,
     "metadata": {},
     "output_type": "execute_result"
    }
   ],
   "source": [
    "b[1]"
   ]
  },
  {
   "cell_type": "code",
   "execution_count": 8,
   "id": "e65dc741-224e-474c-921b-c45b673a77f9",
   "metadata": {
    "tags": []
   },
   "outputs": [
    {
     "data": {
      "text/plain": [
       "(2, 4)"
      ]
     },
     "execution_count": 8,
     "metadata": {},
     "output_type": "execute_result"
    }
   ],
   "source": [
    "b[1::2]"
   ]
  },
  {
   "cell_type": "code",
   "execution_count": 11,
   "id": "19f018bf-4602-4e2f-92bb-95bcce4c8963",
   "metadata": {
    "tags": []
   },
   "outputs": [],
   "source": [
    "c = (\"python\",1,0.0,0+0j,[1,2,3],1)"
   ]
  },
  {
   "cell_type": "code",
   "execution_count": 12,
   "id": "d1f18541-5c82-46f2-8436-a53bb7901bca",
   "metadata": {
    "tags": []
   },
   "outputs": [
    {
     "data": {
      "text/plain": [
       "('python', 1, 0.0, 0j, [1, 2, 3], 1)"
      ]
     },
     "execution_count": 12,
     "metadata": {},
     "output_type": "execute_result"
    }
   ],
   "source": [
    "c"
   ]
  },
  {
   "cell_type": "code",
   "execution_count": 13,
   "id": "c5d003cd-0583-49d6-8312-d7754e73a679",
   "metadata": {
    "tags": []
   },
   "outputs": [
    {
     "ename": "TypeError",
     "evalue": "'tuple' object does not support item assignment",
     "output_type": "error",
     "traceback": [
      "\u001b[0;31m---------------------------------------------------------------------------\u001b[0m",
      "\u001b[0;31mTypeError\u001b[0m                                 Traceback (most recent call last)",
      "Cell \u001b[0;32mIn[13], line 1\u001b[0m\n\u001b[0;32m----> 1\u001b[0m c[\u001b[38;5;241m1\u001b[39m] \u001b[38;5;241m=\u001b[39m \u001b[38;5;241m2\u001b[39m\n",
      "\u001b[0;31mTypeError\u001b[0m: 'tuple' object does not support item assignment"
     ]
    }
   ],
   "source": [
    "c[1] = 2"
   ]
  },
  {
   "cell_type": "code",
   "execution_count": 14,
   "id": "c3739b64-881e-420f-b0cf-5ed99886ff56",
   "metadata": {
    "tags": []
   },
   "outputs": [
    {
     "ename": "AttributeError",
     "evalue": "'tuple' object has no attribute 'append'",
     "output_type": "error",
     "traceback": [
      "\u001b[0;31m---------------------------------------------------------------------------\u001b[0m",
      "\u001b[0;31mAttributeError\u001b[0m                            Traceback (most recent call last)",
      "Cell \u001b[0;32mIn[14], line 1\u001b[0m\n\u001b[0;32m----> 1\u001b[0m c\u001b[38;5;241m.\u001b[39mappend(\u001b[38;5;241m5\u001b[39m)\n",
      "\u001b[0;31mAttributeError\u001b[0m: 'tuple' object has no attribute 'append'"
     ]
    }
   ],
   "source": [
    "c.append(5)"
   ]
  },
  {
   "cell_type": "code",
   "execution_count": null,
   "id": "85f55439-108e-4b99-ac27-478d68cb05ea",
   "metadata": {},
   "outputs": [],
   "source": []
  },
  {
   "cell_type": "code",
   "execution_count": 19,
   "id": "6eb9a6ce-954e-49e5-b2ba-e5b6506cc545",
   "metadata": {
    "tags": []
   },
   "outputs": [],
   "source": [
    "t1 = tuple((3,5))"
   ]
  },
  {
   "cell_type": "code",
   "execution_count": 20,
   "id": "c6d68bf8-4457-44db-b473-55314c5b7d17",
   "metadata": {
    "tags": []
   },
   "outputs": [
    {
     "data": {
      "text/plain": [
       "(3, 5)"
      ]
     },
     "execution_count": 20,
     "metadata": {},
     "output_type": "execute_result"
    }
   ],
   "source": [
    "t1"
   ]
  },
  {
   "cell_type": "code",
   "execution_count": 21,
   "id": "d7b66c31-ee2a-4e80-b617-21ada695baed",
   "metadata": {
    "tags": []
   },
   "outputs": [],
   "source": [
    "t2 = (4)"
   ]
  },
  {
   "cell_type": "code",
   "execution_count": 22,
   "id": "7bcdb1c0-0bf0-4441-8bc9-406a4bdc441f",
   "metadata": {
    "tags": []
   },
   "outputs": [
    {
     "data": {
      "text/plain": [
       "4"
      ]
     },
     "execution_count": 22,
     "metadata": {},
     "output_type": "execute_result"
    }
   ],
   "source": [
    "t2"
   ]
  },
  {
   "cell_type": "code",
   "execution_count": 23,
   "id": "0a51ae97-544f-4d10-97e5-7bae5747047b",
   "metadata": {
    "tags": []
   },
   "outputs": [
    {
     "data": {
      "text/plain": [
       "(int, tuple)"
      ]
     },
     "execution_count": 23,
     "metadata": {},
     "output_type": "execute_result"
    }
   ],
   "source": [
    "type(t2),type(t1)"
   ]
  },
  {
   "cell_type": "code",
   "execution_count": null,
   "id": "07b52a6c-6fc5-4937-a630-44808d294d7d",
   "metadata": {},
   "outputs": [],
   "source": []
  },
  {
   "cell_type": "code",
   "execution_count": 25,
   "id": "88b9d0d7-42b6-4d8b-8d2d-6899e114ca59",
   "metadata": {
    "tags": []
   },
   "outputs": [],
   "source": [
    "t3 = tuple((4,))"
   ]
  },
  {
   "cell_type": "code",
   "execution_count": 27,
   "id": "8b848fb8-81c4-4117-bf52-cbab9ede5559",
   "metadata": {
    "tags": []
   },
   "outputs": [
    {
     "data": {
      "text/plain": [
       "tuple"
      ]
     },
     "execution_count": 27,
     "metadata": {},
     "output_type": "execute_result"
    }
   ],
   "source": [
    "type(t3)"
   ]
  },
  {
   "cell_type": "code",
   "execution_count": 30,
   "id": "00f2658c-dec6-449b-89e7-b563834040b0",
   "metadata": {
    "tags": []
   },
   "outputs": [],
   "source": [
    "t1 = t1 + t3"
   ]
  },
  {
   "cell_type": "code",
   "execution_count": 31,
   "id": "e4aa5187-5a5d-45ca-9d05-e8e350f153cc",
   "metadata": {
    "tags": []
   },
   "outputs": [
    {
     "name": "stdout",
     "output_type": "stream",
     "text": [
      "3\n",
      "5\n",
      "4\n"
     ]
    }
   ],
   "source": [
    "for i in t1:\n",
    "    print(i)"
   ]
  },
  {
   "cell_type": "code",
   "execution_count": null,
   "id": "0ddbfb42-fc15-4c2d-83d1-54927affeb08",
   "metadata": {},
   "outputs": [],
   "source": []
  },
  {
   "cell_type": "code",
   "execution_count": null,
   "id": "cb2a3319-0788-4893-9596-06ece487f1a2",
   "metadata": {},
   "outputs": [],
   "source": []
  },
  {
   "cell_type": "code",
   "execution_count": 35,
   "id": "2677896e-c097-4a06-a28b-9c56e8a7c51b",
   "metadata": {
    "tags": []
   },
   "outputs": [],
   "source": [
    "t4 = (1,2,3,[1,2,3])"
   ]
  },
  {
   "cell_type": "code",
   "execution_count": 36,
   "id": "d35d5630-88a9-4968-ae30-872fde308a51",
   "metadata": {
    "tags": []
   },
   "outputs": [
    {
     "name": "stdout",
     "output_type": "stream",
     "text": [
      "4337444056\n",
      "4337444088\n",
      "4337444120\n",
      "4406372160\n"
     ]
    }
   ],
   "source": [
    "for i in t4:\n",
    "    print(id(i))"
   ]
  },
  {
   "cell_type": "code",
   "execution_count": 37,
   "id": "055a3259-7e40-4036-8f1c-9e388f5db78b",
   "metadata": {
    "tags": []
   },
   "outputs": [
    {
     "ename": "TypeError",
     "evalue": "'tuple' object does not support item assignment",
     "output_type": "error",
     "traceback": [
      "\u001b[0;31m---------------------------------------------------------------------------\u001b[0m",
      "\u001b[0;31mTypeError\u001b[0m                                 Traceback (most recent call last)",
      "Cell \u001b[0;32mIn[37], line 1\u001b[0m\n\u001b[0;32m----> 1\u001b[0m t4[\u001b[38;5;241m0\u001b[39m] \u001b[38;5;241m=\u001b[39m \u001b[38;5;241m2\u001b[39m\n",
      "\u001b[0;31mTypeError\u001b[0m: 'tuple' object does not support item assignment"
     ]
    }
   ],
   "source": [
    "t4[0] = 2"
   ]
  },
  {
   "cell_type": "code",
   "execution_count": 38,
   "id": "df1240ac-ffd4-4543-8aeb-d4bf75f8b06e",
   "metadata": {
    "tags": []
   },
   "outputs": [
    {
     "data": {
      "text/plain": [
       "[1, 2, 3]"
      ]
     },
     "execution_count": 38,
     "metadata": {},
     "output_type": "execute_result"
    }
   ],
   "source": [
    "t4[3]"
   ]
  },
  {
   "cell_type": "code",
   "execution_count": 39,
   "id": "1c295215-dc67-408b-9160-3ed92832b54b",
   "metadata": {
    "tags": []
   },
   "outputs": [],
   "source": [
    "t4[3].append(4)"
   ]
  },
  {
   "cell_type": "code",
   "execution_count": 40,
   "id": "6dd7f29e-a095-43a6-ad2e-fec07a07f97c",
   "metadata": {
    "tags": []
   },
   "outputs": [
    {
     "data": {
      "text/plain": [
       "(1, 2, 3, [1, 2, 3, 4])"
      ]
     },
     "execution_count": 40,
     "metadata": {},
     "output_type": "execute_result"
    }
   ],
   "source": [
    "t4"
   ]
  },
  {
   "cell_type": "code",
   "execution_count": 42,
   "id": "a133a1bf-5539-4e97-a14e-aee35e167f4f",
   "metadata": {
    "tags": []
   },
   "outputs": [
    {
     "data": {
      "text/plain": [
       "(3, 5, 4)"
      ]
     },
     "execution_count": 42,
     "metadata": {},
     "output_type": "execute_result"
    }
   ],
   "source": [
    "t1"
   ]
  },
  {
   "cell_type": "code",
   "execution_count": 43,
   "id": "f203cd92-5aaf-4180-a6a3-641c9c681c86",
   "metadata": {
    "tags": []
   },
   "outputs": [
    {
     "data": {
      "text/plain": [
       "4406377408"
      ]
     },
     "execution_count": 43,
     "metadata": {},
     "output_type": "execute_result"
    }
   ],
   "source": [
    "id(t1)"
   ]
  },
  {
   "cell_type": "code",
   "execution_count": 44,
   "id": "d8a379ce-44fc-4f38-80c1-3fed715ddc34",
   "metadata": {
    "tags": []
   },
   "outputs": [],
   "source": [
    "t1 = t1 + t3"
   ]
  },
  {
   "cell_type": "code",
   "execution_count": 45,
   "id": "66edb9be-2f0d-4f24-a902-c4bf62ea6f1b",
   "metadata": {
    "tags": []
   },
   "outputs": [
    {
     "data": {
      "text/plain": [
       "(3, 5, 4, 4)"
      ]
     },
     "execution_count": 45,
     "metadata": {},
     "output_type": "execute_result"
    }
   ],
   "source": [
    "t1"
   ]
  },
  {
   "cell_type": "code",
   "execution_count": 46,
   "id": "33a515b0-8464-440c-bbf1-5c10019d00f0",
   "metadata": {
    "tags": []
   },
   "outputs": [
    {
     "data": {
      "text/plain": [
       "4406505488"
      ]
     },
     "execution_count": 46,
     "metadata": {},
     "output_type": "execute_result"
    }
   ],
   "source": [
    "id(t1)"
   ]
  },
  {
   "cell_type": "code",
   "execution_count": null,
   "id": "55467bb7-3af8-452e-acad-b8913717fa2f",
   "metadata": {},
   "outputs": [],
   "source": []
  },
  {
   "cell_type": "code",
   "execution_count": 48,
   "id": "157b0066-0165-44c6-bb6f-0ed5cecb2949",
   "metadata": {
    "tags": []
   },
   "outputs": [],
   "source": [
    "t5 = ((1,2,3),(3,4,5))"
   ]
  },
  {
   "cell_type": "code",
   "execution_count": 51,
   "id": "587503fd-6ef6-4e5f-b92d-c77de155618b",
   "metadata": {
    "tags": []
   },
   "outputs": [
    {
     "data": {
      "text/plain": [
       "(1, 2, 3)"
      ]
     },
     "execution_count": 51,
     "metadata": {},
     "output_type": "execute_result"
    }
   ],
   "source": [
    "t5[0]"
   ]
  },
  {
   "cell_type": "code",
   "execution_count": 52,
   "id": "68845cda-e0ad-474f-b72a-f5b03995af05",
   "metadata": {
    "tags": []
   },
   "outputs": [],
   "source": [
    "t6 = t5,t5"
   ]
  },
  {
   "cell_type": "code",
   "execution_count": 53,
   "id": "9d84dec3-dbcc-4f29-aa8a-35303006af6a",
   "metadata": {
    "tags": []
   },
   "outputs": [
    {
     "data": {
      "text/plain": [
       "(((1, 2, 3), (3, 4, 5)), ((1, 2, 3), (3, 4, 5)))"
      ]
     },
     "execution_count": 53,
     "metadata": {},
     "output_type": "execute_result"
    }
   ],
   "source": [
    "t6"
   ]
  },
  {
   "cell_type": "code",
   "execution_count": 55,
   "id": "0062cf5d-adaf-4d0e-934c-9d4fdf9a15b5",
   "metadata": {
    "tags": []
   },
   "outputs": [],
   "source": [
    "a = 1,2,3,4"
   ]
  },
  {
   "cell_type": "code",
   "execution_count": 56,
   "id": "e00461ea-397c-4d49-86ef-594dd6b4d384",
   "metadata": {
    "tags": []
   },
   "outputs": [
    {
     "data": {
      "text/plain": [
       "(1, 2, 3, 4)"
      ]
     },
     "execution_count": 56,
     "metadata": {},
     "output_type": "execute_result"
    }
   ],
   "source": [
    "a"
   ]
  },
  {
   "cell_type": "code",
   "execution_count": 62,
   "id": "4cc38d90-0c47-412b-b908-0ad680a139de",
   "metadata": {
    "tags": []
   },
   "outputs": [],
   "source": [
    "a1,a2,a3,a4=a"
   ]
  },
  {
   "cell_type": "code",
   "execution_count": 63,
   "id": "1a8fac2d-d47a-48c0-a862-ac1fff3a4267",
   "metadata": {
    "tags": []
   },
   "outputs": [
    {
     "data": {
      "text/plain": [
       "1"
      ]
     },
     "execution_count": 63,
     "metadata": {},
     "output_type": "execute_result"
    }
   ],
   "source": [
    "a1"
   ]
  },
  {
   "cell_type": "code",
   "execution_count": 64,
   "id": "62a308f5-5f52-4b68-984e-024b4b3328b1",
   "metadata": {
    "tags": []
   },
   "outputs": [
    {
     "data": {
      "text/plain": [
       "2"
      ]
     },
     "execution_count": 64,
     "metadata": {},
     "output_type": "execute_result"
    }
   ],
   "source": [
    "a2"
   ]
  },
  {
   "cell_type": "code",
   "execution_count": null,
   "id": "f7792114-fcc2-4eab-b7db-c5328f288cc9",
   "metadata": {},
   "outputs": [],
   "source": []
  },
  {
   "cell_type": "code",
   "execution_count": 66,
   "id": "c53d55f2-acea-4ce7-b744-2b2f51185bbf",
   "metadata": {
    "tags": []
   },
   "outputs": [
    {
     "data": {
      "text/plain": [
       "('p', 'y', 't', 'h', 'o', 'n')"
      ]
     },
     "execution_count": 66,
     "metadata": {},
     "output_type": "execute_result"
    }
   ],
   "source": [
    "tuple(\"python\")"
   ]
  },
  {
   "cell_type": "code",
   "execution_count": null,
   "id": "69f0143e-7c7d-45af-8724-b6503edf9590",
   "metadata": {},
   "outputs": [],
   "source": []
  },
  {
   "cell_type": "code",
   "execution_count": null,
   "id": "5ac0bceb-0909-4365-bfab-24f3a54a2f71",
   "metadata": {},
   "outputs": [],
   "source": []
  },
  {
   "cell_type": "markdown",
   "id": "01848070-ee2e-4c84-bf46-6adb9d935ae1",
   "metadata": {},
   "source": [
    "# Function on Tuple"
   ]
  },
  {
   "cell_type": "markdown",
   "id": "314f3471-f34e-465e-88a3-68afc7564372",
   "metadata": {
    "tags": []
   },
   "source": [
    "1. len()\n",
    "2. max()\n",
    "3. min()\n",
    "4. sum()\n",
    "5. sorted()\n",
    "6. any()\n",
    "7. all()\n",
    "8. tuple()"
   ]
  },
  {
   "cell_type": "markdown",
   "id": "ee32a875-a00f-4237-9bb1-0de70f82617d",
   "metadata": {},
   "source": [
    "# Len()"
   ]
  },
  {
   "cell_type": "code",
   "execution_count": 67,
   "id": "114be7be-2b1e-4953-a82d-01c6a763a912",
   "metadata": {
    "tags": []
   },
   "outputs": [
    {
     "data": {
      "text/plain": [
       "(3, 5, 4, 4)"
      ]
     },
     "execution_count": 67,
     "metadata": {},
     "output_type": "execute_result"
    }
   ],
   "source": [
    "t1"
   ]
  },
  {
   "cell_type": "code",
   "execution_count": 68,
   "id": "4b63f6fe-bc90-40c5-84b8-0e3bdef8775a",
   "metadata": {
    "tags": []
   },
   "outputs": [
    {
     "data": {
      "text/plain": [
       "4"
      ]
     },
     "execution_count": 68,
     "metadata": {},
     "output_type": "execute_result"
    }
   ],
   "source": [
    "len(t1)"
   ]
  },
  {
   "cell_type": "code",
   "execution_count": 70,
   "id": "68b94c03-7941-4c05-aa86-83f38db7e343",
   "metadata": {
    "tags": []
   },
   "outputs": [
    {
     "data": {
      "text/plain": [
       "5"
      ]
     },
     "execution_count": 70,
     "metadata": {},
     "output_type": "execute_result"
    }
   ],
   "source": [
    "max(t1)"
   ]
  },
  {
   "cell_type": "code",
   "execution_count": 74,
   "id": "4bdb06e7-bb7a-4e59-a6dc-ef4c66e25a22",
   "metadata": {
    "tags": []
   },
   "outputs": [
    {
     "data": {
      "text/plain": [
       "'python'"
      ]
     },
     "execution_count": 74,
     "metadata": {},
     "output_type": "execute_result"
    }
   ],
   "source": [
    "max((\"python\",\"pytho\"))"
   ]
  },
  {
   "cell_type": "code",
   "execution_count": 75,
   "id": "f8b5e76e-77cd-48a8-9866-82659ba1d677",
   "metadata": {
    "tags": []
   },
   "outputs": [
    {
     "data": {
      "text/plain": [
       "'pytho'"
      ]
     },
     "execution_count": 75,
     "metadata": {},
     "output_type": "execute_result"
    }
   ],
   "source": [
    "min((\"python\",\"pytho\"))"
   ]
  },
  {
   "cell_type": "code",
   "execution_count": 78,
   "id": "e9922a41-fa65-4c22-a2aa-02eddfa74646",
   "metadata": {
    "tags": []
   },
   "outputs": [
    {
     "data": {
      "text/plain": [
       "1"
      ]
     },
     "execution_count": 78,
     "metadata": {},
     "output_type": "execute_result"
    }
   ],
   "source": [
    "min((1,2,3,4,12,4))"
   ]
  },
  {
   "cell_type": "code",
   "execution_count": 82,
   "id": "e28bc413-fa38-4760-85c5-931712cd3ae7",
   "metadata": {
    "tags": []
   },
   "outputs": [
    {
     "data": {
      "text/plain": [
       "6.0"
      ]
     },
     "execution_count": 82,
     "metadata": {},
     "output_type": "execute_result"
    }
   ],
   "source": [
    "sum((1,2,3,0.0))"
   ]
  },
  {
   "cell_type": "code",
   "execution_count": null,
   "id": "c2f43078-3c8c-421d-831c-4ea08f23d4ec",
   "metadata": {},
   "outputs": [],
   "source": []
  },
  {
   "cell_type": "code",
   "execution_count": null,
   "id": "b06646ff-d252-4ea1-8e60-5b856428480d",
   "metadata": {},
   "outputs": [],
   "source": []
  },
  {
   "cell_type": "code",
   "execution_count": 84,
   "id": "12dfb8df-d683-4621-80b5-6b3839d3b115",
   "metadata": {
    "tags": []
   },
   "outputs": [
    {
     "data": {
      "text/plain": [
       "True"
      ]
     },
     "execution_count": 84,
     "metadata": {},
     "output_type": "execute_result"
    }
   ],
   "source": [
    "any ( (1,0,0.0,[],()))"
   ]
  },
  {
   "cell_type": "code",
   "execution_count": 85,
   "id": "4fda7613-f290-4a40-a15a-64899a7ae132",
   "metadata": {
    "tags": []
   },
   "outputs": [
    {
     "data": {
      "text/plain": [
       "False"
      ]
     },
     "execution_count": 85,
     "metadata": {},
     "output_type": "execute_result"
    }
   ],
   "source": [
    "all ( (1,0,0.0,[],()))"
   ]
  },
  {
   "cell_type": "code",
   "execution_count": 89,
   "id": "63702cb6-d7da-4e03-b942-c7c6eadd76a1",
   "metadata": {
    "tags": []
   },
   "outputs": [
    {
     "data": {
      "text/plain": [
       "True"
      ]
     },
     "execution_count": 89,
     "metadata": {},
     "output_type": "execute_result"
    }
   ],
   "source": [
    "all ( (1,2,0.1,[1],(2)))"
   ]
  },
  {
   "cell_type": "code",
   "execution_count": null,
   "id": "dea06590-9328-4035-b886-4e01e12d9e42",
   "metadata": {},
   "outputs": [],
   "source": []
  },
  {
   "cell_type": "code",
   "execution_count": 90,
   "id": "0ac0da8e-305d-453d-893c-41c61fc99936",
   "metadata": {
    "tags": []
   },
   "outputs": [
    {
     "data": {
      "text/plain": [
       "[-5, 1, 3, 4, 5]"
      ]
     },
     "execution_count": 90,
     "metadata": {},
     "output_type": "execute_result"
    }
   ],
   "source": [
    "sorted((3,4,5,1,-5))"
   ]
  },
  {
   "cell_type": "code",
   "execution_count": 92,
   "id": "ef735c4f-1e71-445b-a4fe-20a531cbccf9",
   "metadata": {
    "tags": []
   },
   "outputs": [
    {
     "data": {
      "text/plain": [
       "[5, 4, 3, 1, -5]"
      ]
     },
     "execution_count": 92,
     "metadata": {},
     "output_type": "execute_result"
    }
   ],
   "source": [
    "sorted((3,4,5,1,-5),reverse=True)"
   ]
  },
  {
   "cell_type": "code",
   "execution_count": null,
   "id": "c3f4924d-8315-4bcb-9c76-f0381b35af06",
   "metadata": {},
   "outputs": [],
   "source": []
  },
  {
   "cell_type": "markdown",
   "id": "12475cb5-2817-45f3-a01f-491e103fbd62",
   "metadata": {
    "tags": []
   },
   "source": [
    "# Methods in Tuple"
   ]
  },
  {
   "cell_type": "markdown",
   "id": "5a6ef743-ae19-4dca-8123-5ff9dbadf049",
   "metadata": {},
   "source": [
    "1. Count\n",
    "2. Index"
   ]
  },
  {
   "cell_type": "code",
   "execution_count": 99,
   "id": "d8b4a8d4-b0b7-4e6e-af1b-fb594f32725e",
   "metadata": {
    "tags": []
   },
   "outputs": [
    {
     "data": {
      "text/plain": [
       "(3, 5, 4, 4)"
      ]
     },
     "execution_count": 99,
     "metadata": {},
     "output_type": "execute_result"
    }
   ],
   "source": [
    "t1 "
   ]
  },
  {
   "cell_type": "code",
   "execution_count": 102,
   "id": "7e85f88e-d0f9-4c09-8d47-db896ee46db8",
   "metadata": {
    "tags": []
   },
   "outputs": [
    {
     "data": {
      "text/plain": [
       "2"
      ]
     },
     "execution_count": 102,
     "metadata": {},
     "output_type": "execute_result"
    }
   ],
   "source": [
    "t1.count(4)"
   ]
  },
  {
   "cell_type": "code",
   "execution_count": 103,
   "id": "6b6eae48-47f2-4ca1-8826-bc7b78e771ad",
   "metadata": {
    "tags": []
   },
   "outputs": [
    {
     "data": {
      "text/plain": [
       "0"
      ]
     },
     "execution_count": 103,
     "metadata": {},
     "output_type": "execute_result"
    }
   ],
   "source": [
    "t1.count(1)"
   ]
  },
  {
   "cell_type": "code",
   "execution_count": 104,
   "id": "0f3a3e48-1c8e-449c-bb55-ada4392797b8",
   "metadata": {
    "tags": []
   },
   "outputs": [
    {
     "data": {
      "text/plain": [
       "1"
      ]
     },
     "execution_count": 104,
     "metadata": {},
     "output_type": "execute_result"
    }
   ],
   "source": [
    "t1.count(5)"
   ]
  },
  {
   "cell_type": "code",
   "execution_count": null,
   "id": "1c94121e-c2a2-4d55-bb98-24b006d81ac4",
   "metadata": {},
   "outputs": [],
   "source": []
  },
  {
   "cell_type": "code",
   "execution_count": 105,
   "id": "be81ad7e-0c92-489e-a1f0-6ec850caea2d",
   "metadata": {
    "tags": []
   },
   "outputs": [
    {
     "data": {
      "text/plain": [
       "2"
      ]
     },
     "execution_count": 105,
     "metadata": {},
     "output_type": "execute_result"
    }
   ],
   "source": [
    "t1.index(4)"
   ]
  },
  {
   "cell_type": "code",
   "execution_count": 106,
   "id": "3e407036-c636-4653-b8c3-6485749c8e74",
   "metadata": {
    "tags": []
   },
   "outputs": [
    {
     "data": {
      "text/plain": [
       "1"
      ]
     },
     "execution_count": 106,
     "metadata": {},
     "output_type": "execute_result"
    }
   ],
   "source": [
    "t1.index(5)"
   ]
  },
  {
   "cell_type": "code",
   "execution_count": 107,
   "id": "3620f04b-9cc7-45f7-a86c-49d16245e4c9",
   "metadata": {
    "tags": []
   },
   "outputs": [
    {
     "ename": "ValueError",
     "evalue": "tuple.index(x): x not in tuple",
     "output_type": "error",
     "traceback": [
      "\u001b[0;31m---------------------------------------------------------------------------\u001b[0m",
      "\u001b[0;31mValueError\u001b[0m                                Traceback (most recent call last)",
      "Cell \u001b[0;32mIn[107], line 1\u001b[0m\n\u001b[0;32m----> 1\u001b[0m t1\u001b[38;5;241m.\u001b[39mindex(\u001b[38;5;241m7\u001b[39m)\n",
      "\u001b[0;31mValueError\u001b[0m: tuple.index(x): x not in tuple"
     ]
    }
   ],
   "source": [
    "t1.index(7)"
   ]
  },
  {
   "cell_type": "code",
   "execution_count": null,
   "id": "f64b9d79-7bdb-448d-bf1d-fdb76fe2b6ce",
   "metadata": {},
   "outputs": [],
   "source": []
  },
  {
   "cell_type": "markdown",
   "id": "6425679c-cc84-41ee-b2d4-769b9255ce56",
   "metadata": {},
   "source": [
    "# Tuple Comprehension"
   ]
  },
  {
   "cell_type": "code",
   "execution_count": 110,
   "id": "a1264c16-0acb-4d88-88ae-82db45569dcd",
   "metadata": {
    "tags": []
   },
   "outputs": [
    {
     "data": {
      "text/plain": [
       "<generator object <genexpr> at 0x1074d9150>"
      ]
     },
     "execution_count": 110,
     "metadata": {},
     "output_type": "execute_result"
    }
   ],
   "source": [
    "( i for i in range(1,5))"
   ]
  },
  {
   "cell_type": "code",
   "execution_count": null,
   "id": "ddc54807-01e9-4e51-9c56-ce0b3529587c",
   "metadata": {},
   "outputs": [],
   "source": []
  },
  {
   "cell_type": "code",
   "execution_count": null,
   "id": "2b3f03c9-2a97-4f7d-b234-cbc0ef60ae0f",
   "metadata": {},
   "outputs": [],
   "source": []
  },
  {
   "cell_type": "code",
   "execution_count": 111,
   "id": "d5029f6e-8153-473e-90e4-3ee96ef8e27b",
   "metadata": {
    "tags": []
   },
   "outputs": [
    {
     "data": {
      "text/plain": [
       "[1, 2, 3, 4]"
      ]
     },
     "execution_count": 111,
     "metadata": {},
     "output_type": "execute_result"
    }
   ],
   "source": [
    "[i for i in range(1,5)]"
   ]
  },
  {
   "cell_type": "code",
   "execution_count": null,
   "id": "167636da-457e-40e1-97d6-2ef6d1880aea",
   "metadata": {},
   "outputs": [],
   "source": []
  },
  {
   "cell_type": "code",
   "execution_count": null,
   "id": "561361c2-3901-4c7c-aba8-74ef7eb0699f",
   "metadata": {},
   "outputs": [],
   "source": []
  },
  {
   "cell_type": "code",
   "execution_count": 119,
   "id": "5e9f2677-3486-4d9c-a765-950c175d6f3d",
   "metadata": {
    "tags": []
   },
   "outputs": [],
   "source": [
    "t2 = tuple(i for i in range(1,5))"
   ]
  },
  {
   "cell_type": "code",
   "execution_count": 120,
   "id": "4cfbcef1-9d10-4898-af9e-fb44919b43f6",
   "metadata": {
    "tags": []
   },
   "outputs": [
    {
     "data": {
      "text/plain": [
       "(1, 2, 3, 4)"
      ]
     },
     "execution_count": 120,
     "metadata": {},
     "output_type": "execute_result"
    }
   ],
   "source": [
    "t2"
   ]
  }
 ],
 "metadata": {
  "kernelspec": {
   "display_name": "Python 3 (ipykernel)",
   "language": "python",
   "name": "python3"
  },
  "language_info": {
   "codemirror_mode": {
    "name": "ipython",
    "version": 3
   },
   "file_extension": ".py",
   "mimetype": "text/x-python",
   "name": "python",
   "nbconvert_exporter": "python",
   "pygments_lexer": "ipython3",
   "version": "3.11.5"
  }
 },
 "nbformat": 4,
 "nbformat_minor": 5
}
