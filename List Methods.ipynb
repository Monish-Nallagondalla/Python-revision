{
 "cells": [
  {
   "cell_type": "markdown",
   "id": "99419044-4468-4e7e-88a7-c4b2dd882c84",
   "metadata": {},
   "source": [
    "# List Methods"
   ]
  },
  {
   "cell_type": "markdown",
   "id": "1297c5e2-22b4-4ce3-9fd4-6a774d5d67e1",
   "metadata": {
    "tags": []
   },
   "source": [
    "1. Append()\n",
    "2. extend()\n",
    "3. Insert()\n",
    "4. index()\n",
    "5. count()\n",
    "6. Remove()\n",
    "7. pop()\n",
    "8. clear()\n",
    "9. reverse()\n",
    "10. sort()\n",
    "11. Copy()"
   ]
  },
  {
   "cell_type": "code",
   "execution_count": 8,
   "id": "5cb1b981-6af2-47bd-bd8c-c30b220ceeb0",
   "metadata": {
    "tags": []
   },
   "outputs": [],
   "source": [
    "l1 = [1,2,3,4]"
   ]
  },
  {
   "cell_type": "code",
   "execution_count": 4,
   "id": "1788331e-8ecb-4094-a966-3c3a8b655655",
   "metadata": {
    "tags": []
   },
   "outputs": [],
   "source": [
    "s = \"python\""
   ]
  },
  {
   "cell_type": "code",
   "execution_count": null,
   "id": "3984cccd-68e3-469e-8885-7f253464eab6",
   "metadata": {},
   "outputs": [],
   "source": [
    "s."
   ]
  },
  {
   "cell_type": "markdown",
   "id": "9f7b1cb8-da8c-4805-96c6-6ff8b3b423e0",
   "metadata": {},
   "source": [
    "# Append"
   ]
  },
  {
   "cell_type": "code",
   "execution_count": 5,
   "id": "87759419-d32f-4a9d-9d5d-726ece4a50f6",
   "metadata": {
    "tags": []
   },
   "outputs": [
    {
     "data": {
      "text/plain": [
       "[1, 2, 3, 4]"
      ]
     },
     "execution_count": 5,
     "metadata": {},
     "output_type": "execute_result"
    }
   ],
   "source": [
    "l1"
   ]
  },
  {
   "cell_type": "code",
   "execution_count": 9,
   "id": "039d9046-43ea-475b-a77c-94fcccf220ab",
   "metadata": {
    "tags": []
   },
   "outputs": [
    {
     "data": {
      "text/plain": [
       "[1, 2, 3, 4, 5]"
      ]
     },
     "execution_count": 9,
     "metadata": {},
     "output_type": "execute_result"
    }
   ],
   "source": [
    "l1.append(5)\n",
    "l1"
   ]
  },
  {
   "cell_type": "code",
   "execution_count": 11,
   "id": "6772ce6f-0135-4ab4-9681-f5aeb4986b0b",
   "metadata": {
    "tags": []
   },
   "outputs": [],
   "source": [
    "l1.append(\"python\")\n"
   ]
  },
  {
   "cell_type": "code",
   "execution_count": 12,
   "id": "f3bddf01-0dc0-4351-8aa4-4e2b9a23d256",
   "metadata": {
    "tags": []
   },
   "outputs": [
    {
     "data": {
      "text/plain": [
       "[1, 2, 3, 4, 5, 'python', [1, 2, 3]]"
      ]
     },
     "execution_count": 12,
     "metadata": {},
     "output_type": "execute_result"
    }
   ],
   "source": [
    "l1.append([1,2,3])\n",
    "l1"
   ]
  },
  {
   "cell_type": "markdown",
   "id": "c6d82ebd-bd80-49ee-882d-0c372eec3c60",
   "metadata": {
    "tags": []
   },
   "source": [
    "# Extend"
   ]
  },
  {
   "cell_type": "code",
   "execution_count": 14,
   "id": "cdfa1dc8-b4bc-4c85-bf74-82b980138815",
   "metadata": {
    "tags": []
   },
   "outputs": [],
   "source": [
    "l2 = [1,2,3]"
   ]
  },
  {
   "cell_type": "code",
   "execution_count": 15,
   "id": "401a962f-99e3-4d5b-a18a-8b8cab2b0e1a",
   "metadata": {
    "tags": []
   },
   "outputs": [],
   "source": [
    "l2.extend([4,5])"
   ]
  },
  {
   "cell_type": "code",
   "execution_count": 16,
   "id": "6fc99646-bbd7-46ee-87e4-2ee6ebbda600",
   "metadata": {
    "tags": []
   },
   "outputs": [
    {
     "data": {
      "text/plain": [
       "[1, 2, 3, 4, 5]"
      ]
     },
     "execution_count": 16,
     "metadata": {},
     "output_type": "execute_result"
    }
   ],
   "source": [
    "l2"
   ]
  },
  {
   "cell_type": "code",
   "execution_count": 17,
   "id": "8c3508b3-b7fa-4c06-b56a-1ba9ade481c5",
   "metadata": {
    "tags": []
   },
   "outputs": [],
   "source": [
    "l2.append([4,5])"
   ]
  },
  {
   "cell_type": "code",
   "execution_count": 18,
   "id": "f4d8c21b-5c3d-4c8b-a6a0-df54faed6b8c",
   "metadata": {
    "tags": []
   },
   "outputs": [
    {
     "data": {
      "text/plain": [
       "[1, 2, 3, 4, 5, [4, 5]]"
      ]
     },
     "execution_count": 18,
     "metadata": {},
     "output_type": "execute_result"
    }
   ],
   "source": [
    "l2"
   ]
  },
  {
   "cell_type": "code",
   "execution_count": 20,
   "id": "18df9f08-1289-41b1-bf09-ad45e610cfe6",
   "metadata": {
    "tags": []
   },
   "outputs": [],
   "source": [
    "l2.extend(\"python\")"
   ]
  },
  {
   "cell_type": "code",
   "execution_count": 21,
   "id": "008aa8b3-8e8c-422f-8997-6eb5ecb49521",
   "metadata": {
    "tags": []
   },
   "outputs": [
    {
     "data": {
      "text/plain": [
       "['p', 'y', 't', 'h', 'o', 'n']"
      ]
     },
     "execution_count": 21,
     "metadata": {},
     "output_type": "execute_result"
    }
   ],
   "source": [
    "list(\"python\")"
   ]
  },
  {
   "cell_type": "code",
   "execution_count": 22,
   "id": "8397f269-7513-4344-8c14-d8ab1f84c709",
   "metadata": {
    "tags": []
   },
   "outputs": [
    {
     "data": {
      "text/plain": [
       "[1, 2, 3, 4, 5, [4, 5], 'p', 'y', 't', 'h', 'o', 'n']"
      ]
     },
     "execution_count": 22,
     "metadata": {},
     "output_type": "execute_result"
    }
   ],
   "source": [
    "l2"
   ]
  },
  {
   "cell_type": "code",
   "execution_count": 23,
   "id": "1e12168d-e14b-4d78-b7c0-7ed63520848c",
   "metadata": {
    "tags": []
   },
   "outputs": [
    {
     "ename": "TypeError",
     "evalue": "can only concatenate list (not \"str\") to list",
     "output_type": "error",
     "traceback": [
      "\u001b[0;31m---------------------------------------------------------------------------\u001b[0m",
      "\u001b[0;31mTypeError\u001b[0m                                 Traceback (most recent call last)",
      "Cell \u001b[0;32mIn[23], line 1\u001b[0m\n\u001b[0;32m----> 1\u001b[0m l2 \u001b[38;5;241m+\u001b[39m \u001b[38;5;124m\"\u001b[39m\u001b[38;5;124mpython\u001b[39m\u001b[38;5;124m\"\u001b[39m\n",
      "\u001b[0;31mTypeError\u001b[0m: can only concatenate list (not \"str\") to list"
     ]
    }
   ],
   "source": [
    "l2 + \"python\""
   ]
  },
  {
   "cell_type": "code",
   "execution_count": 24,
   "id": "ff1cea0c-42ed-4cf3-9998-94d8a95bea90",
   "metadata": {
    "tags": []
   },
   "outputs": [
    {
     "data": {
      "text/plain": [
       "[1, 2, 3, 4, 5, [4, 5], 'p', 'y', 't', 'h', 'o', 'n', 1, 2, 3]"
      ]
     },
     "execution_count": 24,
     "metadata": {},
     "output_type": "execute_result"
    }
   ],
   "source": [
    "l2 + [1,2,3]"
   ]
  },
  {
   "cell_type": "code",
   "execution_count": null,
   "id": "f62e420f-09bd-4e06-bfcc-846640ae31a0",
   "metadata": {},
   "outputs": [],
   "source": [
    "l2= l2 + list( #Iterable )"
   ]
  },
  {
   "cell_type": "code",
   "execution_count": 25,
   "id": "ee6116d7-42e8-49e8-944f-baa6a1c822e8",
   "metadata": {
    "tags": []
   },
   "outputs": [
    {
     "ename": "TypeError",
     "evalue": "unsupported operand type(s) for -: 'list' and 'list'",
     "output_type": "error",
     "traceback": [
      "\u001b[0;31m---------------------------------------------------------------------------\u001b[0m",
      "\u001b[0;31mTypeError\u001b[0m                                 Traceback (most recent call last)",
      "Cell \u001b[0;32mIn[25], line 1\u001b[0m\n\u001b[0;32m----> 1\u001b[0m l2 \u001b[38;5;241m-\u001b[39m [\u001b[38;5;241m1\u001b[39m,\u001b[38;5;241m2\u001b[39m,\u001b[38;5;241m3\u001b[39m]\n",
      "\u001b[0;31mTypeError\u001b[0m: unsupported operand type(s) for -: 'list' and 'list'"
     ]
    }
   ],
   "source": [
    "l2 - [1,2,3]"
   ]
  },
  {
   "cell_type": "code",
   "execution_count": 26,
   "id": "39e2ae48-0734-453c-9b12-75437fcb3cd5",
   "metadata": {
    "tags": []
   },
   "outputs": [
    {
     "ename": "TypeError",
     "evalue": "can't multiply sequence by non-int of type 'list'",
     "output_type": "error",
     "traceback": [
      "\u001b[0;31m---------------------------------------------------------------------------\u001b[0m",
      "\u001b[0;31mTypeError\u001b[0m                                 Traceback (most recent call last)",
      "Cell \u001b[0;32mIn[26], line 1\u001b[0m\n\u001b[0;32m----> 1\u001b[0m l2 \u001b[38;5;241m*\u001b[39m [\u001b[38;5;241m1\u001b[39m,\u001b[38;5;241m2\u001b[39m,\u001b[38;5;241m3\u001b[39m]\n",
      "\u001b[0;31mTypeError\u001b[0m: can't multiply sequence by non-int of type 'list'"
     ]
    }
   ],
   "source": [
    "l2 * [1,2,3]"
   ]
  },
  {
   "cell_type": "code",
   "execution_count": 28,
   "id": "31014e63-b879-43ad-9c1f-2db6cc56386c",
   "metadata": {
    "tags": []
   },
   "outputs": [
    {
     "data": {
      "text/plain": [
       "[1, 2, 1, 2, 1, 2]"
      ]
     },
     "execution_count": 28,
     "metadata": {},
     "output_type": "execute_result"
    }
   ],
   "source": [
    "[1,2] * 3"
   ]
  },
  {
   "cell_type": "code",
   "execution_count": null,
   "id": "c1b007b9-1859-45f7-a4b4-6e9ad5171250",
   "metadata": {},
   "outputs": [],
   "source": []
  },
  {
   "cell_type": "markdown",
   "id": "849176e6-ebb4-4823-ab9e-20cc7e5c4854",
   "metadata": {},
   "source": [
    "# Insert"
   ]
  },
  {
   "cell_type": "code",
   "execution_count": 30,
   "id": "a0cff8d6-c349-418a-b38b-d6b57cd76318",
   "metadata": {
    "tags": []
   },
   "outputs": [],
   "source": [
    "l3 = [1,2,4]"
   ]
  },
  {
   "cell_type": "code",
   "execution_count": 31,
   "id": "a3f61ccb-4d06-4cc6-8d85-0133c9688783",
   "metadata": {
    "tags": []
   },
   "outputs": [],
   "source": [
    "l3.append(3)"
   ]
  },
  {
   "cell_type": "code",
   "execution_count": 32,
   "id": "a4cbc9a7-c7c3-4205-a8c5-e5a9db3abce8",
   "metadata": {
    "tags": []
   },
   "outputs": [
    {
     "data": {
      "text/plain": [
       "[1, 2, 4, 3]"
      ]
     },
     "execution_count": 32,
     "metadata": {},
     "output_type": "execute_result"
    }
   ],
   "source": [
    "l3"
   ]
  },
  {
   "cell_type": "code",
   "execution_count": 33,
   "id": "2a8f08f0-9bce-4ca6-9727-c7b1997e242a",
   "metadata": {
    "tags": []
   },
   "outputs": [],
   "source": [
    "l3.insert(2,3)"
   ]
  },
  {
   "cell_type": "code",
   "execution_count": 34,
   "id": "67e41358-1ee0-4e54-8436-3daa29f24d53",
   "metadata": {
    "tags": []
   },
   "outputs": [
    {
     "data": {
      "text/plain": [
       "[1, 2, 3, 4, 3]"
      ]
     },
     "execution_count": 34,
     "metadata": {},
     "output_type": "execute_result"
    }
   ],
   "source": [
    "l3"
   ]
  },
  {
   "cell_type": "code",
   "execution_count": 35,
   "id": "d648fb26-b301-4331-8e4a-732b4138051e",
   "metadata": {
    "tags": []
   },
   "outputs": [],
   "source": [
    "l3.insert(0,0)"
   ]
  },
  {
   "cell_type": "code",
   "execution_count": 36,
   "id": "1d5999c6-a883-454e-86cb-e0ea0279ade6",
   "metadata": {
    "tags": []
   },
   "outputs": [
    {
     "data": {
      "text/plain": [
       "[0, 1, 2, 3, 4, 3]"
      ]
     },
     "execution_count": 36,
     "metadata": {},
     "output_type": "execute_result"
    }
   ],
   "source": [
    "l3"
   ]
  },
  {
   "cell_type": "code",
   "execution_count": null,
   "id": "cce3b21c-2497-4181-9792-5d533fcddd53",
   "metadata": {},
   "outputs": [],
   "source": []
  },
  {
   "cell_type": "markdown",
   "id": "e74317be-bcf6-4ea3-bf53-9f01090e099b",
   "metadata": {
    "tags": []
   },
   "source": [
    "# index ()"
   ]
  },
  {
   "cell_type": "code",
   "execution_count": 38,
   "id": "3ced31f8-7f34-4de9-a946-4cd4f0517644",
   "metadata": {
    "tags": []
   },
   "outputs": [
    {
     "data": {
      "text/plain": [
       "[0, 1, 2, 3, 4, 3]"
      ]
     },
     "execution_count": 38,
     "metadata": {},
     "output_type": "execute_result"
    }
   ],
   "source": [
    "l3"
   ]
  },
  {
   "cell_type": "code",
   "execution_count": 43,
   "id": "e8d2f5db-9a08-43b0-93f4-4441689675e9",
   "metadata": {
    "tags": []
   },
   "outputs": [
    {
     "data": {
      "text/plain": [
       "3"
      ]
     },
     "execution_count": 43,
     "metadata": {},
     "output_type": "execute_result"
    }
   ],
   "source": [
    "l3.index(3)"
   ]
  },
  {
   "cell_type": "code",
   "execution_count": 45,
   "id": "309082e5-8f8c-4b11-9613-72cc8797c6ec",
   "metadata": {
    "tags": []
   },
   "outputs": [
    {
     "data": {
      "text/plain": [
       "5"
      ]
     },
     "execution_count": 45,
     "metadata": {},
     "output_type": "execute_result"
    }
   ],
   "source": [
    "l3.index(3,4)"
   ]
  },
  {
   "cell_type": "code",
   "execution_count": null,
   "id": "1bdb61b0-881b-405f-bd05-f3c94765337d",
   "metadata": {},
   "outputs": [],
   "source": []
  },
  {
   "cell_type": "markdown",
   "id": "004a1dfd-e9e7-4d50-b0f7-e18d9974c8e6",
   "metadata": {},
   "source": [
    "# count()"
   ]
  },
  {
   "cell_type": "code",
   "execution_count": 48,
   "id": "c83826bd-9b2c-469b-983f-a30e1592589b",
   "metadata": {
    "tags": []
   },
   "outputs": [
    {
     "data": {
      "text/plain": [
       "[0, 1, 2, 3, 4, 3]"
      ]
     },
     "execution_count": 48,
     "metadata": {},
     "output_type": "execute_result"
    }
   ],
   "source": [
    "l3"
   ]
  },
  {
   "cell_type": "code",
   "execution_count": 47,
   "id": "4226bd8f-4076-41cf-a49e-e5aff9b84852",
   "metadata": {
    "tags": []
   },
   "outputs": [
    {
     "data": {
      "text/plain": [
       "2"
      ]
     },
     "execution_count": 47,
     "metadata": {},
     "output_type": "execute_result"
    }
   ],
   "source": [
    "l3.count(3)"
   ]
  },
  {
   "cell_type": "code",
   "execution_count": 49,
   "id": "e54426e5-0aef-4faf-907a-44b42d212d02",
   "metadata": {
    "tags": []
   },
   "outputs": [
    {
     "data": {
      "text/plain": [
       "1"
      ]
     },
     "execution_count": 49,
     "metadata": {},
     "output_type": "execute_result"
    }
   ],
   "source": [
    "l3.count(1)"
   ]
  },
  {
   "cell_type": "code",
   "execution_count": 50,
   "id": "9a261fd6-ad19-4e1a-8209-3fba7bcaadaa",
   "metadata": {
    "tags": []
   },
   "outputs": [
    {
     "data": {
      "text/plain": [
       "0"
      ]
     },
     "execution_count": 50,
     "metadata": {},
     "output_type": "execute_result"
    }
   ],
   "source": [
    "l3.count(10)"
   ]
  },
  {
   "cell_type": "code",
   "execution_count": null,
   "id": "14bfe338-50ec-4fec-9c5c-9c717ea71767",
   "metadata": {},
   "outputs": [],
   "source": []
  },
  {
   "cell_type": "markdown",
   "id": "588f4a32-dce8-437a-af23-cdd7f0b2faff",
   "metadata": {},
   "source": [
    "# Remove"
   ]
  },
  {
   "cell_type": "code",
   "execution_count": 51,
   "id": "3ca0c44b-9b8f-406b-b08c-2a3bd1046dfe",
   "metadata": {
    "tags": []
   },
   "outputs": [
    {
     "data": {
      "text/plain": [
       "[0, 1, 2, 3, 4, 3]"
      ]
     },
     "execution_count": 51,
     "metadata": {},
     "output_type": "execute_result"
    }
   ],
   "source": [
    "l3"
   ]
  },
  {
   "cell_type": "code",
   "execution_count": 52,
   "id": "9c74294e-afc5-453e-8de6-0a04f7cf7f22",
   "metadata": {
    "tags": []
   },
   "outputs": [],
   "source": [
    "l3.remove(3)"
   ]
  },
  {
   "cell_type": "code",
   "execution_count": 53,
   "id": "2dab6f4b-2ec1-4be4-910b-2ecf1a92cc9e",
   "metadata": {
    "tags": []
   },
   "outputs": [
    {
     "data": {
      "text/plain": [
       "[0, 1, 2, 4, 3]"
      ]
     },
     "execution_count": 53,
     "metadata": {},
     "output_type": "execute_result"
    }
   ],
   "source": [
    "l3"
   ]
  },
  {
   "cell_type": "code",
   "execution_count": 54,
   "id": "63b0a4d7-2996-49aa-9936-3a7450037488",
   "metadata": {
    "tags": []
   },
   "outputs": [
    {
     "ename": "ValueError",
     "evalue": "list.remove(x): x not in list",
     "output_type": "error",
     "traceback": [
      "\u001b[0;31m---------------------------------------------------------------------------\u001b[0m",
      "\u001b[0;31mValueError\u001b[0m                                Traceback (most recent call last)",
      "Cell \u001b[0;32mIn[54], line 1\u001b[0m\n\u001b[0;32m----> 1\u001b[0m l3\u001b[38;5;241m.\u001b[39mremove(\u001b[38;5;241m10\u001b[39m)\n",
      "\u001b[0;31mValueError\u001b[0m: list.remove(x): x not in list"
     ]
    }
   ],
   "source": [
    "l3.remove(10)"
   ]
  },
  {
   "cell_type": "code",
   "execution_count": null,
   "id": "65f549db-c671-4f13-9669-8cf5332a0cae",
   "metadata": {},
   "outputs": [],
   "source": []
  },
  {
   "cell_type": "markdown",
   "id": "066ef86c-f532-4011-a3ba-169dabb9f69c",
   "metadata": {
    "tags": []
   },
   "source": [
    "# pop()"
   ]
  },
  {
   "cell_type": "code",
   "execution_count": 56,
   "id": "6400066d-c313-43a8-92ae-c97222298156",
   "metadata": {
    "tags": []
   },
   "outputs": [
    {
     "data": {
      "text/plain": [
       "[0, 1, 2, 4, 3]"
      ]
     },
     "execution_count": 56,
     "metadata": {},
     "output_type": "execute_result"
    }
   ],
   "source": [
    "l3"
   ]
  },
  {
   "cell_type": "code",
   "execution_count": 57,
   "id": "e6133df1-de12-4425-93b9-d85b93330884",
   "metadata": {
    "tags": []
   },
   "outputs": [
    {
     "data": {
      "text/plain": [
       "3"
      ]
     },
     "execution_count": 57,
     "metadata": {},
     "output_type": "execute_result"
    }
   ],
   "source": [
    "l3.pop()"
   ]
  },
  {
   "cell_type": "code",
   "execution_count": 58,
   "id": "f7111197-b3d9-47eb-8448-cc0166153a95",
   "metadata": {
    "tags": []
   },
   "outputs": [
    {
     "data": {
      "text/plain": [
       "0"
      ]
     },
     "execution_count": 58,
     "metadata": {},
     "output_type": "execute_result"
    }
   ],
   "source": [
    "l3.pop(0)"
   ]
  },
  {
   "cell_type": "code",
   "execution_count": 59,
   "id": "0e92e685-32d5-4472-8cab-6ff4274d3bef",
   "metadata": {
    "tags": []
   },
   "outputs": [
    {
     "data": {
      "text/plain": [
       "[1, 2, 4]"
      ]
     },
     "execution_count": 59,
     "metadata": {},
     "output_type": "execute_result"
    }
   ],
   "source": [
    "l3"
   ]
  },
  {
   "cell_type": "code",
   "execution_count": null,
   "id": "30183cfd-a553-41d0-8ab8-c7d191176520",
   "metadata": {},
   "outputs": [],
   "source": []
  },
  {
   "cell_type": "markdown",
   "id": "23beaa28-cbde-4f39-8b36-bf7a8b9492a5",
   "metadata": {},
   "source": [
    "# clear()"
   ]
  },
  {
   "cell_type": "code",
   "execution_count": 60,
   "id": "b7a071da-cebe-4c03-842e-c2aedf1fc840",
   "metadata": {
    "tags": []
   },
   "outputs": [
    {
     "data": {
      "text/plain": [
       "[1, 2, 4]"
      ]
     },
     "execution_count": 60,
     "metadata": {},
     "output_type": "execute_result"
    }
   ],
   "source": [
    "l3"
   ]
  },
  {
   "cell_type": "code",
   "execution_count": 61,
   "id": "a3072a9f-f764-4b53-accf-503322ed290f",
   "metadata": {
    "tags": []
   },
   "outputs": [],
   "source": [
    "l3.clear()"
   ]
  },
  {
   "cell_type": "code",
   "execution_count": 62,
   "id": "d628ed04-0264-4db3-b438-830346b805af",
   "metadata": {
    "tags": []
   },
   "outputs": [
    {
     "data": {
      "text/plain": [
       "[]"
      ]
     },
     "execution_count": 62,
     "metadata": {},
     "output_type": "execute_result"
    }
   ],
   "source": [
    "l3"
   ]
  },
  {
   "cell_type": "code",
   "execution_count": 63,
   "id": "07bde68a-5f0d-4174-bc9b-1f38a4764d3b",
   "metadata": {
    "tags": []
   },
   "outputs": [],
   "source": [
    "del l3"
   ]
  },
  {
   "cell_type": "code",
   "execution_count": 64,
   "id": "ff3f2ad6-5a98-4cbd-a112-e13170242fdf",
   "metadata": {
    "tags": []
   },
   "outputs": [
    {
     "ename": "NameError",
     "evalue": "name 'l3' is not defined",
     "output_type": "error",
     "traceback": [
      "\u001b[0;31m---------------------------------------------------------------------------\u001b[0m",
      "\u001b[0;31mNameError\u001b[0m                                 Traceback (most recent call last)",
      "Cell \u001b[0;32mIn[64], line 1\u001b[0m\n\u001b[0;32m----> 1\u001b[0m l3\n",
      "\u001b[0;31mNameError\u001b[0m: name 'l3' is not defined"
     ]
    }
   ],
   "source": [
    "l3"
   ]
  },
  {
   "cell_type": "code",
   "execution_count": null,
   "id": "6b57ce83-1a5d-4339-a0d2-4fa915bfae4f",
   "metadata": {},
   "outputs": [],
   "source": []
  },
  {
   "cell_type": "markdown",
   "id": "bd23e5f6-c6a9-463c-96d6-22339128042b",
   "metadata": {},
   "source": [
    "# reverse()"
   ]
  },
  {
   "cell_type": "code",
   "execution_count": 65,
   "id": "0a1591ac-a66a-4138-bdc6-9e1a688f0d66",
   "metadata": {
    "tags": []
   },
   "outputs": [],
   "source": [
    "l4 = [1,2,3,4]"
   ]
  },
  {
   "cell_type": "code",
   "execution_count": 66,
   "id": "473b944b-96e0-44a9-8044-a2d964d7dbab",
   "metadata": {
    "tags": []
   },
   "outputs": [],
   "source": [
    "l4.reverse()"
   ]
  },
  {
   "cell_type": "code",
   "execution_count": 67,
   "id": "b1535fa4-e10c-43e9-9609-ea3365d38af5",
   "metadata": {
    "tags": []
   },
   "outputs": [
    {
     "data": {
      "text/plain": [
       "[4, 3, 2, 1]"
      ]
     },
     "execution_count": 67,
     "metadata": {},
     "output_type": "execute_result"
    }
   ],
   "source": [
    "l4"
   ]
  },
  {
   "cell_type": "code",
   "execution_count": null,
   "id": "fe81839b-8273-4b12-9aa0-dc1ef0e11739",
   "metadata": {},
   "outputs": [],
   "source": []
  },
  {
   "cell_type": "markdown",
   "id": "b8d5e344-1c78-450c-bdc5-77cc31804da5",
   "metadata": {
    "tags": []
   },
   "source": [
    "# sort()"
   ]
  },
  {
   "cell_type": "code",
   "execution_count": 69,
   "id": "fa2d1b3b-a2e0-4fd0-af69-83988dd3cbef",
   "metadata": {
    "tags": []
   },
   "outputs": [],
   "source": [
    "l5 = [5,2,7,2,0]"
   ]
  },
  {
   "cell_type": "code",
   "execution_count": 71,
   "id": "9ca01e4c-f684-4be8-a7c3-26cf3305b7ba",
   "metadata": {
    "tags": []
   },
   "outputs": [],
   "source": [
    "l5.sort()"
   ]
  },
  {
   "cell_type": "code",
   "execution_count": 72,
   "id": "7bf9803f-1468-4d3a-9d33-454746f48b62",
   "metadata": {
    "tags": []
   },
   "outputs": [
    {
     "data": {
      "text/plain": [
       "[0, 2, 2, 5, 7]"
      ]
     },
     "execution_count": 72,
     "metadata": {},
     "output_type": "execute_result"
    }
   ],
   "source": [
    "l5"
   ]
  },
  {
   "cell_type": "code",
   "execution_count": 73,
   "id": "d880ea1e-a6f1-4cbb-8658-704618db13bc",
   "metadata": {
    "tags": []
   },
   "outputs": [],
   "source": [
    "l6 = [2,\"mayank\",4,3+5j]"
   ]
  },
  {
   "cell_type": "code",
   "execution_count": 75,
   "id": "31323e96-c93f-4918-8b8c-e2a04472a43d",
   "metadata": {
    "tags": []
   },
   "outputs": [
    {
     "ename": "TypeError",
     "evalue": "'<' not supported between instances of 'str' and 'int'",
     "output_type": "error",
     "traceback": [
      "\u001b[0;31m---------------------------------------------------------------------------\u001b[0m",
      "\u001b[0;31mTypeError\u001b[0m                                 Traceback (most recent call last)",
      "Cell \u001b[0;32mIn[75], line 1\u001b[0m\n\u001b[0;32m----> 1\u001b[0m l6\u001b[38;5;241m.\u001b[39msort()\n",
      "\u001b[0;31mTypeError\u001b[0m: '<' not supported between instances of 'str' and 'int'"
     ]
    }
   ],
   "source": [
    "l6.sort()"
   ]
  },
  {
   "cell_type": "code",
   "execution_count": 76,
   "id": "e82a3186-218d-4c69-8260-983f82f2e903",
   "metadata": {
    "tags": []
   },
   "outputs": [],
   "source": [
    "l7 = [\"213\",\"abc\"]"
   ]
  },
  {
   "cell_type": "code",
   "execution_count": 77,
   "id": "bb8c9727-ce41-4185-b95e-4fdb104fff98",
   "metadata": {
    "tags": []
   },
   "outputs": [],
   "source": [
    "l7.sort()"
   ]
  },
  {
   "cell_type": "code",
   "execution_count": 78,
   "id": "4f5da8e8-fac9-4d43-b1ee-3b6d3fc9e291",
   "metadata": {
    "tags": []
   },
   "outputs": [
    {
     "data": {
      "text/plain": [
       "['213', 'abc']"
      ]
     },
     "execution_count": 78,
     "metadata": {},
     "output_type": "execute_result"
    }
   ],
   "source": [
    "l7"
   ]
  },
  {
   "cell_type": "code",
   "execution_count": null,
   "id": "290ad04b-a54e-4139-a92e-21f7eb1e4f3e",
   "metadata": {},
   "outputs": [],
   "source": []
  },
  {
   "cell_type": "markdown",
   "id": "4f73a338-2855-411f-9f46-be2da3f9eb71",
   "metadata": {},
   "source": [
    "# Copy()"
   ]
  },
  {
   "cell_type": "code",
   "execution_count": 79,
   "id": "82370d5e-5ca2-4c26-b4bf-d9da92fafc26",
   "metadata": {
    "tags": []
   },
   "outputs": [
    {
     "data": {
      "text/plain": [
       "[1, 2, 3, 4, 5, 6, 7, 8, 9]"
      ]
     },
     "execution_count": 79,
     "metadata": {},
     "output_type": "execute_result"
    }
   ],
   "source": [
    "l8 = [ i for i in range(1,10)]\n",
    "l8"
   ]
  },
  {
   "cell_type": "code",
   "execution_count": 80,
   "id": "15223d97-5bf8-49c5-a391-4a711c77137e",
   "metadata": {
    "tags": []
   },
   "outputs": [
    {
     "data": {
      "text/plain": [
       "[1, 2, 3, 4, 5, 6, 7, 8, 9]"
      ]
     },
     "execution_count": 80,
     "metadata": {},
     "output_type": "execute_result"
    }
   ],
   "source": [
    "l8\n"
   ]
  },
  {
   "cell_type": "code",
   "execution_count": 82,
   "id": "ab2ae756-bab2-4b65-91cc-6471f783515d",
   "metadata": {
    "tags": []
   },
   "outputs": [],
   "source": [
    "l9 = l8.copy()"
   ]
  },
  {
   "cell_type": "code",
   "execution_count": 83,
   "id": "0f45414b-684a-4d63-bc4a-018850c3908d",
   "metadata": {
    "tags": []
   },
   "outputs": [
    {
     "data": {
      "text/plain": [
       "[1, 2, 3, 4, 5, 6, 7, 8, 9]"
      ]
     },
     "execution_count": 83,
     "metadata": {},
     "output_type": "execute_result"
    }
   ],
   "source": [
    "l9"
   ]
  },
  {
   "cell_type": "code",
   "execution_count": 84,
   "id": "da0ca5a2-8f00-43e1-8a1f-7e408040123c",
   "metadata": {
    "tags": []
   },
   "outputs": [
    {
     "data": {
      "text/plain": [
       "(4410322432, 4410560064)"
      ]
     },
     "execution_count": 84,
     "metadata": {},
     "output_type": "execute_result"
    }
   ],
   "source": [
    "id(l9),id(l8)"
   ]
  },
  {
   "cell_type": "code",
   "execution_count": 85,
   "id": "ac1112b6-0f75-4b3c-95ec-6103d88d9a9a",
   "metadata": {
    "tags": []
   },
   "outputs": [
    {
     "data": {
      "text/plain": [
       "9"
      ]
     },
     "execution_count": 85,
     "metadata": {},
     "output_type": "execute_result"
    }
   ],
   "source": [
    "l8.pop()"
   ]
  },
  {
   "cell_type": "code",
   "execution_count": 86,
   "id": "08dbb91b-87f1-475b-b590-c4ce862f5290",
   "metadata": {
    "tags": []
   },
   "outputs": [
    {
     "data": {
      "text/plain": [
       "[1, 2, 3, 4, 5, 6, 7, 8]"
      ]
     },
     "execution_count": 86,
     "metadata": {},
     "output_type": "execute_result"
    }
   ],
   "source": [
    "l8"
   ]
  },
  {
   "cell_type": "code",
   "execution_count": 87,
   "id": "4241c235-0fe5-4c48-a6a4-ae015a40febd",
   "metadata": {
    "tags": []
   },
   "outputs": [
    {
     "data": {
      "text/plain": [
       "[1, 2, 3, 4, 5, 6, 7, 8, 9]"
      ]
     },
     "execution_count": 87,
     "metadata": {},
     "output_type": "execute_result"
    }
   ],
   "source": [
    "l9"
   ]
  }
 ],
 "metadata": {
  "kernelspec": {
   "display_name": "Python 3 (ipykernel)",
   "language": "python",
   "name": "python3"
  },
  "language_info": {
   "codemirror_mode": {
    "name": "ipython",
    "version": 3
   },
   "file_extension": ".py",
   "mimetype": "text/x-python",
   "name": "python",
   "nbconvert_exporter": "python",
   "pygments_lexer": "ipython3",
   "version": "3.11.5"
  }
 },
 "nbformat": 4,
 "nbformat_minor": 5
}
