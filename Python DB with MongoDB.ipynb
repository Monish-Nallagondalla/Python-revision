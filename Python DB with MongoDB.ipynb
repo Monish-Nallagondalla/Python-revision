{
 "cells": [
  {
   "cell_type": "markdown",
   "id": "258ab6e0",
   "metadata": {},
   "source": [
    "# MongoDB Operations with Python\n",
    "\n",
    "This notebook demonstrates how to connect to a MongoDB database, fetch collections, and perform basic CRUD operations using Python. We'll use the `pymongo` library for database connectivity."
   ]
  },
  {
   "cell_type": "code",
   "execution_count": null,
   "id": "3a1966c7-9ef4-4e7b-b7a9-953fb0fd767c",
   "metadata": {},
   "outputs": [],
   "source": [
    "!pip install pymongo"
   ]
  },
  {
   "cell_type": "markdown",
   "id": "3f5b0c71",
   "metadata": {},
   "source": [
    "## Connecting to the Database\n",
    "\n",
    "We'll start by connecting to the MongoDB database using the provided connection string."
   ]
  },
  {
   "cell_type": "code",
   "execution_count": null,
   "id": "47240e46-0611-4192-adab-f67ef410cafa",
   "metadata": {},
   "outputs": [],
   "source": []
  },
  {
   "cell_type": "code",
   "execution_count": null,
   "id": "72812872-adf5-48bf-8159-9d041c63daa5",
   "metadata": {},
   "outputs": [],
   "source": [
    "password = \"2kuMkBkouedCPzZl\""
   ]
  },
  {
   "cell_type": "code",
   "execution_count": null,
   "id": "7e22b2c5-513e-46f2-b350-213f151e2b09",
   "metadata": {},
   "outputs": [],
   "source": []
  },
  {
   "cell_type": "code",
   "execution_count": 1,
   "id": "f1f2e372",
   "metadata": {},
   "outputs": [
    {
     "name": "stdout",
     "output_type": "stream",
     "text": [
      "Connection to MongoDB successful\n"
     ]
    }
   ],
   "source": [
    "import pymongo\n",
    "from pymongo import MongoClient\n",
    "import urllib.parse\n",
    "#from pymongo.errors import ConnectionError\n",
    "# MongoDB connection details\n",
    "\n",
    "username = \"username\"\n",
    "password = \"2kuMkBkouedCPzZl\"\n",
    "cluster = \"myfreecluster.jlxsmog.mongodb.net\"\n",
    "database_name = \"test_db\"  # Replace with your database name\n",
    "\n",
    "\n",
    "# Encode username and password\n",
    "encoded_username = urllib.parse.quote_plus(username)\n",
    "encoded_password = urllib.parse.quote_plus(password)\n",
    "\n",
    "# Function to create a database connection\n",
    "def create_connection(connection_string):\n",
    "    try:\n",
    "        client = MongoClient(connection_string)\n",
    "        print(\"Connection to MongoDB successful\")\n",
    "        return client\n",
    "    except:\n",
    "        print(\"unable to connect\")\n",
    "\n",
    "# Connect to the database\n",
    "# MongoDB connection string\n",
    "connection_string = f\"mongodb+srv://{encoded_username}:{encoded_password}@{cluster}/{database_name}?retryWrites=true&w=majority&appName=MyFreeCluster\"\n",
    "\n",
    "client = create_connection(connection_string)"
   ]
  },
  {
   "cell_type": "code",
   "execution_count": null,
   "id": "9b417d39-189f-4842-9580-e1e6c04ffe5b",
   "metadata": {},
   "outputs": [],
   "source": []
  },
  {
   "cell_type": "markdown",
   "id": "da334ba0",
   "metadata": {},
   "source": [
    "## Fetching All Collections\n",
    "\n",
    "Next, we'll fetch and display all the collections in the connected database."
   ]
  },
  {
   "cell_type": "code",
   "execution_count": 25,
   "id": "c06a6387",
   "metadata": {},
   "outputs": [
    {
     "name": "stdout",
     "output_type": "stream",
     "text": [
      "Collections in the database:\n",
      "People\n"
     ]
    }
   ],
   "source": [
    "# Function to fetch all collections\n",
    "def fetch_collections(database):\n",
    "    try:\n",
    "        collections = database.list_collection_names()\n",
    "        return collections\n",
    "    except Exception as e:\n",
    "        print(f\"The error '{e}' occurred\")\n",
    "        return None\n",
    "\n",
    "# Select the database\n",
    "database = client.get_database('Test')\n",
    "\n",
    "# Fetch and print all collection names\n",
    "collections = fetch_collections(database)\n",
    "if collections:\n",
    "    print(\"Collections in the database:\")\n",
    "    for collection in collections:\n",
    "        print(collection)\n",
    "else :\n",
    "    print(collections)\n",
    "    print(\"unable to connect\")"
   ]
  },
  {
   "cell_type": "markdown",
   "id": "db82f5b3",
   "metadata": {},
   "source": [
    "## Creating a New Collection and Inserting Documents\n",
    "\n",
    "We'll create a new collection named `test_collection` and insert some documents into it."
   ]
  },
  {
   "cell_type": "code",
   "execution_count": 37,
   "id": "39f286cc",
   "metadata": {},
   "outputs": [
    {
     "name": "stdout",
     "output_type": "stream",
     "text": [
      "Documents inserted successfully\n"
     ]
    }
   ],
   "source": [
    "# Insert documents into the collection\n",
    "def insert_documents(collection, documents):\n",
    "    try:\n",
    "        collection.insert_many(documents)\n",
    "        print(\"Documents inserted successfully\")\n",
    "    except Exception as e:\n",
    "        print(f\"The error '{e}' occurred\")\n",
    "\n",
    "# Create a new collection\n",
    "collection = database.get_collection('People2')\n",
    "\n",
    "# Documents to insert\n",
    "documents = [\n",
    "    {\"name\": \"Alice\", \"age\": 21},\n",
    "    {\"name\": \"Bob\", \"age\": 22},\n",
    "    {\"name\": \"Charlie\", \"age\": 23}\n",
    "]\n",
    "\n",
    "# Insert documents\n",
    "insert_documents(collection, documents)"
   ]
  },
  {
   "cell_type": "markdown",
   "id": "cd6d1fe6",
   "metadata": {},
   "source": [
    "## Reading Documents from the Collection\n",
    "\n",
    "We'll read and display the documents from the `test_collection`."
   ]
  },
  {
   "cell_type": "code",
   "execution_count": 31,
   "id": "fa48ebc3",
   "metadata": {},
   "outputs": [
    {
     "name": "stdout",
     "output_type": "stream",
     "text": [
      "Documents in test_collection:\n",
      "{'_id': ObjectId('667e8d1e7dc0d942f828e642'), 'name': 'Alice', 'age': 21}\n",
      "{'_id': ObjectId('667e8d1e7dc0d942f828e643'), 'name': 'Bob', 'age': 22}\n",
      "{'_id': ObjectId('667e8d1e7dc0d942f828e644'), 'name': 'Charlie', 'age': 23}\n"
     ]
    }
   ],
   "source": [
    "# Read documents from the collection\n",
    "def read_documents(collection):\n",
    "    try:\n",
    "        documents = collection.find()\n",
    "        return list(documents)\n",
    "    except Exception as e:\n",
    "        print(f\"The error '{e}' occurred\")\n",
    "        return None\n",
    "\n",
    "# Read and print documents\n",
    "documents = read_documents(collection)\n",
    "if documents:\n",
    "    print(\"Documents in test_collection:\")\n",
    "    for document in documents:\n",
    "        print(document)"
   ]
  },
  {
   "cell_type": "markdown",
   "id": "db9b062d",
   "metadata": {},
   "source": [
    "## Updating Documents in the Collection\n",
    "\n",
    "We'll update the age of one of the documents in the `test_collection`."
   ]
  },
  {
   "cell_type": "code",
   "execution_count": 33,
   "id": "6805ae4a",
   "metadata": {},
   "outputs": [
    {
     "name": "stdout",
     "output_type": "stream",
     "text": [
      "Document updated successfully\n"
     ]
    }
   ],
   "source": [
    "# Update a document in the collection\n",
    "def update_document(collection, query, new_values):\n",
    "    try:\n",
    "        collection.update_one(query, {'$set': new_values})\n",
    "        print(\"Document updated successfully\")\n",
    "    except Exception as e:\n",
    "        print(f\"The error '{e}' occurred\")\n",
    "\n",
    "# Query and new values\n",
    "query = {\"name\": \"Charlie\"}\n",
    "new_values = {\"age\": 240}\n",
    "\n",
    "# Update document\n",
    "update_document(collection, query, new_values)"
   ]
  },
  {
   "cell_type": "markdown",
   "id": "f24906c6",
   "metadata": {},
   "source": [
    "## Reading Documents to Verify the Update\n",
    "\n",
    "We'll read and display the documents from the `test_collection` to verify the update."
   ]
  },
  {
   "cell_type": "code",
   "execution_count": 35,
   "id": "3055b076",
   "metadata": {},
   "outputs": [
    {
     "name": "stdout",
     "output_type": "stream",
     "text": [
      "Documents in test_collection after update:\n",
      "{'_id': ObjectId('667e8d1e7dc0d942f828e642'), 'name': 'Alice', 'age': 21}\n",
      "{'_id': ObjectId('667e8d1e7dc0d942f828e643'), 'name': 'Bob', 'age': 22}\n",
      "{'_id': ObjectId('667e8d1e7dc0d942f828e644'), 'name': 'Charlie', 'age': 240}\n"
     ]
    }
   ],
   "source": [
    "# Read and print documents to verify the update\n",
    "documents = read_documents(collection)\n",
    "if documents:\n",
    "    print(\"Documents in test_collection after update:\")\n",
    "    for document in documents:\n",
    "        print(document)"
   ]
  },
  {
   "cell_type": "markdown",
   "id": "05cb2764",
   "metadata": {},
   "source": [
    "## Deleting Documents from the Collection\n",
    "\n",
    "We'll delete one of the documents from the `test_collection`."
   ]
  },
  {
   "cell_type": "code",
   "execution_count": 41,
   "id": "7b19db25",
   "metadata": {},
   "outputs": [
    {
     "name": "stdout",
     "output_type": "stream",
     "text": [
      "Document deleted successfully\n"
     ]
    }
   ],
   "source": [
    "# Delete a document from the collection\n",
    "def delete_document(collection, query):\n",
    "    try:\n",
    "        collection.delete_many(query)\n",
    "        print(\"Document deleted successfully\")\n",
    "    except Exception as e:\n",
    "        print(f\"The error '{e}' occurred\")\n",
    "\n",
    "# Query to delete\n",
    "query = {\"name\": \"Alice\"}\n",
    "\n",
    "# Delete document\n",
    "delete_document(collection, query)"
   ]
  },
  {
   "cell_type": "markdown",
   "id": "ef4bde16",
   "metadata": {},
   "source": [
    "## Reading Documents to Verify the Deletion\n",
    "\n",
    "We'll read and display the documents from the `test_collection` to verify the deletion."
   ]
  },
  {
   "cell_type": "code",
   "execution_count": 43,
   "id": "df879cbe",
   "metadata": {},
   "outputs": [
    {
     "name": "stdout",
     "output_type": "stream",
     "text": [
      "Documents in test_collection after deletion:\n",
      "{'_id': ObjectId('667e8d1e7dc0d942f828e643'), 'name': 'Bob', 'age': 22}\n",
      "{'_id': ObjectId('667e8d967dc0d942f828e646'), 'name': 'Bob', 'age': 22}\n",
      "{'_id': ObjectId('667e8d967dc0d942f828e647'), 'name': 'Charlie', 'age': 23}\n"
     ]
    }
   ],
   "source": [
    "# Read and print documents to verify the deletion\n",
    "documents = read_documents(collection)\n",
    "if documents:\n",
    "    print(\"Documents in test_collection after deletion:\")\n",
    "    for document in documents:\n",
    "        print(document)"
   ]
  },
  {
   "cell_type": "markdown",
   "id": "7e6e29fd",
   "metadata": {},
   "source": [
    "## Closing the Database Connection\n",
    "\n",
    "Finally, we'll close the database connection."
   ]
  },
  {
   "cell_type": "code",
   "execution_count": 45,
   "id": "ef234d63",
   "metadata": {},
   "outputs": [
    {
     "name": "stdout",
     "output_type": "stream",
     "text": [
      "Database connection closed!\n"
     ]
    }
   ],
   "source": [
    "# Close the database connection\n",
    "client.close()\n",
    "print('Database connection closed!')"
   ]
  }
 ],
 "metadata": {
  "kernelspec": {
   "display_name": "Python 3 (ipykernel)",
   "language": "python",
   "name": "python3"
  },
  "language_info": {
   "codemirror_mode": {
    "name": "ipython",
    "version": 3
   },
   "file_extension": ".py",
   "mimetype": "text/x-python",
   "name": "python",
   "nbconvert_exporter": "python",
   "pygments_lexer": "ipython3",
   "version": "3.11.5"
  }
 },
 "nbformat": 4,
 "nbformat_minor": 5
}
