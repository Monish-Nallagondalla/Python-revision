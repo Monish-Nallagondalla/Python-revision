{
 "cells": [
  {
   "cell_type": "code",
   "execution_count": 1,
   "id": "bfa753ca-3087-4472-a11c-6b656b37d016",
   "metadata": {
    "tags": []
   },
   "outputs": [],
   "source": [
    "l = []"
   ]
  },
  {
   "cell_type": "code",
   "execution_count": 2,
   "id": "6e12d7d0-37fb-4e39-8d78-5f3248ce3d46",
   "metadata": {
    "tags": []
   },
   "outputs": [
    {
     "data": {
      "text/plain": [
       "list"
      ]
     },
     "execution_count": 2,
     "metadata": {},
     "output_type": "execute_result"
    }
   ],
   "source": [
    "type(l)"
   ]
  },
  {
   "cell_type": "code",
   "execution_count": 3,
   "id": "47a7ff31-f38c-48cf-a552-d92d7483fb92",
   "metadata": {
    "tags": []
   },
   "outputs": [],
   "source": [
    "l1 = list()"
   ]
  },
  {
   "cell_type": "code",
   "execution_count": 4,
   "id": "721d0c39-dfe7-498a-97c8-98bfd34b09bf",
   "metadata": {
    "tags": []
   },
   "outputs": [
    {
     "data": {
      "text/plain": [
       "list"
      ]
     },
     "execution_count": 4,
     "metadata": {},
     "output_type": "execute_result"
    }
   ],
   "source": [
    "type(l1)"
   ]
  },
  {
   "cell_type": "code",
   "execution_count": 5,
   "id": "8d52b93f-1cd0-4252-b2f7-16f4c8f9c3b9",
   "metadata": {
    "tags": []
   },
   "outputs": [
    {
     "name": "stdout",
     "output_type": "stream",
     "text": [
      "[]\n"
     ]
    }
   ],
   "source": [
    "print(l1)"
   ]
  },
  {
   "cell_type": "code",
   "execution_count": 6,
   "id": "2124645d-aa11-47b7-9c21-d35aa3fe41e5",
   "metadata": {
    "tags": []
   },
   "outputs": [],
   "source": [
    "l2 = [1,2,3,4]"
   ]
  },
  {
   "cell_type": "code",
   "execution_count": 7,
   "id": "501e1e9e-214c-456e-a6bf-592e6baa3c57",
   "metadata": {
    "tags": []
   },
   "outputs": [
    {
     "data": {
      "text/plain": [
       "list"
      ]
     },
     "execution_count": 7,
     "metadata": {},
     "output_type": "execute_result"
    }
   ],
   "source": [
    "type(l2)"
   ]
  },
  {
   "cell_type": "code",
   "execution_count": 8,
   "id": "7b9072f8-2c44-4214-8b54-29422d3b52b8",
   "metadata": {
    "tags": []
   },
   "outputs": [
    {
     "data": {
      "text/plain": [
       "3"
      ]
     },
     "execution_count": 8,
     "metadata": {},
     "output_type": "execute_result"
    }
   ],
   "source": [
    "l2[2]"
   ]
  },
  {
   "cell_type": "code",
   "execution_count": 9,
   "id": "737fb684-e33c-4785-b248-c249a802cc8e",
   "metadata": {
    "tags": []
   },
   "outputs": [
    {
     "name": "stdout",
     "output_type": "stream",
     "text": [
      "[1, 2, 3, 4]\n"
     ]
    }
   ],
   "source": [
    "print(l2)"
   ]
  },
  {
   "cell_type": "code",
   "execution_count": 12,
   "id": "114a92e1-e102-471c-8d2b-cad590ff5fef",
   "metadata": {
    "tags": []
   },
   "outputs": [
    {
     "name": "stdout",
     "output_type": "stream",
     "text": [
      "1\n",
      "2\n",
      "3\n",
      "4\n"
     ]
    }
   ],
   "source": [
    "for elem in l2:\n",
    "    print(elem)"
   ]
  },
  {
   "cell_type": "code",
   "execution_count": 13,
   "id": "41cfa31a-3f88-4626-a21c-20fef4c2a705",
   "metadata": {
    "tags": []
   },
   "outputs": [
    {
     "data": {
      "text/plain": [
       "2"
      ]
     },
     "execution_count": 13,
     "metadata": {},
     "output_type": "execute_result"
    }
   ],
   "source": [
    "l2[1]"
   ]
  },
  {
   "cell_type": "code",
   "execution_count": 14,
   "id": "f2387a1b-7d7b-451e-815a-d4c4e58aa659",
   "metadata": {
    "tags": []
   },
   "outputs": [
    {
     "data": {
      "text/plain": [
       "[1, 2, 3, 4]"
      ]
     },
     "execution_count": 14,
     "metadata": {},
     "output_type": "execute_result"
    }
   ],
   "source": [
    "l2"
   ]
  },
  {
   "cell_type": "code",
   "execution_count": 15,
   "id": "bc512f85-204e-4b90-8482-fa8cde2e62f2",
   "metadata": {
    "tags": []
   },
   "outputs": [
    {
     "data": {
      "text/plain": [
       "[1, 2, 3, 4]"
      ]
     },
     "execution_count": 15,
     "metadata": {},
     "output_type": "execute_result"
    }
   ],
   "source": [
    "l2"
   ]
  },
  {
   "cell_type": "code",
   "execution_count": 17,
   "id": "7ac0a55a-0d32-4251-88c9-d8929bf8fc19",
   "metadata": {
    "tags": []
   },
   "outputs": [
    {
     "data": {
      "text/plain": [
       "[1, 3]"
      ]
     },
     "execution_count": 17,
     "metadata": {},
     "output_type": "execute_result"
    }
   ],
   "source": [
    "l2[0:4:2]"
   ]
  },
  {
   "cell_type": "code",
   "execution_count": 19,
   "id": "3e39569c-c394-4903-959a-5a37df8badd2",
   "metadata": {
    "tags": []
   },
   "outputs": [
    {
     "data": {
      "text/plain": [
       "[0, 1, 2, 3, 4, 5, 6, 7, 8, 9]"
      ]
     },
     "execution_count": 19,
     "metadata": {},
     "output_type": "execute_result"
    }
   ],
   "source": [
    "list(range(0,10))"
   ]
  },
  {
   "cell_type": "code",
   "execution_count": null,
   "id": "c150b2ba-f035-49d6-9dd2-9c6a469d3fb1",
   "metadata": {},
   "outputs": [],
   "source": []
  },
  {
   "cell_type": "code",
   "execution_count": 20,
   "id": "51254c43-2392-46a4-bdba-9f89c5eaf37b",
   "metadata": {
    "tags": []
   },
   "outputs": [],
   "source": [
    "l3  = [1,2.5,True,\"python\",3+5j]"
   ]
  },
  {
   "cell_type": "code",
   "execution_count": 21,
   "id": "7bdeac25-becd-419a-ad48-5b47420c1907",
   "metadata": {
    "tags": []
   },
   "outputs": [],
   "source": [
    "l4 = [ 1,2,3,True, [5,6,7]]"
   ]
  },
  {
   "cell_type": "code",
   "execution_count": 26,
   "id": "d8542e94-009d-47fd-915a-612a5a43672a",
   "metadata": {
    "tags": []
   },
   "outputs": [
    {
     "data": {
      "text/plain": [
       "list"
      ]
     },
     "execution_count": 26,
     "metadata": {},
     "output_type": "execute_result"
    }
   ],
   "source": [
    "type(l4[4])"
   ]
  },
  {
   "cell_type": "code",
   "execution_count": 28,
   "id": "c7535801-e4a4-4fa5-b68b-cf0ed5f630be",
   "metadata": {
    "tags": []
   },
   "outputs": [],
   "source": [
    "l4.append(123)"
   ]
  },
  {
   "cell_type": "code",
   "execution_count": null,
   "id": "ae78190c-bd4d-489b-b8bb-16d645ca1ecb",
   "metadata": {},
   "outputs": [],
   "source": []
  },
  {
   "cell_type": "code",
   "execution_count": 29,
   "id": "4c3055d5-5a6a-4761-a14e-7a2c8ef742e9",
   "metadata": {
    "tags": []
   },
   "outputs": [
    {
     "data": {
      "text/plain": [
       "[1, 2, 3, True, [5, 6, 7], 123]"
      ]
     },
     "execution_count": 29,
     "metadata": {},
     "output_type": "execute_result"
    }
   ],
   "source": [
    "l4"
   ]
  },
  {
   "cell_type": "markdown",
   "id": "6c5e1b87-d997-4f3c-9234-0c3e8337f80f",
   "metadata": {
    "tags": []
   },
   "source": [
    "# Index and Slicing"
   ]
  },
  {
   "cell_type": "code",
   "execution_count": null,
   "id": "84fdf716-e444-4e1e-ba64-30b10db920b1",
   "metadata": {},
   "outputs": [],
   "source": []
  },
  {
   "cell_type": "code",
   "execution_count": null,
   "id": "b19d96f5-7c68-4d0f-82c8-212d7ed57c2e",
   "metadata": {},
   "outputs": [],
   "source": []
  },
  {
   "cell_type": "code",
   "execution_count": null,
   "id": "18cf38e4-dedf-4878-ba39-12419a6f6b43",
   "metadata": {},
   "outputs": [],
   "source": []
  },
  {
   "cell_type": "markdown",
   "id": "6f862c03-7d0f-4f6c-8835-fffd10d3658e",
   "metadata": {},
   "source": [
    "# Mutable"
   ]
  },
  {
   "cell_type": "code",
   "execution_count": 31,
   "id": "62e0d81a-8f9f-4b03-a701-a0efd4e5741d",
   "metadata": {
    "tags": []
   },
   "outputs": [
    {
     "data": {
      "text/plain": [
       "[1, 2.5, True, 'python', (3+5j)]"
      ]
     },
     "execution_count": 31,
     "metadata": {},
     "output_type": "execute_result"
    }
   ],
   "source": [
    "l3"
   ]
  },
  {
   "cell_type": "code",
   "execution_count": 32,
   "id": "02e0a538-86f6-4e5b-a3d1-5f5dfe14e604",
   "metadata": {
    "tags": []
   },
   "outputs": [],
   "source": [
    "l3[0] = 5"
   ]
  },
  {
   "cell_type": "code",
   "execution_count": 33,
   "id": "66a1e308-0b8b-460b-a84c-92c3e7172e49",
   "metadata": {
    "tags": []
   },
   "outputs": [
    {
     "data": {
      "text/plain": [
       "[5, 2.5, True, 'python', (3+5j)]"
      ]
     },
     "execution_count": 33,
     "metadata": {},
     "output_type": "execute_result"
    }
   ],
   "source": [
    "l3"
   ]
  },
  {
   "cell_type": "code",
   "execution_count": null,
   "id": "1d81b8ab-242e-4279-9f1b-1da571ec5e14",
   "metadata": {},
   "outputs": [],
   "source": []
  },
  {
   "cell_type": "markdown",
   "id": "75faba60-b851-4941-af26-4c7ea6c1a9c1",
   "metadata": {},
   "source": [
    "# membership in list"
   ]
  },
  {
   "cell_type": "code",
   "execution_count": 34,
   "id": "0c1bc212-a1de-4466-9593-5b1136b0514c",
   "metadata": {
    "tags": []
   },
   "outputs": [
    {
     "data": {
      "text/plain": [
       "[5, 2.5, True, 'python', (3+5j)]"
      ]
     },
     "execution_count": 34,
     "metadata": {},
     "output_type": "execute_result"
    }
   ],
   "source": [
    "l3"
   ]
  },
  {
   "cell_type": "code",
   "execution_count": 35,
   "id": "f0c7d405-9fbe-4e6f-877f-ce914fbf5220",
   "metadata": {
    "tags": []
   },
   "outputs": [
    {
     "data": {
      "text/plain": [
       "True"
      ]
     },
     "execution_count": 35,
     "metadata": {},
     "output_type": "execute_result"
    }
   ],
   "source": [
    "5 in l3"
   ]
  },
  {
   "cell_type": "code",
   "execution_count": 36,
   "id": "e67c541d-2d96-4133-bab4-09f7dccede99",
   "metadata": {
    "tags": []
   },
   "outputs": [
    {
     "name": "stdout",
     "output_type": "stream",
     "text": [
      "found\n"
     ]
    }
   ],
   "source": [
    "if (5 in l3):\n",
    "    print(\"found\")"
   ]
  },
  {
   "cell_type": "code",
   "execution_count": null,
   "id": "62ba9814-4614-4cc1-8ab1-a26a2198c862",
   "metadata": {},
   "outputs": [],
   "source": []
  },
  {
   "cell_type": "code",
   "execution_count": 37,
   "id": "884c7be6-17ce-4516-bf5f-e740073d3f2d",
   "metadata": {
    "tags": []
   },
   "outputs": [
    {
     "data": {
      "text/plain": [
       "['p', 'y', 't', 'h', 'o', 'n']"
      ]
     },
     "execution_count": 37,
     "metadata": {},
     "output_type": "execute_result"
    }
   ],
   "source": [
    "list(\"python\")"
   ]
  },
  {
   "cell_type": "code",
   "execution_count": null,
   "id": "3109f7b6-6cf8-422a-b186-f79c13e3189e",
   "metadata": {},
   "outputs": [],
   "source": []
  },
  {
   "cell_type": "code",
   "execution_count": null,
   "id": "c0342e3e-e592-4ff1-8a61-6d13b4a86ec5",
   "metadata": {},
   "outputs": [],
   "source": []
  },
  {
   "cell_type": "code",
   "execution_count": null,
   "id": "8146b623-6bef-47ce-b79c-a74ae9679c8f",
   "metadata": {},
   "outputs": [],
   "source": []
  },
  {
   "cell_type": "markdown",
   "id": "514a2121-c0ac-4ac1-a974-ee7324c082a8",
   "metadata": {},
   "source": [
    "# Function for List"
   ]
  },
  {
   "cell_type": "code",
   "execution_count": null,
   "id": "63210e04-c7c9-4736-a396-a9a7af8c423e",
   "metadata": {},
   "outputs": [],
   "source": []
  },
  {
   "cell_type": "markdown",
   "id": "4c6b62ad-1602-47cf-917c-03b6b91cef68",
   "metadata": {
    "tags": []
   },
   "source": [
    "# Functions\n",
    "\n",
    "1. Len()\n",
    "2. Max()\n",
    "3. Min()\n",
    "4. Sum()\n",
    "5. sorted()\n",
    "6. any()\n",
    "7. all()\n",
    "8. list()"
   ]
  },
  {
   "cell_type": "code",
   "execution_count": 58,
   "id": "d22b75f1-ed81-4c05-9ceb-af401b099a55",
   "metadata": {
    "tags": []
   },
   "outputs": [],
   "source": [
    "l1 = [1,2,3,4,5,5.4,True]"
   ]
  },
  {
   "cell_type": "code",
   "execution_count": 40,
   "id": "5ebcf9fc-d718-47ff-b80c-8c88a7f56067",
   "metadata": {
    "tags": []
   },
   "outputs": [
    {
     "data": {
      "text/plain": [
       "[5, 2.5, True, 'python', (3+5j)]"
      ]
     },
     "execution_count": 40,
     "metadata": {},
     "output_type": "execute_result"
    }
   ],
   "source": [
    "l3"
   ]
  },
  {
   "cell_type": "code",
   "execution_count": 41,
   "id": "b6f842e0-775e-4a91-af3e-534eb4f29965",
   "metadata": {
    "tags": []
   },
   "outputs": [
    {
     "data": {
      "text/plain": [
       "5"
      ]
     },
     "execution_count": 41,
     "metadata": {},
     "output_type": "execute_result"
    }
   ],
   "source": [
    "len(l3) # gives you number of elements in the list."
   ]
  },
  {
   "cell_type": "code",
   "execution_count": 49,
   "id": "42f4a277-8213-4818-a729-e4a2b9bf50bd",
   "metadata": {
    "tags": []
   },
   "outputs": [
    {
     "data": {
      "text/plain": [
       "5.4"
      ]
     },
     "execution_count": 49,
     "metadata": {},
     "output_type": "execute_result"
    }
   ],
   "source": [
    "max(l1)"
   ]
  },
  {
   "cell_type": "code",
   "execution_count": 50,
   "id": "d60eebfa-0a9e-460d-a57a-9777e7caf258",
   "metadata": {
    "tags": []
   },
   "outputs": [
    {
     "data": {
      "text/plain": [
       "1"
      ]
     },
     "execution_count": 50,
     "metadata": {},
     "output_type": "execute_result"
    }
   ],
   "source": [
    "min(l1)"
   ]
  },
  {
   "cell_type": "code",
   "execution_count": 51,
   "id": "9590259b-0cc4-438b-aaa6-d782d14e9a8c",
   "metadata": {
    "tags": []
   },
   "outputs": [
    {
     "ename": "TypeError",
     "evalue": "'<' not supported between instances of 'str' and 'bool'",
     "output_type": "error",
     "traceback": [
      "\u001b[0;31m---------------------------------------------------------------------------\u001b[0m",
      "\u001b[0;31mTypeError\u001b[0m                                 Traceback (most recent call last)",
      "Cell \u001b[0;32mIn[51], line 1\u001b[0m\n\u001b[0;32m----> 1\u001b[0m \u001b[38;5;28mmin\u001b[39m(l3)\n",
      "\u001b[0;31mTypeError\u001b[0m: '<' not supported between instances of 'str' and 'bool'"
     ]
    }
   ],
   "source": [
    "min(l3)"
   ]
  },
  {
   "cell_type": "code",
   "execution_count": null,
   "id": "cc7c2e72-0878-4279-a6e6-b3e0d42989dd",
   "metadata": {},
   "outputs": [],
   "source": []
  },
  {
   "cell_type": "code",
   "execution_count": 52,
   "id": "8326c73b-2de3-45fe-82c0-7e55741a9c5a",
   "metadata": {
    "tags": []
   },
   "outputs": [
    {
     "ename": "TypeError",
     "evalue": "unsupported operand type(s) for +: 'float' and 'str'",
     "output_type": "error",
     "traceback": [
      "\u001b[0;31m---------------------------------------------------------------------------\u001b[0m",
      "\u001b[0;31mTypeError\u001b[0m                                 Traceback (most recent call last)",
      "Cell \u001b[0;32mIn[52], line 1\u001b[0m\n\u001b[0;32m----> 1\u001b[0m \u001b[38;5;28msum\u001b[39m(l3)\n",
      "\u001b[0;31mTypeError\u001b[0m: unsupported operand type(s) for +: 'float' and 'str'"
     ]
    }
   ],
   "source": [
    "sum(l3)"
   ]
  },
  {
   "cell_type": "code",
   "execution_count": 57,
   "id": "b55c256e-7af6-4cd3-9204-eae2cce07ad0",
   "metadata": {
    "tags": []
   },
   "outputs": [
    {
     "ename": "TypeError",
     "evalue": "unsupported operand type(s) for +: 'float' and 'list'",
     "output_type": "error",
     "traceback": [
      "\u001b[0;31m---------------------------------------------------------------------------\u001b[0m",
      "\u001b[0;31mTypeError\u001b[0m                                 Traceback (most recent call last)",
      "Cell \u001b[0;32mIn[57], line 1\u001b[0m\n\u001b[0;32m----> 1\u001b[0m \u001b[38;5;28msum\u001b[39m(l1)\n",
      "\u001b[0;31mTypeError\u001b[0m: unsupported operand type(s) for +: 'float' and 'list'"
     ]
    }
   ],
   "source": [
    "sum(l1)"
   ]
  },
  {
   "cell_type": "code",
   "execution_count": null,
   "id": "ea9057e5-b938-4ff6-b337-27ce1b583170",
   "metadata": {},
   "outputs": [],
   "source": []
  },
  {
   "cell_type": "code",
   "execution_count": null,
   "id": "10b6649a-ec6f-43e4-8e83-6b4cf079e26f",
   "metadata": {},
   "outputs": [],
   "source": []
  },
  {
   "cell_type": "code",
   "execution_count": 63,
   "id": "531ecaab-8edb-4842-a3f6-18349e9524ad",
   "metadata": {
    "tags": []
   },
   "outputs": [
    {
     "data": {
      "text/plain": [
       "[5.4, 5, 4, 3, 2, 1, True]"
      ]
     },
     "execution_count": 63,
     "metadata": {},
     "output_type": "execute_result"
    }
   ],
   "source": [
    "sorted(l1,reverse=True) # sort the list where elements can be compared."
   ]
  },
  {
   "cell_type": "code",
   "execution_count": null,
   "id": "703417f6-0305-4359-a514-e571872857f9",
   "metadata": {},
   "outputs": [],
   "source": []
  },
  {
   "cell_type": "code",
   "execution_count": 64,
   "id": "68c35ffa-398a-4caa-ab80-3a82d70347a8",
   "metadata": {
    "tags": []
   },
   "outputs": [
    {
     "data": {
      "text/plain": [
       "True"
      ]
     },
     "execution_count": 64,
     "metadata": {},
     "output_type": "execute_result"
    }
   ],
   "source": [
    "any(l1)"
   ]
  },
  {
   "cell_type": "code",
   "execution_count": 65,
   "id": "2695b6f3-a963-4838-bf48-bd7604faa1f7",
   "metadata": {
    "tags": []
   },
   "outputs": [
    {
     "data": {
      "text/plain": [
       "True"
      ]
     },
     "execution_count": 65,
     "metadata": {},
     "output_type": "execute_result"
    }
   ],
   "source": [
    "any(l3)"
   ]
  },
  {
   "cell_type": "code",
   "execution_count": 70,
   "id": "b7e19822-a14d-4024-8f01-27c668b68352",
   "metadata": {
    "tags": []
   },
   "outputs": [],
   "source": [
    "l5 = [0,0.0,0+0j,[],{},(),None,1]"
   ]
  },
  {
   "cell_type": "code",
   "execution_count": 71,
   "id": "d22b096d-1164-44de-a243-9cb7e383019d",
   "metadata": {
    "tags": []
   },
   "outputs": [
    {
     "data": {
      "text/plain": [
       "True"
      ]
     },
     "execution_count": 71,
     "metadata": {},
     "output_type": "execute_result"
    }
   ],
   "source": [
    "any(l5)"
   ]
  },
  {
   "cell_type": "code",
   "execution_count": 73,
   "id": "fe037c36-2a31-4aec-ba7e-7aa166fd9c9b",
   "metadata": {
    "tags": []
   },
   "outputs": [
    {
     "data": {
      "text/plain": [
       "True"
      ]
     },
     "execution_count": 73,
     "metadata": {},
     "output_type": "execute_result"
    }
   ],
   "source": [
    "all(l3)"
   ]
  },
  {
   "cell_type": "code",
   "execution_count": 76,
   "id": "1f6bd89f-0164-477f-bac1-a1ae2cc19489",
   "metadata": {
    "tags": []
   },
   "outputs": [
    {
     "name": "stdout",
     "output_type": "stream",
     "text": [
      "[5, 2.5, True, 'python', (3+5j)]\n"
     ]
    },
    {
     "data": {
      "text/plain": [
       "[0, 2.5, True, 'python', (3+5j)]"
      ]
     },
     "execution_count": 76,
     "metadata": {},
     "output_type": "execute_result"
    }
   ],
   "source": [
    "print(l3)\n",
    "l3[0]=0\n",
    "l3"
   ]
  },
  {
   "cell_type": "code",
   "execution_count": 78,
   "id": "b5a94623-5537-417d-abd9-cbeb64256158",
   "metadata": {
    "tags": []
   },
   "outputs": [
    {
     "data": {
      "text/plain": [
       "False"
      ]
     },
     "execution_count": 78,
     "metadata": {},
     "output_type": "execute_result"
    }
   ],
   "source": [
    "all(l3) # as we have made first element 0 so this is false as all are not True"
   ]
  },
  {
   "cell_type": "code",
   "execution_count": null,
   "id": "86d398f7-fc84-4fd2-813f-8f49a236f3df",
   "metadata": {},
   "outputs": [],
   "source": []
  },
  {
   "cell_type": "code",
   "execution_count": 80,
   "id": "82dfb1d2-e96a-4d3c-a019-0b5443232305",
   "metadata": {
    "tags": []
   },
   "outputs": [
    {
     "ename": "TypeError",
     "evalue": "'int' object is not iterable",
     "output_type": "error",
     "traceback": [
      "\u001b[0;31m---------------------------------------------------------------------------\u001b[0m",
      "\u001b[0;31mTypeError\u001b[0m                                 Traceback (most recent call last)",
      "Cell \u001b[0;32mIn[80], line 1\u001b[0m\n\u001b[0;32m----> 1\u001b[0m \u001b[38;5;28mlist\u001b[39m(\u001b[38;5;241m555\u001b[39m)\n",
      "\u001b[0;31mTypeError\u001b[0m: 'int' object is not iterable"
     ]
    }
   ],
   "source": [
    "list(555)"
   ]
  },
  {
   "cell_type": "code",
   "execution_count": null,
   "id": "210afe5b-4cce-472a-b69c-a4e8f2f8aa41",
   "metadata": {},
   "outputs": [],
   "source": []
  }
 ],
 "metadata": {
  "kernelspec": {
   "display_name": "Python 3 (ipykernel)",
   "language": "python",
   "name": "python3"
  },
  "language_info": {
   "codemirror_mode": {
    "name": "ipython",
    "version": 3
   },
   "file_extension": ".py",
   "mimetype": "text/x-python",
   "name": "python",
   "nbconvert_exporter": "python",
   "pygments_lexer": "ipython3",
   "version": "3.11.5"
  }
 },
 "nbformat": 4,
 "nbformat_minor": 5
}
