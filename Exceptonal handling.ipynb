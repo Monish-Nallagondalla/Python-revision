{
 "cells": [
  {
   "cell_type": "code",
   "execution_count": 2,
   "id": "ccf11b7c-7b74-4e18-a633-581f9a1a767e",
   "metadata": {
    "tags": []
   },
   "outputs": [
    {
     "ename": "NameError",
     "evalue": "name 'prin' is not defined",
     "output_type": "error",
     "traceback": [
      "\u001b[0;31m---------------------------------------------------------------------------\u001b[0m",
      "\u001b[0;31mNameError\u001b[0m                                 Traceback (most recent call last)",
      "Cell \u001b[0;32mIn[2], line 1\u001b[0m\n\u001b[0;32m----> 1\u001b[0m prin(\u001b[38;5;124m\"\u001b[39m\u001b[38;5;124mhello world\u001b[39m\u001b[38;5;124m\"\u001b[39m)\n",
      "\u001b[0;31mNameError\u001b[0m: name 'prin' is not defined"
     ]
    }
   ],
   "source": [
    "prin(\"hello world\")\n"
   ]
  },
  {
   "cell_type": "code",
   "execution_count": 4,
   "id": "3dac5927-a5bc-463e-ab5a-cd3d2135e1db",
   "metadata": {
    "tags": []
   },
   "outputs": [
    {
     "ename": "ZeroDivisionError",
     "evalue": "division by zero",
     "output_type": "error",
     "traceback": [
      "\u001b[0;31m---------------------------------------------------------------------------\u001b[0m",
      "\u001b[0;31mZeroDivisionError\u001b[0m                         Traceback (most recent call last)",
      "Cell \u001b[0;32mIn[4], line 1\u001b[0m\n\u001b[0;32m----> 1\u001b[0m \u001b[38;5;28mprint\u001b[39m(\u001b[38;5;241m1\u001b[39m\u001b[38;5;241m/\u001b[39m\u001b[38;5;241m0\u001b[39m)\n",
      "\u001b[0;31mZeroDivisionError\u001b[0m: division by zero"
     ]
    }
   ],
   "source": [
    "print(1/0)"
   ]
  },
  {
   "cell_type": "code",
   "execution_count": null,
   "id": "a97bf985-cfe7-4931-9362-e6b176f3fac2",
   "metadata": {},
   "outputs": [],
   "source": []
  },
  {
   "cell_type": "code",
   "execution_count": 13,
   "id": "8896a74a-8460-4c4f-88ae-a39775fd31a0",
   "metadata": {
    "tags": []
   },
   "outputs": [
    {
     "name": "stdin",
     "output_type": "stream",
     "text": [
      "enter name 5\n"
     ]
    },
    {
     "name": "stdout",
     "output_type": "stream",
     "text": [
      "25\n",
      " Very important information\n",
      " Very important information 2\n"
     ]
    },
    {
     "name": "stdin",
     "output_type": "stream",
     "text": [
      "enter name 2\n"
     ]
    },
    {
     "name": "stdout",
     "output_type": "stream",
     "text": [
      "4\n",
      " Very important information\n",
      " Very important information 2\n"
     ]
    },
    {
     "name": "stdin",
     "output_type": "stream",
     "text": [
      "enter name 7\n"
     ]
    },
    {
     "name": "stdout",
     "output_type": "stream",
     "text": [
      "49\n",
      " Very important information\n",
      " Very important information 2\n"
     ]
    },
    {
     "name": "stdin",
     "output_type": "stream",
     "text": [
      "enter name 0\n"
     ]
    },
    {
     "name": "stdout",
     "output_type": "stream",
     "text": [
      "0\n",
      " Very important information\n"
     ]
    },
    {
     "ename": "ZeroDivisionError",
     "evalue": "division by zero",
     "output_type": "error",
     "traceback": [
      "\u001b[0;31m---------------------------------------------------------------------------\u001b[0m",
      "\u001b[0;31mZeroDivisionError\u001b[0m                         Traceback (most recent call last)",
      "Cell \u001b[0;32mIn[13], line 10\u001b[0m\n\u001b[1;32m      6\u001b[0m \u001b[38;5;28mprint\u001b[39m(\u001b[38;5;124m\"\u001b[39m\u001b[38;5;124m Very important information\u001b[39m\u001b[38;5;124m\"\u001b[39m)\n\u001b[1;32m      8\u001b[0m \u001b[38;5;28;01mfrom\u001b[39;00m \u001b[38;5;21;01mmath\u001b[39;00m \u001b[38;5;28;01mimport\u001b[39;00m sqrt\n\u001b[0;32m---> 10\u001b[0m sqrt(\u001b[38;5;241m1\u001b[39m\u001b[38;5;241m/\u001b[39mnum)\n\u001b[1;32m     12\u001b[0m \u001b[38;5;28mprint\u001b[39m(\u001b[38;5;124m\"\u001b[39m\u001b[38;5;124m Very important information 2\u001b[39m\u001b[38;5;124m\"\u001b[39m)\n",
      "\u001b[0;31mZeroDivisionError\u001b[0m: division by zero"
     ]
    }
   ],
   "source": [
    "for i in range(5):\n",
    "    number = input(\"enter name\")\n",
    "    num = int(number)\n",
    "    print(num**2)\n",
    "\n",
    "    print(\" Very important information\")\n",
    "\n",
    "    from math import sqrt\n",
    "\n",
    "    sqrt(1/num)\n",
    "\n",
    "    print(\" Very important information 2\")\n"
   ]
  },
  {
   "cell_type": "code",
   "execution_count": null,
   "id": "d414f84e-0627-4899-9a70-aaf4872ab40c",
   "metadata": {},
   "outputs": [],
   "source": []
  },
  {
   "cell_type": "code",
   "execution_count": null,
   "id": "7e8514b1-1204-42cb-b8c1-ae2109584a6a",
   "metadata": {},
   "outputs": [],
   "source": []
  },
  {
   "cell_type": "markdown",
   "id": "a6341552-335e-4355-b82d-2131edb32b61",
   "metadata": {
    "tags": []
   },
   "source": [
    "# try - except"
   ]
  },
  {
   "cell_type": "code",
   "execution_count": null,
   "id": "5f90e8ed-9bf5-4e33-8185-8ab86348f95b",
   "metadata": {},
   "outputs": [],
   "source": []
  },
  {
   "cell_type": "code",
   "execution_count": 22,
   "id": "7af2c692-9316-43be-a03d-f6f9b4ba1bcf",
   "metadata": {
    "tags": []
   },
   "outputs": [
    {
     "name": "stdout",
     "output_type": "stream",
     "text": [
      " there is an error\n",
      "b seems to be 0\n"
     ]
    }
   ],
   "source": [
    "a =  5 #int(input(\"enter first num\"))\n",
    "b =  0 #int(input(\"enter second num\"))\n",
    "\n",
    "\n",
    "try:\n",
    "    print(a/b)\n",
    "except: \n",
    "    print(\" there is an error\") \n",
    "    print(\"b seems to be 0\")\n"
   ]
  },
  {
   "cell_type": "code",
   "execution_count": null,
   "id": "07825eff-da68-4f0c-87f3-aac669adb9fe",
   "metadata": {},
   "outputs": [],
   "source": []
  },
  {
   "cell_type": "code",
   "execution_count": null,
   "id": "b9930ed0-a9ca-4050-9a40-fac61e5c1a3f",
   "metadata": {},
   "outputs": [],
   "source": []
  },
  {
   "cell_type": "code",
   "execution_count": 31,
   "id": "035c77fa-2238-4bd6-9d6a-50abc27864dd",
   "metadata": {
    "tags": []
   },
   "outputs": [
    {
     "ename": "ModuleNotFoundError",
     "evalue": "No module named 'zero'",
     "output_type": "error",
     "traceback": [
      "\u001b[0;31m---------------------------------------------------------------------------\u001b[0m",
      "\u001b[0;31mZeroDivisionError\u001b[0m                         Traceback (most recent call last)",
      "Cell \u001b[0;32mIn[31], line 6\u001b[0m\n\u001b[1;32m      4\u001b[0m \u001b[38;5;28;01mtry\u001b[39;00m:\n\u001b[0;32m----> 6\u001b[0m     \u001b[38;5;28mprint\u001b[39m(total_salary\u001b[38;5;241m/\u001b[39mcounts_work_hours)\n\u001b[1;32m      7\u001b[0m     total_salary \u001b[38;5;241m=\u001b[39m \u001b[38;5;241m500\u001b[39m\n",
      "\u001b[0;31mZeroDivisionError\u001b[0m: division by zero",
      "\nDuring handling of the above exception, another exception occurred:\n",
      "\u001b[0;31mZeroDivisionError\u001b[0m                         Traceback (most recent call last)",
      "Cell \u001b[0;32mIn[31], line 10\u001b[0m\n\u001b[1;32m      9\u001b[0m \u001b[38;5;28;01mtry\u001b[39;00m :\n\u001b[0;32m---> 10\u001b[0m     \u001b[38;5;28mprint\u001b[39m(\u001b[38;5;241m1\u001b[39m\u001b[38;5;241m/\u001b[39m\u001b[38;5;241m0\u001b[39m)\n\u001b[1;32m     11\u001b[0m \u001b[38;5;28;01mexcept\u001b[39;00m:\n",
      "\u001b[0;31mZeroDivisionError\u001b[0m: division by zero",
      "\nDuring handling of the above exception, another exception occurred:\n",
      "\u001b[0;31mModuleNotFoundError\u001b[0m                       Traceback (most recent call last)",
      "Cell \u001b[0;32mIn[31], line 12\u001b[0m\n\u001b[1;32m     10\u001b[0m         \u001b[38;5;28mprint\u001b[39m(\u001b[38;5;241m1\u001b[39m\u001b[38;5;241m/\u001b[39m\u001b[38;5;241m0\u001b[39m)\n\u001b[1;32m     11\u001b[0m     \u001b[38;5;28;01mexcept\u001b[39;00m:\n\u001b[0;32m---> 12\u001b[0m         \u001b[38;5;28;01mimport\u001b[39;00m \u001b[38;5;21;01mzero\u001b[39;00m\n\u001b[1;32m     14\u001b[0m \u001b[38;5;28mprint\u001b[39m(\u001b[38;5;124m\"\u001b[39m\u001b[38;5;124mSalary process \u001b[39m\u001b[38;5;124m\"\u001b[39m \u001b[38;5;241m+\u001b[39m \u001b[38;5;28mstr\u001b[39m(total_salary))\n",
      "\u001b[0;31mModuleNotFoundError\u001b[0m: No module named 'zero'"
     ]
    }
   ],
   "source": [
    "counts_work_hours  = 0\n",
    "total_salary = 200\n",
    "\n",
    "try:\n",
    "    \n",
    "    print(total_salary/counts_work_hours)\n",
    "    total_salary = 500\n",
    "except:\n",
    "    try :\n",
    "        print(1/0)\n",
    "    except:\n",
    "        import zero\n",
    "    \n",
    "print(\"Salary process \" + str(total_salary))"
   ]
  },
  {
   "cell_type": "code",
   "execution_count": null,
   "id": "ec34bcb6-d59e-42e8-9437-62af1be6d8e2",
   "metadata": {},
   "outputs": [],
   "source": []
  },
  {
   "cell_type": "code",
   "execution_count": 26,
   "id": "7c9b34f5-57a7-42c3-8307-5874ae0ec35b",
   "metadata": {
    "tags": []
   },
   "outputs": [
    {
     "ename": "ModuleNotFoundError",
     "evalue": "No module named 'zero'",
     "output_type": "error",
     "traceback": [
      "\u001b[0;31m---------------------------------------------------------------------------\u001b[0m",
      "\u001b[0;31mModuleNotFoundError\u001b[0m                       Traceback (most recent call last)",
      "Cell \u001b[0;32mIn[26], line 1\u001b[0m\n\u001b[0;32m----> 1\u001b[0m \u001b[38;5;28;01mimport\u001b[39;00m \u001b[38;5;21;01mzero\u001b[39;00m\n",
      "\u001b[0;31mModuleNotFoundError\u001b[0m: No module named 'zero'"
     ]
    }
   ],
   "source": [
    "import zero"
   ]
  },
  {
   "cell_type": "code",
   "execution_count": 27,
   "id": "84af5dab-0c02-49f3-86d7-9856263f4037",
   "metadata": {
    "tags": []
   },
   "outputs": [
    {
     "ename": "ZeroDivisionError",
     "evalue": "division by zero",
     "output_type": "error",
     "traceback": [
      "\u001b[0;31m---------------------------------------------------------------------------\u001b[0m",
      "\u001b[0;31mZeroDivisionError\u001b[0m                         Traceback (most recent call last)",
      "Cell \u001b[0;32mIn[27], line 1\u001b[0m\n\u001b[0;32m----> 1\u001b[0m \u001b[38;5;28mprint\u001b[39m(total_salary\u001b[38;5;241m/\u001b[39mcounts_work_hours)\n",
      "\u001b[0;31mZeroDivisionError\u001b[0m: division by zero"
     ]
    }
   ],
   "source": [
    "print(total_salary/counts_work_hours)"
   ]
  },
  {
   "cell_type": "code",
   "execution_count": null,
   "id": "43d22bc0-1424-4955-9b0a-14ca8794b080",
   "metadata": {},
   "outputs": [],
   "source": []
  },
  {
   "cell_type": "code",
   "execution_count": 28,
   "id": "cf2933a6-7eb3-4c1b-ace5-2e6ea81d428e",
   "metadata": {
    "tags": []
   },
   "outputs": [
    {
     "name": "stdin",
     "output_type": "stream",
     "text": [
      "enter num ma\n"
     ]
    },
    {
     "ename": "ValueError",
     "evalue": "invalid literal for int() with base 10: 'ma'",
     "output_type": "error",
     "traceback": [
      "\u001b[0;31m---------------------------------------------------------------------------\u001b[0m",
      "\u001b[0;31mValueError\u001b[0m                                Traceback (most recent call last)",
      "Cell \u001b[0;32mIn[28], line 1\u001b[0m\n\u001b[0;32m----> 1\u001b[0m a \u001b[38;5;241m=\u001b[39m \u001b[38;5;28mint\u001b[39m(\u001b[38;5;28minput\u001b[39m(\u001b[38;5;124m\"\u001b[39m\u001b[38;5;124menter num\u001b[39m\u001b[38;5;124m\"\u001b[39m))\n",
      "\u001b[0;31mValueError\u001b[0m: invalid literal for int() with base 10: 'ma'"
     ]
    }
   ],
   "source": [
    "a = int(input(\"enter num\"))"
   ]
  },
  {
   "cell_type": "code",
   "execution_count": null,
   "id": "d90c3464-b04c-4d53-a790-c708724060e5",
   "metadata": {},
   "outputs": [],
   "source": []
  },
  {
   "cell_type": "code",
   "execution_count": 32,
   "id": "b0a2091e-665c-4ef6-952a-28ad28df4f68",
   "metadata": {
    "tags": []
   },
   "outputs": [
    {
     "name": "stdout",
     "output_type": "stream",
     "text": [
      "['ArithmeticError', 'AssertionError', 'AttributeError', 'BaseException', 'BaseExceptionGroup', 'BlockingIOError', 'BrokenPipeError', 'BufferError', 'BytesWarning', 'ChildProcessError', 'ConnectionAbortedError', 'ConnectionError', 'ConnectionRefusedError', 'ConnectionResetError', 'DeprecationWarning', 'EOFError', 'Ellipsis', 'EncodingWarning', 'EnvironmentError', 'Exception', 'ExceptionGroup', 'False', 'FileExistsError', 'FileNotFoundError', 'FloatingPointError', 'FutureWarning', 'GeneratorExit', 'IOError', 'ImportError', 'ImportWarning', 'IndentationError', 'IndexError', 'InterruptedError', 'IsADirectoryError', 'KeyError', 'KeyboardInterrupt', 'LookupError', 'MemoryError', 'ModuleNotFoundError', 'NameError', 'None', 'NotADirectoryError', 'NotImplemented', 'NotImplementedError', 'OSError', 'OverflowError', 'PendingDeprecationWarning', 'PermissionError', 'ProcessLookupError', 'RecursionError', 'ReferenceError', 'ResourceWarning', 'RuntimeError', 'RuntimeWarning', 'StopAsyncIteration', 'StopIteration', 'SyntaxError', 'SyntaxWarning', 'SystemError', 'SystemExit', 'TabError', 'TimeoutError', 'True', 'TypeError', 'UnboundLocalError', 'UnicodeDecodeError', 'UnicodeEncodeError', 'UnicodeError', 'UnicodeTranslateError', 'UnicodeWarning', 'UserWarning', 'ValueError', 'Warning', 'ZeroDivisionError', '__IPYTHON__', '__build_class__', '__debug__', '__doc__', '__import__', '__loader__', '__name__', '__package__', '__spec__', 'abs', 'aiter', 'all', 'anext', 'any', 'ascii', 'bin', 'bool', 'breakpoint', 'bytearray', 'bytes', 'callable', 'chr', 'classmethod', 'compile', 'complex', 'copyright', 'credits', 'delattr', 'dict', 'dir', 'display', 'divmod', 'enumerate', 'eval', 'exec', 'execfile', 'filter', 'float', 'format', 'frozenset', 'get_ipython', 'getattr', 'globals', 'hasattr', 'hash', 'help', 'hex', 'id', 'input', 'int', 'isinstance', 'issubclass', 'iter', 'len', 'license', 'list', 'locals', 'map', 'max', 'memoryview', 'min', 'next', 'object', 'oct', 'open', 'ord', 'pow', 'print', 'property', 'range', 'repr', 'reversed', 'round', 'runfile', 'set', 'setattr', 'slice', 'sorted', 'staticmethod', 'str', 'sum', 'super', 'tuple', 'type', 'vars', 'zip']\n"
     ]
    }
   ],
   "source": [
    "# list exception ans warning\n",
    "\n",
    "\n",
    "print(dir(locals()['__builtins__']))"
   ]
  },
  {
   "cell_type": "code",
   "execution_count": 34,
   "id": "1c58d436-a758-49b9-8758-b4a34288f9e9",
   "metadata": {
    "tags": []
   },
   "outputs": [
    {
     "ename": "OverflowError",
     "evalue": "math range error",
     "output_type": "error",
     "traceback": [
      "\u001b[0;31m---------------------------------------------------------------------------\u001b[0m",
      "\u001b[0;31mOverflowError\u001b[0m                             Traceback (most recent call last)",
      "Cell \u001b[0;32mIn[34], line 3\u001b[0m\n\u001b[1;32m      1\u001b[0m \u001b[38;5;28;01mimport\u001b[39;00m \u001b[38;5;21;01mmath\u001b[39;00m\n\u001b[0;32m----> 3\u001b[0m math\u001b[38;5;241m.\u001b[39mexp(\u001b[38;5;241m10000\u001b[39m)\n",
      "\u001b[0;31mOverflowError\u001b[0m: math range error"
     ]
    }
   ],
   "source": [
    "import math\n",
    "\n",
    "math.exp(10000) # e = 3-4\n"
   ]
  },
  {
   "cell_type": "code",
   "execution_count": 43,
   "id": "414344b9-0835-4f95-a3f8-d288d22c58d2",
   "metadata": {
    "tags": []
   },
   "outputs": [
    {
     "name": "stdout",
     "output_type": "stream",
     "text": [
      "can only concatenate str (not \"int\") to str\n"
     ]
    }
   ],
   "source": [
    "try :\n",
    "    import math\n",
    "    \n",
    "    a = \"ma\" + 123\n",
    "except Exception as e:\n",
    "    print(e)"
   ]
  },
  {
   "cell_type": "code",
   "execution_count": null,
   "id": "67ad0b5c-914a-4228-89f1-b2d4fb0c487d",
   "metadata": {},
   "outputs": [],
   "source": []
  },
  {
   "cell_type": "code",
   "execution_count": null,
   "id": "948d7aba-b77e-42d5-8f09-cdcccbd4db2b",
   "metadata": {},
   "outputs": [],
   "source": []
  },
  {
   "cell_type": "code",
   "execution_count": 55,
   "id": "2fa8db3d-8138-473a-9401-b32ce0f99b7e",
   "metadata": {
    "tags": []
   },
   "outputs": [
    {
     "name": "stdout",
     "output_type": "stream",
     "text": [
      "4\n",
      "division by zero\n"
     ]
    }
   ],
   "source": [
    "try :\n",
    "    1/0\n",
    "except ArithmeticError as ae:\n",
    "    print('4')\n",
    "    print(ae)\n",
    "except ZeroDivisionError as zde:\n",
    "    print('2')\n",
    "    print(zde)\n",
    "except ModuleNotFoundError as mne:\n",
    "    print('3')\n",
    "    print(mne)\n",
    "except Exception as e:\n",
    "    print('1')\n",
    "    print(\"we faced an exception\")\n",
    "    "
   ]
  },
  {
   "cell_type": "code",
   "execution_count": null,
   "id": "6fd48063-c4b7-4f34-9f0c-587022492090",
   "metadata": {},
   "outputs": [],
   "source": []
  },
  {
   "cell_type": "code",
   "execution_count": null,
   "id": "9dc6807d-99c2-4e93-a929-b3be6572aea9",
   "metadata": {},
   "outputs": [],
   "source": [
    "if quadrilateral:\n",
    "    pass\n",
    "elif square:\n",
    "    pass\n",
    "elif rectangle:\n",
    "    pass\n",
    "elif trapezoid:\n",
    "    pass\n"
   ]
  },
  {
   "cell_type": "code",
   "execution_count": null,
   "id": "3150f7be-190b-4870-b3ca-3f924960d82b",
   "metadata": {},
   "outputs": [],
   "source": []
  },
  {
   "cell_type": "code",
   "execution_count": null,
   "id": "a35049f2-e674-471d-bc5d-d8b747dc7d75",
   "metadata": {},
   "outputs": [],
   "source": []
  },
  {
   "cell_type": "markdown",
   "id": "d52402cc-41ee-4db9-b8ac-4f7cc754a930",
   "metadata": {},
   "source": [
    "# else"
   ]
  },
  {
   "cell_type": "code",
   "execution_count": null,
   "id": "014f890e-3feb-4b7a-bb28-bd79832017e9",
   "metadata": {},
   "outputs": [],
   "source": []
  },
  {
   "cell_type": "code",
   "execution_count": null,
   "id": "9a9a8bff-f6fa-4d5f-9b77-9ea63600b6ef",
   "metadata": {},
   "outputs": [],
   "source": []
  },
  {
   "cell_type": "code",
   "execution_count": null,
   "id": "a926c566-fae4-441a-93e3-68870a121174",
   "metadata": {},
   "outputs": [],
   "source": []
  },
  {
   "cell_type": "code",
   "execution_count": 60,
   "id": "85f88a52-463a-49b8-a514-c03fbd4ab6c8",
   "metadata": {
    "tags": []
   },
   "outputs": [
    {
     "name": "stdout",
     "output_type": "stream",
     "text": [
      "4\n",
      "math range error\n"
     ]
    }
   ],
   "source": [
    "try :\n",
    "    math.exp(10000)\n",
    "except ArithmeticError as ae:\n",
    "    print('4')\n",
    "    print(ae)\n",
    "else:\n",
    "    print(\" i am in else statement\")\n",
    "    print(\"looks like you didn't faced an error\")\n",
    "    "
   ]
  },
  {
   "cell_type": "code",
   "execution_count": null,
   "id": "cc99a075-322d-4107-b4cf-c7c70f51be58",
   "metadata": {},
   "outputs": [],
   "source": []
  },
  {
   "cell_type": "code",
   "execution_count": null,
   "id": "f600222c-192a-4154-b6fd-404043a6dede",
   "metadata": {},
   "outputs": [],
   "source": []
  },
  {
   "cell_type": "markdown",
   "id": "0c3600df-416b-4b01-9d0c-8ae341805e5a",
   "metadata": {},
   "source": [
    "# Finally"
   ]
  },
  {
   "cell_type": "code",
   "execution_count": 62,
   "id": "2135ee43-04f2-49fc-a9af-534792cf3fac",
   "metadata": {
    "tags": []
   },
   "outputs": [
    {
     "name": "stdout",
     "output_type": "stream",
     "text": [
      " hi, you will always see me here\n"
     ]
    }
   ],
   "source": [
    "try :\n",
    "    pass\n",
    "except ArithmeticError as ae:\n",
    "    print('4')\n",
    "    print(ae)\n",
    "finally:\n",
    "    print(\" hi, you will always see me here\")"
   ]
  },
  {
   "cell_type": "code",
   "execution_count": 63,
   "id": "df94e2f5-5995-485f-95e3-bbca46451446",
   "metadata": {
    "tags": []
   },
   "outputs": [],
   "source": [
    "def fun():\n",
    "    try :\n",
    "        return 1\n",
    "    except ArithmeticError as ae:\n",
    "        print('4')\n",
    "        print(ae)\n",
    "        return 2\n",
    "    finally:\n",
    "        print(\" hi, you will always see me here\")"
   ]
  },
  {
   "cell_type": "code",
   "execution_count": 65,
   "id": "3a4469db-8f57-4dc9-8a55-4012f22d57c6",
   "metadata": {
    "tags": []
   },
   "outputs": [
    {
     "name": "stdout",
     "output_type": "stream",
     "text": [
      " hi, you will always see me here\n"
     ]
    },
    {
     "data": {
      "text/plain": [
       "1"
      ]
     },
     "execution_count": 65,
     "metadata": {},
     "output_type": "execute_result"
    }
   ],
   "source": [
    "fun()"
   ]
  },
  {
   "cell_type": "code",
   "execution_count": null,
   "id": "ff24e2d5-10a9-4ef0-ad4d-89b55b0c0385",
   "metadata": {},
   "outputs": [],
   "source": []
  },
  {
   "cell_type": "markdown",
   "id": "ad883bd2-15e9-4bfb-af81-b11c01e27d34",
   "metadata": {
    "tags": []
   },
   "source": [
    "# Big basket"
   ]
  },
  {
   "cell_type": "code",
   "execution_count": 68,
   "id": "c9bd4027-f496-4cb6-a2be-190f4533715f",
   "metadata": {
    "tags": []
   },
   "outputs": [
    {
     "name": "stdout",
     "output_type": "stream",
     "text": [
      "pay amount via CC\n"
     ]
    }
   ],
   "source": [
    "try:\n",
    "    print(\"pay amount via CC\")\n",
    "except: \n",
    "    print(\"payment failed\")"
   ]
  },
  {
   "cell_type": "code",
   "execution_count": null,
   "id": "7fd1085c-5be4-49c7-8d4f-205f2a49449b",
   "metadata": {},
   "outputs": [],
   "source": []
  },
  {
   "cell_type": "code",
   "execution_count": null,
   "id": "8447f34a-dce9-46db-922f-14db5e9985f8",
   "metadata": {},
   "outputs": [],
   "source": []
  },
  {
   "cell_type": "code",
   "execution_count": 71,
   "id": "7ca8a3e8-807b-47b4-9388-70dc0c74c43a",
   "metadata": {
    "tags": []
   },
   "outputs": [],
   "source": [
    "class DB:\n",
    "    def conn(self):\n",
    "        print (\"connected\")\n",
    "        print(\"charging you 1000 rupees per second till you are connected\")\n",
    "        \n",
    "    def close(self):\n",
    "        print (\"connection closed\")\n",
    "    def get(self):\n",
    "        print (\"here are your 500 records\")"
   ]
  },
  {
   "cell_type": "code",
   "execution_count": 88,
   "id": "7d93bff3-6c53-45ce-9d78-bc6c45402336",
   "metadata": {
    "tags": []
   },
   "outputs": [
    {
     "name": "stdout",
     "output_type": "stream",
     "text": [
      "connected\n",
      "charging you 1000 rupees per second till you are connected\n",
      "connection closed\n"
     ]
    },
    {
     "ename": "ZeroDivisionError",
     "evalue": "division by zero",
     "output_type": "error",
     "traceback": [
      "\u001b[0;31m---------------------------------------------------------------------------\u001b[0m",
      "\u001b[0;31mOverflowError\u001b[0m                             Traceback (most recent call last)",
      "Cell \u001b[0;32mIn[88], line 5\u001b[0m\n\u001b[1;32m      4\u001b[0m     db\u001b[38;5;241m.\u001b[39mconn()\n\u001b[0;32m----> 5\u001b[0m     math\u001b[38;5;241m.\u001b[39mexp(\u001b[38;5;241m143151\u001b[39m)\n\u001b[1;32m      6\u001b[0m \u001b[38;5;28;01mexcept\u001b[39;00m \u001b[38;5;167;01mOverflowError\u001b[39;00m:\n",
      "\u001b[0;31mOverflowError\u001b[0m: math range error",
      "\nDuring handling of the above exception, another exception occurred:\n",
      "\u001b[0;31mZeroDivisionError\u001b[0m                         Traceback (most recent call last)",
      "Cell \u001b[0;32mIn[88], line 7\u001b[0m\n\u001b[1;32m      5\u001b[0m     math\u001b[38;5;241m.\u001b[39mexp(\u001b[38;5;241m143151\u001b[39m)\n\u001b[1;32m      6\u001b[0m \u001b[38;5;28;01mexcept\u001b[39;00m \u001b[38;5;167;01mOverflowError\u001b[39;00m:\n\u001b[0;32m----> 7\u001b[0m     \u001b[38;5;28mprint\u001b[39m(\u001b[38;5;124m\"\u001b[39m\u001b[38;5;124m)\u001b[39m\u001b[38;5;124m\"\u001b[39m \u001b[38;5;241m+\u001b[39m \u001b[38;5;241m1\u001b[39m\u001b[38;5;241m/\u001b[39m\u001b[38;5;241m0\u001b[39m)\n\u001b[1;32m      9\u001b[0m \u001b[38;5;28;01mfinally\u001b[39;00m:\n\u001b[1;32m     10\u001b[0m     db\u001b[38;5;241m.\u001b[39mclose()\n",
      "\u001b[0;31mZeroDivisionError\u001b[0m: division by zero"
     ]
    }
   ],
   "source": [
    "db = DB()\n",
    "\n",
    "try :\n",
    "    db.conn()\n",
    "    math.exp(143151)\n",
    "except OverflowError:\n",
    "    print(\")\" + 1/0)\n",
    "\n",
    "finally:\n",
    "    db.close()"
   ]
  },
  {
   "cell_type": "code",
   "execution_count": null,
   "id": "6d5e55db-0e8d-4fe4-814a-3d18c4523b1f",
   "metadata": {},
   "outputs": [],
   "source": []
  },
  {
   "cell_type": "code",
   "execution_count": null,
   "id": "3cb48415-40bb-4611-8fdb-afa1ab78b44d",
   "metadata": {},
   "outputs": [],
   "source": []
  },
  {
   "cell_type": "code",
   "execution_count": null,
   "id": "f7e0d150-a050-4fce-a908-ac93337a45be",
   "metadata": {},
   "outputs": [],
   "source": []
  },
  {
   "cell_type": "code",
   "execution_count": null,
   "id": "664b9200-37de-47ff-abf8-64dfd68713dd",
   "metadata": {},
   "outputs": [],
   "source": []
  },
  {
   "cell_type": "markdown",
   "id": "b218159b-7d48-42ce-a3e0-b750bcf47888",
   "metadata": {},
   "source": [
    "# Raise"
   ]
  },
  {
   "cell_type": "code",
   "execution_count": 89,
   "id": "1e204f0b-5375-4e73-98d5-5647864ddb07",
   "metadata": {
    "tags": []
   },
   "outputs": [
    {
     "name": "stdout",
     "output_type": "stream",
     "text": [
      "ELSE\n",
      "FINAL\n"
     ]
    }
   ],
   "source": [
    "\n",
    "try :\n",
    "    pass\n",
    "except:\n",
    "    pass\n",
    "else:\n",
    "    print(\"ELSE\")\n",
    "finally:\n",
    "    print(\"FINAL\")"
   ]
  },
  {
   "cell_type": "markdown",
   "id": "456d578f-34d2-409b-ba55-451cdc6efd32",
   "metadata": {},
   "source": [
    "# Wap to ask 2 numbers from user and thier some."
   ]
  },
  {
   "cell_type": "code",
   "execution_count": 92,
   "id": "0fa681de-f48d-4ff8-b9ff-26d0c299a1d3",
   "metadata": {
    "tags": []
   },
   "outputs": [
    {
     "name": "stdout",
     "output_type": "stream",
     "text": [
      "This is what i will do for overflow error and other error\n"
     ]
    }
   ],
   "source": [
    "a = 10\n",
    "b = 0\n",
    "\n",
    "try : \n",
    "    if(b==0):\n",
    "        raise OverflowError\n",
    "    ans = a/b\n",
    "except OverflowError as oe:\n",
    "    print(\"This is what i will do for overflow error and other error\")\n"
   ]
  },
  {
   "cell_type": "code",
   "execution_count": null,
   "id": "0f719ba4-4ef8-445b-b98d-cb19435f2ac6",
   "metadata": {},
   "outputs": [],
   "source": []
  },
  {
   "cell_type": "code",
   "execution_count": null,
   "id": "947975b0-c424-4fba-a7b4-c2efb60cd525",
   "metadata": {},
   "outputs": [],
   "source": []
  },
  {
   "cell_type": "code",
   "execution_count": null,
   "id": "a952efe4-ee35-4cbc-a14c-b06ce131aa3d",
   "metadata": {},
   "outputs": [],
   "source": []
  },
  {
   "cell_type": "markdown",
   "id": "3cac32e2-a74e-4e12-9a28-4b76f37d6bbe",
   "metadata": {},
   "source": [
    "# Custom Error"
   ]
  },
  {
   "cell_type": "code",
   "execution_count": 117,
   "id": "e2f46931-41fe-47b0-a8bf-1c5f6e80b62e",
   "metadata": {
    "tags": []
   },
   "outputs": [],
   "source": [
    "class SalaryTooHighError(Exception):\n",
    "    def __init__(self,msg):\n",
    "        self.msg = msg"
   ]
  },
  {
   "cell_type": "code",
   "execution_count": 133,
   "id": "d30bb4b2-c100-4b0e-b14f-cf0803b4601a",
   "metadata": {
    "tags": []
   },
   "outputs": [],
   "source": [
    "class Employee:\n",
    "    def __init__(self,salary):            \n",
    "        self.salary = salary\n",
    "    def getSalary(self):\n",
    "        if(self.salary > 1e8):\n",
    "            raise SalaryTooHighError(\"The salary seems to be too high, please check the same fadnga \" + str(self.salary))\n",
    "        return self.salary"
   ]
  },
  {
   "cell_type": "code",
   "execution_count": 134,
   "id": "9bf090c1-440d-43bd-be26-b7349f584192",
   "metadata": {
    "tags": []
   },
   "outputs": [],
   "source": [
    "p1 = Employee(10000)\n",
    "p2 = Employee(1e10)\n",
    "\n"
   ]
  },
  {
   "cell_type": "code",
   "execution_count": 135,
   "id": "8265a160-ddc8-4e45-93ae-c209e7cca166",
   "metadata": {
    "tags": []
   },
   "outputs": [
    {
     "name": "stdout",
     "output_type": "stream",
     "text": [
      "The salary seems to be too high, please check the same fadnga 10000000000.0\n"
     ]
    }
   ],
   "source": [
    "try :\n",
    "    p2.getSalary()\n",
    "except SalaryTooHighError as sth:\n",
    "    print(sth)"
   ]
  },
  {
   "cell_type": "code",
   "execution_count": null,
   "id": "e5487962-d1c8-4641-9cee-86a26a255bbf",
   "metadata": {},
   "outputs": [],
   "source": []
  },
  {
   "cell_type": "code",
   "execution_count": 139,
   "id": "9c366e7b-bb46-4d53-af5d-f4e15f734709",
   "metadata": {
    "tags": []
   },
   "outputs": [],
   "source": [
    "class InvalidAgeError(Exception):\n",
    "    def __init__(self,age):\n",
    "        self.age = age\n",
    "        super().__init__(f\"Invalid Age {age}. Age should not be negative\")"
   ]
  },
  {
   "cell_type": "code",
   "execution_count": 140,
   "id": "1d287561-53db-4e5e-acc2-407d542c59b2",
   "metadata": {
    "tags": []
   },
   "outputs": [],
   "source": [
    "class InvalidEmailError(Exception):\n",
    "    def __init__(self,email):\n",
    "        self.email = email\n",
    "        super().__init__(f\"Invalid email {email}. email should contain @ and .\")"
   ]
  },
  {
   "cell_type": "code",
   "execution_count": 141,
   "id": "6dcd7826-e4e7-4885-9238-c8076e023c6e",
   "metadata": {
    "tags": []
   },
   "outputs": [],
   "source": [
    "# Define the Person class\n",
    "class Person:\n",
    "    def __init__(self, name, age, email):\n",
    "        self.name = name\n",
    "        # Validate age\n",
    "\n",
    "        \n",
    "        if age <= 0:\n",
    "            raise InvalidAgeError(age)\n",
    "        self.age = age\n",
    "        # Validate email format\n",
    "        if \"@\" not in email or \".\" not in email:\n",
    "            raise InvalidEmailError(email)\n",
    "        self.email = email"
   ]
  },
  {
   "cell_type": "code",
   "execution_count": 143,
   "id": "c3867888-905b-4237-b995-a8e2754ae343",
   "metadata": {
    "tags": []
   },
   "outputs": [
    {
     "ename": "InvalidAgeError",
     "evalue": "Invalid Age -1. Age should not be negative",
     "output_type": "error",
     "traceback": [
      "\u001b[0;31m---------------------------------------------------------------------------\u001b[0m",
      "\u001b[0;31mInvalidAgeError\u001b[0m                           Traceback (most recent call last)",
      "Cell \u001b[0;32mIn[143], line 1\u001b[0m\n\u001b[0;32m----> 1\u001b[0m p1 \u001b[38;5;241m=\u001b[39m Person(\u001b[38;5;124m\"\u001b[39m\u001b[38;5;124mmayank\u001b[39m\u001b[38;5;124m\"\u001b[39m,\u001b[38;5;241m-\u001b[39m\u001b[38;5;241m1\u001b[39m,\u001b[38;5;124m\"\u001b[39m\u001b[38;5;124mmayank@abc.com\u001b[39m\u001b[38;5;124m\"\u001b[39m)\n",
      "Cell \u001b[0;32mIn[141], line 9\u001b[0m, in \u001b[0;36mPerson.__init__\u001b[0;34m(self, name, age, email)\u001b[0m\n\u001b[1;32m      5\u001b[0m \u001b[38;5;66;03m# Validate age\u001b[39;00m\n\u001b[1;32m      8\u001b[0m \u001b[38;5;28;01mif\u001b[39;00m age \u001b[38;5;241m<\u001b[39m\u001b[38;5;241m=\u001b[39m \u001b[38;5;241m0\u001b[39m:\n\u001b[0;32m----> 9\u001b[0m     \u001b[38;5;28;01mraise\u001b[39;00m InvalidAgeError(age)\n\u001b[1;32m     10\u001b[0m \u001b[38;5;28mself\u001b[39m\u001b[38;5;241m.\u001b[39mage \u001b[38;5;241m=\u001b[39m age\n\u001b[1;32m     11\u001b[0m \u001b[38;5;66;03m# Validate email format\u001b[39;00m\n",
      "\u001b[0;31mInvalidAgeError\u001b[0m: Invalid Age -1. Age should not be negative"
     ]
    }
   ],
   "source": [
    "p1 = Person(\"mayank\",-1,\"mayank@abc.com\")"
   ]
  },
  {
   "cell_type": "code",
   "execution_count": 146,
   "id": "944f3d85-45a0-4af3-bfbc-a6e6830bb540",
   "metadata": {
    "tags": []
   },
   "outputs": [
    {
     "name": "stdout",
     "output_type": "stream",
     "text": [
      "Invalid Age -25. Age should not be negative\n"
     ]
    }
   ],
   "source": [
    "# Example usage\n",
    "try:\n",
    "    # Trying to create a person with invalid age\n",
    "    person1 = Person(\"Alice\", -25, \"alice@example.com\")\n",
    "except Exception as e:\n",
    "    print(e)\n"
   ]
  },
  {
   "cell_type": "code",
   "execution_count": 145,
   "id": "e3f14642-6e03-4c63-bc6d-9a404332bea1",
   "metadata": {
    "tags": []
   },
   "outputs": [
    {
     "name": "stdout",
     "output_type": "stream",
     "text": [
      "Invalid email bobexample.com. email should contain @ and .\n"
     ]
    }
   ],
   "source": [
    "\n",
    "try:\n",
    "    # Trying to create a person with invalid email format\n",
    "    person2 = Person(\"Bob\", 30, \"bobexample.com\")\n",
    "except InvalidEmailError as e:\n",
    "    print(e)"
   ]
  }
 ],
 "metadata": {
  "kernelspec": {
   "display_name": "Python 3 (ipykernel)",
   "language": "python",
   "name": "python3"
  },
  "language_info": {
   "codemirror_mode": {
    "name": "ipython",
    "version": 3
   },
   "file_extension": ".py",
   "mimetype": "text/x-python",
   "name": "python",
   "nbconvert_exporter": "python",
   "pygments_lexer": "ipython3",
   "version": "3.11.5"
  }
 },
 "nbformat": 4,
 "nbformat_minor": 5
}
