{
 "cells": [
  {
   "cell_type": "code",
   "execution_count": 2,
   "id": "0814004e-daa2-4415-86d1-ab2a5f67b560",
   "metadata": {
    "tags": []
   },
   "outputs": [],
   "source": [
    "import numpy as np"
   ]
  },
  {
   "cell_type": "code",
   "execution_count": 6,
   "id": "313115e2-3136-4c9f-a55b-1c04d7bfcdd4",
   "metadata": {
    "tags": []
   },
   "outputs": [],
   "source": [
    "l1 = [1,2,3,4,5]\n",
    "n1 = np.array([1,2,3,4,5.0])"
   ]
  },
  {
   "cell_type": "code",
   "execution_count": 4,
   "id": "901193c3-1a65-46b1-868e-ccc1a4973f3a",
   "metadata": {
    "tags": []
   },
   "outputs": [
    {
     "data": {
      "text/plain": [
       "([1, 2, 3, 4, 5], array([1, 2, 3, 4, 5]))"
      ]
     },
     "execution_count": 4,
     "metadata": {},
     "output_type": "execute_result"
    }
   ],
   "source": [
    "l1,n1"
   ]
  },
  {
   "cell_type": "code",
   "execution_count": 8,
   "id": "db1951ec-b10d-4706-9273-10873c2c2632",
   "metadata": {
    "tags": []
   },
   "outputs": [
    {
     "name": "stdout",
     "output_type": "stream",
     "text": [
      "[1. 2. 3. 4. 5.]\n"
     ]
    }
   ],
   "source": [
    "print(n1)"
   ]
  },
  {
   "cell_type": "code",
   "execution_count": 10,
   "id": "5a3ef009-9027-4cf0-86ef-8047c2226870",
   "metadata": {
    "tags": []
   },
   "outputs": [
    {
     "data": {
      "text/plain": [
       "numpy.ndarray"
      ]
     },
     "execution_count": 10,
     "metadata": {},
     "output_type": "execute_result"
    }
   ],
   "source": [
    "type(n1)"
   ]
  },
  {
   "cell_type": "code",
   "execution_count": null,
   "id": "0f276aa1-2265-4f57-b46a-6ac674372642",
   "metadata": {},
   "outputs": [],
   "source": []
  },
  {
   "cell_type": "markdown",
   "id": "1e220d6b-1fe5-4f69-ad3e-c7158b94b440",
   "metadata": {},
   "source": [
    "# numpy Library"
   ]
  },
  {
   "cell_type": "code",
   "execution_count": 12,
   "id": "0193edb3-aa6b-4da5-8cd2-c8bc9ab6a328",
   "metadata": {
    "tags": []
   },
   "outputs": [
    {
     "data": {
      "text/plain": [
       "array([1, 2, 3, 4])"
      ]
     },
     "execution_count": 12,
     "metadata": {},
     "output_type": "execute_result"
    }
   ],
   "source": [
    "np.array([1,2,3,4])"
   ]
  },
  {
   "cell_type": "code",
   "execution_count": 14,
   "id": "ffe7125a-cdb1-4a42-8e59-bb5cfcacfddd",
   "metadata": {
    "tags": []
   },
   "outputs": [
    {
     "data": {
      "text/plain": [
       "array([1, 2, 3, 4])"
      ]
     },
     "execution_count": 14,
     "metadata": {},
     "output_type": "execute_result"
    }
   ],
   "source": [
    "np.array((1,2,3,4))"
   ]
  },
  {
   "cell_type": "code",
   "execution_count": 16,
   "id": "4e7521e1-a6bf-4c94-adf0-8bb2f0765a07",
   "metadata": {
    "tags": []
   },
   "outputs": [
    {
     "data": {
      "text/plain": [
       "array(4)"
      ]
     },
     "execution_count": 16,
     "metadata": {},
     "output_type": "execute_result"
    }
   ],
   "source": [
    "np.array(4)"
   ]
  },
  {
   "cell_type": "code",
   "execution_count": 21,
   "id": "6a4bdcf8-5500-4c88-8f86-869af973dd62",
   "metadata": {
    "tags": []
   },
   "outputs": [],
   "source": [
    "l1 = [1,2,3]\n",
    "l2 = [ l1,l1]\n",
    "l3 = [[ l1] , [l1]]"
   ]
  },
  {
   "cell_type": "code",
   "execution_count": 24,
   "id": "9016dbac-04d7-443a-b07e-f66f28256791",
   "metadata": {
    "tags": []
   },
   "outputs": [
    {
     "data": {
      "text/plain": [
       "[1, 2, 3]"
      ]
     },
     "execution_count": 24,
     "metadata": {},
     "output_type": "execute_result"
    }
   ],
   "source": [
    "l1"
   ]
  },
  {
   "cell_type": "code",
   "execution_count": 26,
   "id": "12387bec-4665-4105-896e-0a1415575139",
   "metadata": {
    "tags": []
   },
   "outputs": [
    {
     "data": {
      "text/plain": [
       "[[1, 2, 3], [1, 2, 3]]"
      ]
     },
     "execution_count": 26,
     "metadata": {},
     "output_type": "execute_result"
    }
   ],
   "source": [
    "l2"
   ]
  },
  {
   "cell_type": "code",
   "execution_count": 28,
   "id": "bb2a3f83-1b14-41f4-adac-83d93f4c070c",
   "metadata": {
    "tags": []
   },
   "outputs": [
    {
     "data": {
      "text/plain": [
       "[[[1, 2, 3]], [[1, 2, 3]]]"
      ]
     },
     "execution_count": 28,
     "metadata": {},
     "output_type": "execute_result"
    }
   ],
   "source": [
    "l3"
   ]
  },
  {
   "cell_type": "code",
   "execution_count": 30,
   "id": "52012168-8d5b-4021-93bf-1b471d09804c",
   "metadata": {
    "tags": []
   },
   "outputs": [],
   "source": [
    "a1 = np.array([1,2,3])"
   ]
  },
  {
   "cell_type": "code",
   "execution_count": 33,
   "id": "b56f0842-c3f6-4616-87b5-d00f2facd7df",
   "metadata": {
    "tags": []
   },
   "outputs": [
    {
     "data": {
      "text/plain": [
       "1"
      ]
     },
     "execution_count": 33,
     "metadata": {},
     "output_type": "execute_result"
    }
   ],
   "source": [
    "a1.ndim"
   ]
  },
  {
   "cell_type": "code",
   "execution_count": 37,
   "id": "a30e8b15-9abe-4689-8a30-e01f1ff3b366",
   "metadata": {
    "tags": []
   },
   "outputs": [],
   "source": [
    "a2 = np.array ([[1,2,3] , [1,2,3]] )"
   ]
  },
  {
   "cell_type": "code",
   "execution_count": 38,
   "id": "2a17d823-ac03-4409-96f4-a76dcb840d05",
   "metadata": {
    "tags": []
   },
   "outputs": [
    {
     "data": {
      "text/plain": [
       "array([[1, 2, 3],\n",
       "       [1, 2, 3]])"
      ]
     },
     "execution_count": 38,
     "metadata": {},
     "output_type": "execute_result"
    }
   ],
   "source": [
    "a2"
   ]
  },
  {
   "cell_type": "code",
   "execution_count": 39,
   "id": "d330103a-05ec-47b0-8543-abb2f57c6236",
   "metadata": {
    "tags": []
   },
   "outputs": [
    {
     "data": {
      "text/plain": [
       "2"
      ]
     },
     "execution_count": 39,
     "metadata": {},
     "output_type": "execute_result"
    }
   ],
   "source": [
    "a2.ndim"
   ]
  },
  {
   "cell_type": "code",
   "execution_count": 40,
   "id": "28889f02-e43c-4937-a00d-4ecc54b30190",
   "metadata": {
    "tags": []
   },
   "outputs": [],
   "source": [
    "a3 = np.array ([[[1,2] , [2,4]] , [[ 1,2],[2,4]]]   )"
   ]
  },
  {
   "cell_type": "code",
   "execution_count": 41,
   "id": "f4b5ad13-0f09-4e58-b300-e26688c64ba7",
   "metadata": {
    "tags": []
   },
   "outputs": [
    {
     "data": {
      "text/plain": [
       "array([[[1, 2],\n",
       "        [2, 4]],\n",
       "\n",
       "       [[1, 2],\n",
       "        [2, 4]]])"
      ]
     },
     "execution_count": 41,
     "metadata": {},
     "output_type": "execute_result"
    }
   ],
   "source": [
    "a3"
   ]
  },
  {
   "cell_type": "code",
   "execution_count": 42,
   "id": "5acc0f8d-5804-4af5-bb6a-26be8c1ed337",
   "metadata": {
    "tags": []
   },
   "outputs": [
    {
     "data": {
      "text/plain": [
       "3"
      ]
     },
     "execution_count": 42,
     "metadata": {},
     "output_type": "execute_result"
    }
   ],
   "source": [
    "a3.ndim"
   ]
  },
  {
   "cell_type": "code",
   "execution_count": 43,
   "id": "e8cce34e-db25-4711-8875-97317ffcc14f",
   "metadata": {
    "tags": []
   },
   "outputs": [],
   "source": [
    "a4 = np.array([a3,a3])"
   ]
  },
  {
   "cell_type": "code",
   "execution_count": 44,
   "id": "a1bdb80b-896b-44b7-be06-f74ca54044e7",
   "metadata": {
    "tags": []
   },
   "outputs": [
    {
     "data": {
      "text/plain": [
       "array([[[[1, 2],\n",
       "         [2, 4]],\n",
       "\n",
       "        [[1, 2],\n",
       "         [2, 4]]],\n",
       "\n",
       "\n",
       "       [[[1, 2],\n",
       "         [2, 4]],\n",
       "\n",
       "        [[1, 2],\n",
       "         [2, 4]]]])"
      ]
     },
     "execution_count": 44,
     "metadata": {},
     "output_type": "execute_result"
    }
   ],
   "source": [
    "a4"
   ]
  },
  {
   "cell_type": "code",
   "execution_count": 45,
   "id": "32a8f7a3-3ccf-4748-b096-9945b3a590b0",
   "metadata": {
    "tags": []
   },
   "outputs": [
    {
     "data": {
      "text/plain": [
       "4"
      ]
     },
     "execution_count": 45,
     "metadata": {},
     "output_type": "execute_result"
    }
   ],
   "source": [
    "a4.ndim"
   ]
  },
  {
   "cell_type": "markdown",
   "id": "15c58765-db08-4593-8297-4b076b79067c",
   "metadata": {
    "tags": []
   },
   "source": [
    "# We are able to create multiple Dimension array using Numpy"
   ]
  },
  {
   "cell_type": "code",
   "execution_count": null,
   "id": "ec1166bf-8409-4e87-8721-04115dc414ea",
   "metadata": {},
   "outputs": [],
   "source": []
  },
  {
   "cell_type": "code",
   "execution_count": null,
   "id": "5a947c7e-e3b9-4ba0-be74-ad242bbc3566",
   "metadata": {},
   "outputs": [],
   "source": []
  },
  {
   "cell_type": "markdown",
   "id": "1ef70a97-70e8-453f-be9a-80d2b843987f",
   "metadata": {
    "tags": []
   },
   "source": [
    "# How can we define the type of my elements inside np array"
   ]
  },
  {
   "cell_type": "code",
   "execution_count": 48,
   "id": "83b5757e-2179-4ef0-96e8-adf135e8900e",
   "metadata": {
    "tags": []
   },
   "outputs": [],
   "source": [
    "n1 = np.array([1,2.0,'python'])"
   ]
  },
  {
   "cell_type": "code",
   "execution_count": 49,
   "id": "0844793e-158e-4d82-a4fd-567e8dc0b8e1",
   "metadata": {
    "tags": []
   },
   "outputs": [
    {
     "data": {
      "text/plain": [
       "array(['1', '2.0', 'python'], dtype='<U32')"
      ]
     },
     "execution_count": 49,
     "metadata": {},
     "output_type": "execute_result"
    }
   ],
   "source": [
    "n1"
   ]
  },
  {
   "cell_type": "code",
   "execution_count": 55,
   "id": "47d160fe-4a18-4087-b617-c803bc0ef2f2",
   "metadata": {
    "tags": []
   },
   "outputs": [],
   "source": [
    "n2 = np.array([1,2.0,3,4,6],dtype = 'int32')"
   ]
  },
  {
   "cell_type": "code",
   "execution_count": 56,
   "id": "9ecf64dc-60b6-4efc-8cb0-6646a244d1d3",
   "metadata": {
    "tags": []
   },
   "outputs": [
    {
     "data": {
      "text/plain": [
       "numpy.int32"
      ]
     },
     "execution_count": 56,
     "metadata": {},
     "output_type": "execute_result"
    }
   ],
   "source": [
    "type(n2[0])"
   ]
  },
  {
   "cell_type": "code",
   "execution_count": 3,
   "id": "9ffa6079-d532-4959-b478-6fb9f0393929",
   "metadata": {
    "tags": []
   },
   "outputs": [],
   "source": [
    "n3 = np.array([1,2,3],dtype='float')"
   ]
  },
  {
   "cell_type": "code",
   "execution_count": 4,
   "id": "a65efc81-221e-4a3a-98bb-aa12df474055",
   "metadata": {
    "tags": []
   },
   "outputs": [
    {
     "data": {
      "text/plain": [
       "numpy.float64"
      ]
     },
     "execution_count": 4,
     "metadata": {},
     "output_type": "execute_result"
    }
   ],
   "source": [
    "type(n3[0])"
   ]
  },
  {
   "cell_type": "code",
   "execution_count": null,
   "id": "fc98b7f5-869d-4ffc-8245-6dcf65df3f5f",
   "metadata": {},
   "outputs": [],
   "source": []
  },
  {
   "cell_type": "markdown",
   "id": "a39dbdf9-5c96-4a1d-b93a-b5167b375bae",
   "metadata": {},
   "source": [
    "# Creating Numpy Arrays"
   ]
  },
  {
   "cell_type": "code",
   "execution_count": null,
   "id": "9d787e16-0ce0-4057-a599-c440ac368f5f",
   "metadata": {},
   "outputs": [],
   "source": []
  },
  {
   "cell_type": "code",
   "execution_count": 6,
   "id": "72f51684-6905-44b0-8827-71c99887681f",
   "metadata": {
    "tags": []
   },
   "outputs": [
    {
     "data": {
      "text/plain": [
       "[1, 2, 3, 4, 5, 6, 7, 8, 9]"
      ]
     },
     "execution_count": 6,
     "metadata": {},
     "output_type": "execute_result"
    }
   ],
   "source": [
    "list(range(1,10))"
   ]
  },
  {
   "cell_type": "code",
   "execution_count": 9,
   "id": "dee1445e-49b2-4e05-9805-729bebf2514b",
   "metadata": {
    "tags": []
   },
   "outputs": [
    {
     "data": {
      "text/plain": [
       "array([1, 2, 3, 4, 5, 6, 7, 8, 9])"
      ]
     },
     "execution_count": 9,
     "metadata": {},
     "output_type": "execute_result"
    }
   ],
   "source": [
    "np.array(list(range(1,10)))"
   ]
  },
  {
   "cell_type": "code",
   "execution_count": 12,
   "id": "9d0af72c-7ab0-46ca-9c58-203565e23e32",
   "metadata": {
    "tags": []
   },
   "outputs": [
    {
     "data": {
      "text/plain": [
       "array([1, 3, 5, 7, 9])"
      ]
     },
     "execution_count": 12,
     "metadata": {},
     "output_type": "execute_result"
    }
   ],
   "source": [
    "np.arange(1,10,2)  # Arange(start, stop,step)"
   ]
  },
  {
   "cell_type": "code",
   "execution_count": null,
   "id": "0b636c68-da81-479e-a59b-b9367da6b24a",
   "metadata": {},
   "outputs": [],
   "source": []
  },
  {
   "cell_type": "code",
   "execution_count": null,
   "id": "0f088115-4463-4793-a0d7-a8ace992d3e8",
   "metadata": {},
   "outputs": [],
   "source": []
  },
  {
   "cell_type": "code",
   "execution_count": 13,
   "id": "9dbefc5c-0730-4b0d-b18c-bf238ce46439",
   "metadata": {
    "tags": []
   },
   "outputs": [
    {
     "data": {
      "text/plain": [
       "array([1., 1., 1., 1., 1.])"
      ]
     },
     "execution_count": 13,
     "metadata": {},
     "output_type": "execute_result"
    }
   ],
   "source": [
    "np.ones(5)"
   ]
  },
  {
   "cell_type": "code",
   "execution_count": 16,
   "id": "eb5ccba2-b808-4118-a1ab-f5b2756a5d7f",
   "metadata": {
    "tags": []
   },
   "outputs": [],
   "source": [
    "o1 = np.ones((2,2))"
   ]
  },
  {
   "cell_type": "code",
   "execution_count": 20,
   "id": "281617b8-b4cf-447d-8855-8a2ffcb2e4d2",
   "metadata": {
    "tags": []
   },
   "outputs": [
    {
     "data": {
      "text/plain": [
       "numpy.float64"
      ]
     },
     "execution_count": 20,
     "metadata": {},
     "output_type": "execute_result"
    }
   ],
   "source": [
    "type(o1[0][0])"
   ]
  },
  {
   "cell_type": "code",
   "execution_count": 22,
   "id": "984aabf2-85ba-423f-9f7b-35611ac61fa3",
   "metadata": {
    "tags": []
   },
   "outputs": [
    {
     "data": {
      "text/plain": [
       "array([0., 0., 0., 0., 0.])"
      ]
     },
     "execution_count": 22,
     "metadata": {},
     "output_type": "execute_result"
    }
   ],
   "source": [
    "np.zeros(5)"
   ]
  },
  {
   "cell_type": "code",
   "execution_count": 25,
   "id": "aaded1fe-ec34-4148-928c-fcbebba7bee7",
   "metadata": {
    "tags": []
   },
   "outputs": [
    {
     "data": {
      "text/plain": [
       "array([[0., 0., 0., 0.],\n",
       "       [0., 0., 0., 0.],\n",
       "       [0., 0., 0., 0.],\n",
       "       [0., 0., 0., 0.]])"
      ]
     },
     "execution_count": 25,
     "metadata": {},
     "output_type": "execute_result"
    }
   ],
   "source": [
    "np.zeros((4,4))"
   ]
  },
  {
   "cell_type": "code",
   "execution_count": null,
   "id": "1ea469cd-2c53-4456-872c-04bd190f5507",
   "metadata": {},
   "outputs": [],
   "source": []
  },
  {
   "cell_type": "code",
   "execution_count": null,
   "id": "666fcabb-100d-436e-ad66-15d958b71431",
   "metadata": {},
   "outputs": [],
   "source": []
  },
  {
   "cell_type": "code",
   "execution_count": 27,
   "id": "af6eead8-1f01-4ec7-94b7-ade46c2487f3",
   "metadata": {
    "tags": []
   },
   "outputs": [
    {
     "data": {
      "text/plain": [
       "array([12.5010746 ,  5.99101199,  6.94488028, 38.29789169, 20.9468678 ])"
      ]
     },
     "execution_count": 27,
     "metadata": {},
     "output_type": "execute_result"
    }
   ],
   "source": [
    "np.random.random(5)"
   ]
  },
  {
   "cell_type": "code",
   "execution_count": 30,
   "id": "ff7bc717-2ae3-4d42-b1e3-c8d1f17d9cc4",
   "metadata": {
    "tags": []
   },
   "outputs": [
    {
     "data": {
      "text/plain": [
       "array([[0.40353513, 0.81133918, 0.0851283 , 0.31074532],\n",
       "       [0.58452876, 0.61213371, 0.94872956, 0.26000163],\n",
       "       [0.50028602, 0.32337509, 0.68294949, 0.62639145],\n",
       "       [0.89123997, 0.49269737, 0.99483745, 0.93794901],\n",
       "       [0.24820218, 0.99741917, 0.56466868, 0.67911473]])"
      ]
     },
     "execution_count": 30,
     "metadata": {},
     "output_type": "execute_result"
    }
   ],
   "source": [
    "np.random.random((5,4))"
   ]
  },
  {
   "cell_type": "code",
   "execution_count": null,
   "id": "f3838f30-dba4-4ff4-a36b-91f420adf660",
   "metadata": {},
   "outputs": [],
   "source": []
  },
  {
   "cell_type": "code",
   "execution_count": 31,
   "id": "f097c5ee-2683-4607-a9e2-c34ca494939e",
   "metadata": {
    "tags": []
   },
   "outputs": [
    {
     "data": {
      "text/plain": [
       "array([ 0.,  5., 10.])"
      ]
     },
     "execution_count": 31,
     "metadata": {},
     "output_type": "execute_result"
    }
   ],
   "source": [
    "np.linspace(0,10,num=3)"
   ]
  },
  {
   "cell_type": "code",
   "execution_count": 36,
   "id": "8ecf5d40-24ea-4c64-a3c4-28d72556f0c4",
   "metadata": {
    "tags": []
   },
   "outputs": [
    {
     "data": {
      "text/plain": [
       "array([ 0. ,  2.5,  5. ,  7.5, 10. ])"
      ]
     },
     "execution_count": 36,
     "metadata": {},
     "output_type": "execute_result"
    }
   ],
   "source": [
    "np.linspace(0,10,num=5)"
   ]
  },
  {
   "cell_type": "code",
   "execution_count": 43,
   "id": "5aa20821-5b79-468a-b24f-27b074e5ff0e",
   "metadata": {
    "tags": []
   },
   "outputs": [
    {
     "data": {
      "text/plain": [
       "array([ 0.        ,  1.66666667,  3.33333333,  5.        ,  6.66666667,\n",
       "        8.33333333, 10.        ])"
      ]
     },
     "execution_count": 43,
     "metadata": {},
     "output_type": "execute_result"
    }
   ],
   "source": [
    "np.linspace(0,10,num=7)"
   ]
  },
  {
   "cell_type": "code",
   "execution_count": 39,
   "id": "ae5f89bd-c07c-444d-97b7-1b6671c742b3",
   "metadata": {
    "tags": []
   },
   "outputs": [
    {
     "data": {
      "text/plain": [
       "array([[1., 0., 0.],\n",
       "       [0., 1., 0.],\n",
       "       [0., 0., 1.]])"
      ]
     },
     "execution_count": 39,
     "metadata": {},
     "output_type": "execute_result"
    }
   ],
   "source": [
    "np.identity(3)"
   ]
  },
  {
   "cell_type": "code",
   "execution_count": 42,
   "id": "4d47132f-84fe-430e-908c-2aca0a82acde",
   "metadata": {
    "tags": []
   },
   "outputs": [
    {
     "data": {
      "text/plain": [
       "array([[1., 0., 0., 0.],\n",
       "       [0., 1., 0., 0.],\n",
       "       [0., 0., 1., 0.],\n",
       "       [0., 0., 0., 1.]])"
      ]
     },
     "execution_count": 42,
     "metadata": {},
     "output_type": "execute_result"
    }
   ],
   "source": [
    "np.eye(4)"
   ]
  },
  {
   "cell_type": "code",
   "execution_count": null,
   "id": "2cfad2f6-b086-455a-9ac4-2a35e656d6f6",
   "metadata": {},
   "outputs": [],
   "source": []
  },
  {
   "cell_type": "markdown",
   "id": "e3000ac9-2a40-4895-a74c-193e0dc78ca5",
   "metadata": {},
   "source": [
    "# Numpy Attributes"
   ]
  },
  {
   "cell_type": "code",
   "execution_count": null,
   "id": "4da0aa4f-a5ed-4155-8d17-92f6beec5c82",
   "metadata": {},
   "outputs": [],
   "source": []
  },
  {
   "cell_type": "code",
   "execution_count": 131,
   "id": "63f513c7-fb1d-4a95-b9e1-df11f65ca94f",
   "metadata": {
    "tags": []
   },
   "outputs": [],
   "source": [
    "n1 = np.arange(1,10,dtype='int8')"
   ]
  },
  {
   "cell_type": "code",
   "execution_count": 63,
   "id": "0c87e478-b8f6-4eb0-a9f3-5398ce109135",
   "metadata": {
    "tags": []
   },
   "outputs": [
    {
     "data": {
      "text/plain": [
       "array([1, 2, 3, 4, 5, 6, 7, 8, 9], dtype=int8)"
      ]
     },
     "execution_count": 63,
     "metadata": {},
     "output_type": "execute_result"
    }
   ],
   "source": [
    "n1"
   ]
  },
  {
   "cell_type": "code",
   "execution_count": 49,
   "id": "386063fb-49d8-462f-8d1c-aac689681ce7",
   "metadata": {
    "tags": []
   },
   "outputs": [
    {
     "data": {
      "text/plain": [
       "1"
      ]
     },
     "execution_count": 49,
     "metadata": {},
     "output_type": "execute_result"
    }
   ],
   "source": [
    "n1.ndim"
   ]
  },
  {
   "cell_type": "code",
   "execution_count": 50,
   "id": "013f4c11-da36-4139-b46e-35b77c29ffb9",
   "metadata": {
    "tags": []
   },
   "outputs": [
    {
     "data": {
      "text/plain": [
       "(9,)"
      ]
     },
     "execution_count": 50,
     "metadata": {},
     "output_type": "execute_result"
    }
   ],
   "source": [
    "n1.shape"
   ]
  },
  {
   "cell_type": "code",
   "execution_count": 64,
   "id": "ff111b13-7d71-447d-b926-d5eb4d5f03a5",
   "metadata": {
    "tags": []
   },
   "outputs": [
    {
     "data": {
      "text/plain": [
       "9"
      ]
     },
     "execution_count": 64,
     "metadata": {},
     "output_type": "execute_result"
    }
   ],
   "source": [
    "n1.size"
   ]
  },
  {
   "cell_type": "code",
   "execution_count": 65,
   "id": "4b32ee58-2459-4c61-8187-f1d427fdb076",
   "metadata": {
    "tags": []
   },
   "outputs": [
    {
     "data": {
      "text/plain": [
       "numpy.int8"
      ]
     },
     "execution_count": 65,
     "metadata": {},
     "output_type": "execute_result"
    }
   ],
   "source": [
    "type(n1[0])"
   ]
  },
  {
   "cell_type": "code",
   "execution_count": 70,
   "id": "aba7fbcf-7cef-44d4-a175-324d0f8d7cd4",
   "metadata": {
    "tags": []
   },
   "outputs": [
    {
     "data": {
      "text/plain": [
       "1"
      ]
     },
     "execution_count": 70,
     "metadata": {},
     "output_type": "execute_result"
    }
   ],
   "source": [
    "n1.itemsize"
   ]
  },
  {
   "cell_type": "code",
   "execution_count": null,
   "id": "da362529-b144-4d31-ba8a-cf446b661b29",
   "metadata": {},
   "outputs": [],
   "source": []
  },
  {
   "cell_type": "code",
   "execution_count": null,
   "id": "495875f1-7ea6-46b3-9e97-068e5950d13e",
   "metadata": {},
   "outputs": [],
   "source": []
  },
  {
   "cell_type": "code",
   "execution_count": 72,
   "id": "cfdfce68-f8fc-403b-a919-7b72e314bcb3",
   "metadata": {
    "tags": []
   },
   "outputs": [
    {
     "data": {
      "text/plain": [
       "array([1, 2, 3, 4, 5, 6, 7, 8, 9], dtype=int8)"
      ]
     },
     "execution_count": 72,
     "metadata": {},
     "output_type": "execute_result"
    }
   ],
   "source": [
    "n1"
   ]
  },
  {
   "cell_type": "code",
   "execution_count": 74,
   "id": "0ca97f33-f5c3-4b08-bdbd-863818680aff",
   "metadata": {
    "tags": []
   },
   "outputs": [
    {
     "data": {
      "text/plain": [
       "array([[1, 2, 3],\n",
       "       [4, 5, 6],\n",
       "       [7, 8, 9]], dtype=int8)"
      ]
     },
     "execution_count": 74,
     "metadata": {},
     "output_type": "execute_result"
    }
   ],
   "source": [
    "n1.reshape(3,3)"
   ]
  },
  {
   "cell_type": "code",
   "execution_count": 76,
   "id": "82728cac-db17-43ec-8a62-9b8bdefc6e86",
   "metadata": {
    "tags": []
   },
   "outputs": [
    {
     "ename": "ValueError",
     "evalue": "cannot reshape array of size 9 into shape (2,5)",
     "output_type": "error",
     "traceback": [
      "\u001b[0;31m---------------------------------------------------------------------------\u001b[0m",
      "\u001b[0;31mValueError\u001b[0m                                Traceback (most recent call last)",
      "Cell \u001b[0;32mIn[76], line 1\u001b[0m\n\u001b[0;32m----> 1\u001b[0m n1\u001b[38;5;241m.\u001b[39mreshape(\u001b[38;5;241m2\u001b[39m,\u001b[38;5;241m5\u001b[39m)\n",
      "\u001b[0;31mValueError\u001b[0m: cannot reshape array of size 9 into shape (2,5)"
     ]
    }
   ],
   "source": [
    "n1.reshape(2,5)"
   ]
  },
  {
   "cell_type": "markdown",
   "id": "e5987b70-358f-4309-98b1-7b28fcd6b068",
   "metadata": {},
   "source": [
    "# reshape (row, col)"
   ]
  },
  {
   "cell_type": "code",
   "execution_count": 78,
   "id": "63df4f29-d02e-4aea-b42c-59c4e09507b0",
   "metadata": {
    "tags": []
   },
   "outputs": [
    {
     "data": {
      "text/plain": [
       "array([ 1,  2,  3,  4,  5,  6,  7,  8,  9, 10, 11, 12, 13, 14, 15, 16])"
      ]
     },
     "execution_count": 78,
     "metadata": {},
     "output_type": "execute_result"
    }
   ],
   "source": [
    "n2 = np.arange(1,17)\n",
    "n2"
   ]
  },
  {
   "cell_type": "code",
   "execution_count": 80,
   "id": "f2994a10-6196-4bf7-a1cd-01273ef7e686",
   "metadata": {
    "tags": []
   },
   "outputs": [
    {
     "data": {
      "text/plain": [
       "array([[ 1,  2,  3,  4],\n",
       "       [ 5,  6,  7,  8],\n",
       "       [ 9, 10, 11, 12],\n",
       "       [13, 14, 15, 16]])"
      ]
     },
     "execution_count": 80,
     "metadata": {},
     "output_type": "execute_result"
    }
   ],
   "source": [
    "n2.reshape(4,4)"
   ]
  },
  {
   "cell_type": "code",
   "execution_count": 82,
   "id": "02d338f0-f746-4b55-8c3f-fcf9b20bd510",
   "metadata": {
    "tags": []
   },
   "outputs": [
    {
     "data": {
      "text/plain": [
       "array([[[[ 1,  2],\n",
       "         [ 3,  4]],\n",
       "\n",
       "        [[ 5,  6],\n",
       "         [ 7,  8]]],\n",
       "\n",
       "\n",
       "       [[[ 9, 10],\n",
       "         [11, 12]],\n",
       "\n",
       "        [[13, 14],\n",
       "         [15, 16]]]])"
      ]
     },
     "execution_count": 82,
     "metadata": {},
     "output_type": "execute_result"
    }
   ],
   "source": [
    "n2.reshape(2,2,2,2)"
   ]
  },
  {
   "cell_type": "code",
   "execution_count": 84,
   "id": "fbe1ae4a-08f6-479a-aa48-420dfdf5368f",
   "metadata": {
    "tags": []
   },
   "outputs": [
    {
     "data": {
      "text/plain": [
       "array([[ 1,  2,  3,  4,  5,  6,  7,  8],\n",
       "       [ 9, 10, 11, 12, 13, 14, 15, 16]])"
      ]
     },
     "execution_count": 84,
     "metadata": {},
     "output_type": "execute_result"
    }
   ],
   "source": [
    "n2.reshape(2,8)"
   ]
  },
  {
   "cell_type": "code",
   "execution_count": 86,
   "id": "968936ac-2dda-49cb-a16e-a5bc86a5b027",
   "metadata": {
    "tags": []
   },
   "outputs": [
    {
     "data": {
      "text/plain": [
       "array([[ 1,  2],\n",
       "       [ 3,  4],\n",
       "       [ 5,  6],\n",
       "       [ 7,  8],\n",
       "       [ 9, 10],\n",
       "       [11, 12],\n",
       "       [13, 14],\n",
       "       [15, 16]])"
      ]
     },
     "execution_count": 86,
     "metadata": {},
     "output_type": "execute_result"
    }
   ],
   "source": [
    "n2.reshape(8,2)"
   ]
  },
  {
   "cell_type": "code",
   "execution_count": 89,
   "id": "b71c7753-a6bf-4861-a1bd-f613b8d64bf0",
   "metadata": {
    "tags": []
   },
   "outputs": [
    {
     "data": {
      "text/plain": [
       "array([ 1,  2,  3,  4,  5,  6,  7,  8,  9, 10, 11, 12, 13, 14, 15, 16])"
      ]
     },
     "execution_count": 89,
     "metadata": {},
     "output_type": "execute_result"
    }
   ],
   "source": [
    "n2.reshape(16)"
   ]
  },
  {
   "cell_type": "code",
   "execution_count": null,
   "id": "426cc506-da23-429f-a43c-b8797c54d776",
   "metadata": {},
   "outputs": [],
   "source": []
  },
  {
   "cell_type": "markdown",
   "id": "86626d21-ee14-47e9-8bca-e597b9f8051e",
   "metadata": {},
   "source": [
    "# Changing the type of already created Array"
   ]
  },
  {
   "cell_type": "code",
   "execution_count": null,
   "id": "9ae63fc0-8590-47e1-80d7-34b93244840d",
   "metadata": {},
   "outputs": [],
   "source": []
  },
  {
   "cell_type": "code",
   "execution_count": null,
   "id": "b8467d4b-fe03-42eb-bbe8-ea7adab76cf4",
   "metadata": {},
   "outputs": [],
   "source": []
  },
  {
   "cell_type": "code",
   "execution_count": 99,
   "id": "ce710e38-aec7-4b4b-958b-337190ca22f0",
   "metadata": {
    "tags": []
   },
   "outputs": [
    {
     "data": {
      "text/plain": [
       "array([ 1,  2,  3,  4,  5,  6,  7,  8,  9, 10, 11, 12, 13, 14, 15, 16],\n",
       "      dtype=int8)"
      ]
     },
     "execution_count": 99,
     "metadata": {},
     "output_type": "execute_result"
    }
   ],
   "source": [
    "n2.astype(np.int8)"
   ]
  },
  {
   "cell_type": "code",
   "execution_count": null,
   "id": "57ccb345-dcc5-4161-8ba0-5a34d390dd15",
   "metadata": {},
   "outputs": [],
   "source": []
  },
  {
   "cell_type": "code",
   "execution_count": null,
   "id": "bf8e7fdb-df90-416a-8657-c33c8d3e81fb",
   "metadata": {},
   "outputs": [],
   "source": []
  },
  {
   "cell_type": "code",
   "execution_count": 103,
   "id": "e798139f-3e8f-4fc5-b2c9-bc6cd8616ebc",
   "metadata": {
    "tags": []
   },
   "outputs": [
    {
     "data": {
      "text/plain": [
       "array([ 3,  4,  5,  6,  7,  8,  9, 10, 11, 12, 13, 14, 15, 16, 17, 18])"
      ]
     },
     "execution_count": 103,
     "metadata": {},
     "output_type": "execute_result"
    }
   ],
   "source": [
    "n2 + 2"
   ]
  },
  {
   "cell_type": "code",
   "execution_count": 104,
   "id": "9c789415-5007-4114-9cd6-08041162bde3",
   "metadata": {
    "tags": []
   },
   "outputs": [
    {
     "data": {
      "text/plain": [
       "array([-1,  0,  1,  2,  3,  4,  5,  6,  7,  8,  9, 10, 11, 12, 13, 14])"
      ]
     },
     "execution_count": 104,
     "metadata": {},
     "output_type": "execute_result"
    }
   ],
   "source": [
    "n2 - 2"
   ]
  },
  {
   "cell_type": "code",
   "execution_count": 106,
   "id": "426fd1c6-4ba6-419b-bc1a-be74ed04689b",
   "metadata": {
    "tags": []
   },
   "outputs": [
    {
     "data": {
      "text/plain": [
       "array([0.5, 1. , 1.5, 2. , 2.5, 3. , 3.5, 4. , 4.5, 5. , 5.5, 6. , 6.5,\n",
       "       7. , 7.5, 8. ])"
      ]
     },
     "execution_count": 106,
     "metadata": {},
     "output_type": "execute_result"
    }
   ],
   "source": [
    "n2 / 2"
   ]
  },
  {
   "cell_type": "code",
   "execution_count": 109,
   "id": "d8c958a9-f47f-4f2b-8cc1-af5d7f0e7206",
   "metadata": {
    "tags": []
   },
   "outputs": [
    {
     "data": {
      "text/plain": [
       "array([ 2,  4,  6,  8, 10, 12, 14, 16, 18, 20, 22, 24, 26, 28, 30, 32])"
      ]
     },
     "execution_count": 109,
     "metadata": {},
     "output_type": "execute_result"
    }
   ],
   "source": [
    "n2 * 2"
   ]
  },
  {
   "cell_type": "code",
   "execution_count": 111,
   "id": "3f2e0ed1-57fe-4374-a39f-2df8bf10d054",
   "metadata": {
    "tags": []
   },
   "outputs": [
    {
     "data": {
      "text/plain": [
       "array([1, 0, 1, 0, 1, 0, 1, 0, 1, 0, 1, 0, 1, 0, 1, 0])"
      ]
     },
     "execution_count": 111,
     "metadata": {},
     "output_type": "execute_result"
    }
   ],
   "source": [
    "n2%2"
   ]
  },
  {
   "cell_type": "code",
   "execution_count": 113,
   "id": "0a88b7b0-4c42-45f9-8bdc-1e63a3a17ce6",
   "metadata": {
    "tags": []
   },
   "outputs": [
    {
     "data": {
      "text/plain": [
       "array([ True, False, False, False, False, False, False, False, False,\n",
       "       False, False, False, False, False, False, False])"
      ]
     },
     "execution_count": 113,
     "metadata": {},
     "output_type": "execute_result"
    }
   ],
   "source": [
    "n2==True"
   ]
  },
  {
   "cell_type": "code",
   "execution_count": 115,
   "id": "ff3bea18-02b0-42ea-b768-1b43f6aa6082",
   "metadata": {
    "tags": []
   },
   "outputs": [
    {
     "data": {
      "text/plain": [
       "array([1, 0, 1, 0, 1, 0, 1, 0, 1, 0, 1, 0, 1, 0, 1, 0])"
      ]
     },
     "execution_count": 115,
     "metadata": {},
     "output_type": "execute_result"
    }
   ],
   "source": [
    "n2 & 1"
   ]
  },
  {
   "cell_type": "code",
   "execution_count": 116,
   "id": "8590ba8e-bbad-4340-b476-c1874b8ac618",
   "metadata": {
    "tags": []
   },
   "outputs": [
    {
     "data": {
      "text/plain": [
       "array([0, 1, 1, 2, 2, 3, 3, 4, 4, 5, 5, 6, 6, 7, 7, 8])"
      ]
     },
     "execution_count": 116,
     "metadata": {},
     "output_type": "execute_result"
    }
   ],
   "source": [
    "n2 // 2"
   ]
  },
  {
   "cell_type": "code",
   "execution_count": null,
   "id": "b7b7ef29-352b-4d6c-b48c-96ea19bac70d",
   "metadata": {},
   "outputs": [],
   "source": []
  },
  {
   "cell_type": "code",
   "execution_count": null,
   "id": "f86c2f69-d475-49f9-8810-0296ae778f79",
   "metadata": {},
   "outputs": [],
   "source": []
  },
  {
   "cell_type": "markdown",
   "id": "dff09313-2b9a-43fe-8ddd-18f5fd294509",
   "metadata": {
    "tags": []
   },
   "source": [
    "# Operation with another array"
   ]
  },
  {
   "cell_type": "code",
   "execution_count": 119,
   "id": "4911df77-c666-4d93-b27a-7f0991f4f37b",
   "metadata": {
    "tags": []
   },
   "outputs": [],
   "source": [
    "n1 = np.arange(1,5).reshape(2,2)\n",
    "n2 = np.arange(10,14).reshape(2,2)"
   ]
  },
  {
   "cell_type": "code",
   "execution_count": 122,
   "id": "94e29c86-45e7-4c54-8f82-e81bf9109c80",
   "metadata": {
    "tags": []
   },
   "outputs": [
    {
     "data": {
      "text/plain": [
       "(array([[1, 2],\n",
       "        [3, 4]]),\n",
       " array([[10, 11],\n",
       "        [12, 13]]))"
      ]
     },
     "execution_count": 122,
     "metadata": {},
     "output_type": "execute_result"
    }
   ],
   "source": [
    "n1,n2"
   ]
  },
  {
   "cell_type": "code",
   "execution_count": 124,
   "id": "443d5cdf-5f6d-436f-bd2f-e5febfabb04b",
   "metadata": {
    "tags": []
   },
   "outputs": [
    {
     "data": {
      "text/plain": [
       "array([[11, 13],\n",
       "       [15, 17]])"
      ]
     },
     "execution_count": 124,
     "metadata": {},
     "output_type": "execute_result"
    }
   ],
   "source": [
    "n1 + n2"
   ]
  },
  {
   "cell_type": "code",
   "execution_count": 126,
   "id": "3f9a318b-f719-4717-9e66-b4c9f3725c45",
   "metadata": {
    "tags": []
   },
   "outputs": [
    {
     "data": {
      "text/plain": [
       "array([[0.1       , 0.18181818],\n",
       "       [0.25      , 0.30769231]])"
      ]
     },
     "execution_count": 126,
     "metadata": {},
     "output_type": "execute_result"
    }
   ],
   "source": [
    "n1/n2"
   ]
  },
  {
   "cell_type": "code",
   "execution_count": 128,
   "id": "335b746f-e93c-40e7-b922-a041b7860bfe",
   "metadata": {
    "tags": []
   },
   "outputs": [
    {
     "data": {
      "text/plain": [
       "array([[-9, -9],\n",
       "       [-9, -9]])"
      ]
     },
     "execution_count": 128,
     "metadata": {},
     "output_type": "execute_result"
    }
   ],
   "source": [
    "n1 - n2"
   ]
  },
  {
   "cell_type": "code",
   "execution_count": 129,
   "id": "be619229-223e-43ab-88ea-bd6803b0cff9",
   "metadata": {
    "tags": []
   },
   "outputs": [
    {
     "data": {
      "text/plain": [
       "array([[0, 0],\n",
       "       [0, 0]])"
      ]
     },
     "execution_count": 129,
     "metadata": {},
     "output_type": "execute_result"
    }
   ],
   "source": [
    "n1 // n2"
   ]
  },
  {
   "cell_type": "code",
   "execution_count": 133,
   "id": "999dc060-9d73-4aee-ba84-c627d317fbbf",
   "metadata": {
    "tags": []
   },
   "outputs": [],
   "source": [
    "a1 = np.arange(1,10,dtype='int8')"
   ]
  },
  {
   "cell_type": "code",
   "execution_count": 136,
   "id": "c316fbc9-c0ee-4fbb-b68c-8317d7a98088",
   "metadata": {
    "tags": []
   },
   "outputs": [
    {
     "data": {
      "text/plain": [
       "array([[0.1       , 0.18181818],\n",
       "       [0.25      , 0.30769231]])"
      ]
     },
     "execution_count": 136,
     "metadata": {},
     "output_type": "execute_result"
    }
   ],
   "source": [
    "n1 / n2"
   ]
  },
  {
   "cell_type": "code",
   "execution_count": null,
   "id": "60a82544-8801-48c5-ac0c-df310c2f7281",
   "metadata": {},
   "outputs": [],
   "source": []
  },
  {
   "cell_type": "code",
   "execution_count": null,
   "id": "16bf93d1-cfeb-40fc-ae2a-6beeb7c565fa",
   "metadata": {},
   "outputs": [],
   "source": []
  },
  {
   "cell_type": "markdown",
   "id": "679e4731-0f37-46bb-b80f-ae4533f6aaf1",
   "metadata": {
    "tags": []
   },
   "source": [
    "\n",
    "# Array Functions on Numpy Arrays"
   ]
  },
  {
   "cell_type": "code",
   "execution_count": null,
   "id": "60c69ad7-d14d-4b34-9c6c-9092dcdb41b8",
   "metadata": {},
   "outputs": [],
   "source": []
  },
  {
   "cell_type": "markdown",
   "id": "18fdfa14-0582-47bb-90c5-2c8fbe4e6259",
   "metadata": {},
   "source": [
    "max,min,sum,prod\n",
    "mean,median. std, var"
   ]
  },
  {
   "cell_type": "code",
   "execution_count": 139,
   "id": "01e77722-7948-40c8-bc76-a589020d8733",
   "metadata": {
    "tags": []
   },
   "outputs": [
    {
     "data": {
      "text/plain": [
       "array([[1, 2],\n",
       "       [3, 4]])"
      ]
     },
     "execution_count": 139,
     "metadata": {},
     "output_type": "execute_result"
    }
   ],
   "source": [
    "n1"
   ]
  },
  {
   "cell_type": "code",
   "execution_count": 140,
   "id": "d6e0a808-dc97-4fcb-a33a-22631aaee44d",
   "metadata": {
    "tags": []
   },
   "outputs": [
    {
     "data": {
      "text/plain": [
       "10"
      ]
     },
     "execution_count": 140,
     "metadata": {},
     "output_type": "execute_result"
    }
   ],
   "source": [
    "np.sum(n1)"
   ]
  },
  {
   "cell_type": "code",
   "execution_count": 143,
   "id": "1db3f7de-a761-43e7-9a21-25ec87728ad1",
   "metadata": {
    "tags": []
   },
   "outputs": [
    {
     "data": {
      "text/plain": [
       "array([4, 6])"
      ]
     },
     "execution_count": 143,
     "metadata": {},
     "output_type": "execute_result"
    }
   ],
   "source": [
    "np.sum(n1,axis=0) # Column"
   ]
  },
  {
   "cell_type": "code",
   "execution_count": 144,
   "id": "848b0860-65fe-4fb9-b8ae-a7caa4029333",
   "metadata": {
    "tags": []
   },
   "outputs": [
    {
     "data": {
      "text/plain": [
       "array([3, 7])"
      ]
     },
     "execution_count": 144,
     "metadata": {},
     "output_type": "execute_result"
    }
   ],
   "source": [
    "np.sum(n1,axis=1) # Row"
   ]
  },
  {
   "cell_type": "code",
   "execution_count": 147,
   "id": "abfd240f-0b29-4195-9c6b-68e8a2b6bca9",
   "metadata": {
    "tags": []
   },
   "outputs": [
    {
     "data": {
      "text/plain": [
       "array([1, 3])"
      ]
     },
     "execution_count": 147,
     "metadata": {},
     "output_type": "execute_result"
    }
   ],
   "source": [
    "np.min(n1,axis=1)"
   ]
  },
  {
   "cell_type": "code",
   "execution_count": 148,
   "id": "ca339daa-58cf-4f6c-bfe3-fb3065a5ece0",
   "metadata": {
    "tags": []
   },
   "outputs": [
    {
     "data": {
      "text/plain": [
       "(<function min at 0x10ca87170>,\n",
       " <function max at 0x10ca86df0>,\n",
       " <function sum at 0x10ca863b0>,\n",
       " <function mean at 0x10ca8c1b0>)"
      ]
     },
     "execution_count": 148,
     "metadata": {},
     "output_type": "execute_result"
    }
   ],
   "source": [
    "np.min , np.max , np.sum , np.mean "
   ]
  },
  {
   "cell_type": "code",
   "execution_count": 150,
   "id": "0a1e66e8-1567-4199-b474-aabe68ead3f2",
   "metadata": {
    "tags": []
   },
   "outputs": [
    {
     "data": {
      "text/plain": [
       "array([[ 0.84147098,  0.90929743],\n",
       "       [ 0.14112001, -0.7568025 ]])"
      ]
     },
     "execution_count": 150,
     "metadata": {},
     "output_type": "execute_result"
    }
   ],
   "source": [
    "np.sin(n1)"
   ]
  },
  {
   "cell_type": "code",
   "execution_count": null,
   "id": "fe3c16f1-9a6f-4cf8-a7c3-72ee4def6831",
   "metadata": {},
   "outputs": [],
   "source": []
  },
  {
   "cell_type": "code",
   "execution_count": 153,
   "id": "3a914652-131c-4fc6-a572-f709292532ec",
   "metadata": {
    "tags": []
   },
   "outputs": [
    {
     "data": {
      "text/plain": [
       "array([[ 0.54030231, -0.41614684],\n",
       "       [-0.9899925 , -0.65364362]])"
      ]
     },
     "execution_count": 153,
     "metadata": {},
     "output_type": "execute_result"
    }
   ],
   "source": [
    "np.cos(n1)"
   ]
  },
  {
   "cell_type": "code",
   "execution_count": null,
   "id": "d24cc76e-b8d4-4b9b-a90c-c2dea9b2a753",
   "metadata": {},
   "outputs": [],
   "source": []
  },
  {
   "cell_type": "code",
   "execution_count": 158,
   "id": "8576adfd-f1cd-4c1d-b05a-1a1040c094ec",
   "metadata": {
    "tags": []
   },
   "outputs": [
    {
     "data": {
      "text/plain": [
       "array([2., 3.])"
      ]
     },
     "execution_count": 158,
     "metadata": {},
     "output_type": "execute_result"
    }
   ],
   "source": [
    "np.mean(n1,axis=0)"
   ]
  },
  {
   "cell_type": "code",
   "execution_count": null,
   "id": "98f57922-4df8-4d6e-94a2-752148d57b34",
   "metadata": {},
   "outputs": [],
   "source": []
  },
  {
   "cell_type": "code",
   "execution_count": null,
   "id": "c19d535e-2b5b-432b-a79c-901b8805c8d8",
   "metadata": {},
   "outputs": [],
   "source": []
  },
  {
   "cell_type": "markdown",
   "id": "de9c0890-a51c-40d3-a471-0b57c04d4ebc",
   "metadata": {},
   "source": [
    "# Dot product"
   ]
  },
  {
   "cell_type": "code",
   "execution_count": 159,
   "id": "790ff246-1c61-4eec-b4fb-d80eea9dd262",
   "metadata": {
    "tags": []
   },
   "outputs": [
    {
     "data": {
      "text/plain": [
       "array([[1, 2],\n",
       "       [3, 4]])"
      ]
     },
     "execution_count": 159,
     "metadata": {},
     "output_type": "execute_result"
    }
   ],
   "source": [
    "n1"
   ]
  },
  {
   "cell_type": "code",
   "execution_count": 162,
   "id": "1db59fd1-a1d8-468a-a847-688fb7b93f8c",
   "metadata": {
    "tags": []
   },
   "outputs": [
    {
     "data": {
      "text/plain": [
       "array([[1., 1., 1., 1., 1.],\n",
       "       [1., 1., 1., 1., 1.]])"
      ]
     },
     "execution_count": 162,
     "metadata": {},
     "output_type": "execute_result"
    }
   ],
   "source": [
    "n3 = np.ones((2,5))\n",
    "n3"
   ]
  },
  {
   "cell_type": "code",
   "execution_count": 164,
   "id": "d88e080b-4580-43fd-a339-230bbc6082d4",
   "metadata": {
    "tags": []
   },
   "outputs": [
    {
     "data": {
      "text/plain": [
       "array([[3., 3., 3., 3., 3.],\n",
       "       [7., 7., 7., 7., 7.]])"
      ]
     },
     "execution_count": 164,
     "metadata": {},
     "output_type": "execute_result"
    }
   ],
   "source": [
    "np.dot(n1,n3)"
   ]
  },
  {
   "cell_type": "code",
   "execution_count": 166,
   "id": "7cd0f455-55a5-4d66-9bb7-6bee51b02fe2",
   "metadata": {
    "tags": []
   },
   "outputs": [
    {
     "data": {
      "text/plain": [
       "array([[1., 1.],\n",
       "       [1., 1.],\n",
       "       [1., 1.],\n",
       "       [1., 1.],\n",
       "       [1., 1.]])"
      ]
     },
     "execution_count": 166,
     "metadata": {},
     "output_type": "execute_result"
    }
   ],
   "source": [
    "n4 = np.ones((5,2))\n",
    "n4"
   ]
  },
  {
   "cell_type": "code",
   "execution_count": 168,
   "id": "894f20a0-2f0f-4db6-8a92-95fec204d4a3",
   "metadata": {
    "tags": []
   },
   "outputs": [
    {
     "ename": "ValueError",
     "evalue": "shapes (2,2) and (5,2) not aligned: 2 (dim 1) != 5 (dim 0)",
     "output_type": "error",
     "traceback": [
      "\u001b[0;31m---------------------------------------------------------------------------\u001b[0m",
      "\u001b[0;31mValueError\u001b[0m                                Traceback (most recent call last)",
      "Cell \u001b[0;32mIn[168], line 1\u001b[0m\n\u001b[0;32m----> 1\u001b[0m np\u001b[38;5;241m.\u001b[39mdot(n1,n4)\n",
      "\u001b[0;31mValueError\u001b[0m: shapes (2,2) and (5,2) not aligned: 2 (dim 1) != 5 (dim 0)"
     ]
    }
   ],
   "source": [
    "np.dot(n1,n4)"
   ]
  },
  {
   "cell_type": "code",
   "execution_count": null,
   "id": "38bbc0d8-c5d9-4222-a98e-7a096d277666",
   "metadata": {},
   "outputs": [],
   "source": []
  },
  {
   "cell_type": "code",
   "execution_count": 170,
   "id": "615ddd8f-d6cf-446a-aa93-5ec3fabb3149",
   "metadata": {
    "tags": []
   },
   "outputs": [
    {
     "data": {
      "text/plain": [
       "array([[1, 2],\n",
       "       [3, 4]])"
      ]
     },
     "execution_count": 170,
     "metadata": {},
     "output_type": "execute_result"
    }
   ],
   "source": [
    "n1"
   ]
  },
  {
   "cell_type": "code",
   "execution_count": 172,
   "id": "a7607070-d50d-4954-b114-6c277620300e",
   "metadata": {
    "tags": []
   },
   "outputs": [
    {
     "data": {
      "text/plain": [
       "array([1, 2])"
      ]
     },
     "execution_count": 172,
     "metadata": {},
     "output_type": "execute_result"
    }
   ],
   "source": [
    "n1[0]"
   ]
  },
  {
   "cell_type": "code",
   "execution_count": 176,
   "id": "b69a0a28-5ca6-40d4-a533-f01f737044e2",
   "metadata": {
    "tags": []
   },
   "outputs": [],
   "source": [
    "n2 = np.arange(1,5)"
   ]
  },
  {
   "cell_type": "code",
   "execution_count": 178,
   "id": "628b8bed-f55b-4358-b6c5-36f4c9fe78ea",
   "metadata": {
    "tags": []
   },
   "outputs": [
    {
     "data": {
      "text/plain": [
       "array([1, 2, 3, 4])"
      ]
     },
     "execution_count": 178,
     "metadata": {},
     "output_type": "execute_result"
    }
   ],
   "source": [
    "n2"
   ]
  },
  {
   "cell_type": "code",
   "execution_count": 185,
   "id": "ea3daa6c-c186-465d-829b-21ba1685b465",
   "metadata": {
    "tags": []
   },
   "outputs": [
    {
     "data": {
      "text/plain": [
       "array([1, 3])"
      ]
     },
     "execution_count": 185,
     "metadata": {},
     "output_type": "execute_result"
    }
   ],
   "source": [
    "n2[0::2]"
   ]
  },
  {
   "cell_type": "code",
   "execution_count": null,
   "id": "1e1511f2-7136-4e56-b765-bde3d5a2d31b",
   "metadata": {},
   "outputs": [],
   "source": []
  },
  {
   "cell_type": "code",
   "execution_count": null,
   "id": "9fc5b486-9899-4df0-b2a4-9ba1c697a805",
   "metadata": {},
   "outputs": [],
   "source": []
  },
  {
   "cell_type": "code",
   "execution_count": 192,
   "id": "a6ec11e9-43a1-4cd1-9eb9-2a5116bd6a8e",
   "metadata": {
    "tags": []
   },
   "outputs": [
    {
     "name": "stdout",
     "output_type": "stream",
     "text": [
      "i is [1 2]\n",
      "j is 1\n",
      "i is [1 2]\n",
      "j is 2\n",
      "i is [3 4]\n",
      "j is 3\n",
      "i is [3 4]\n",
      "j is 4\n"
     ]
    }
   ],
   "source": [
    "for i in n1:\n",
    "    for j in i:\n",
    "        print(f'i is {i}')\n",
    "        print (f'j is {j}')\n",
    "    \n"
   ]
  },
  {
   "cell_type": "code",
   "execution_count": 194,
   "id": "2036ea49-14c6-40a8-bc14-3971ad0e00d7",
   "metadata": {
    "tags": []
   },
   "outputs": [
    {
     "name": "stdout",
     "output_type": "stream",
     "text": [
      "i is 1\n",
      "i is 2\n",
      "i is 3\n",
      "i is 4\n"
     ]
    }
   ],
   "source": [
    "for i in np.nditer(n1):\n",
    "    print(f'i is {i}')"
   ]
  },
  {
   "cell_type": "code",
   "execution_count": 197,
   "id": "c306edd4-8fe9-40da-a130-8d2552d0a558",
   "metadata": {
    "tags": []
   },
   "outputs": [
    {
     "name": "stdout",
     "output_type": "stream",
     "text": [
      "i is 1\n",
      "i is 2\n",
      "i is 3\n",
      "i is 4\n"
     ]
    }
   ],
   "source": [
    "for elem in np.ravel(n1):\n",
    "    print(f'i is {elem}')"
   ]
  },
  {
   "cell_type": "code",
   "execution_count": null,
   "id": "54d0b7bf-0705-4b8f-84fc-97bd0c202e31",
   "metadata": {},
   "outputs": [],
   "source": []
  },
  {
   "cell_type": "markdown",
   "id": "cad4ffa8-bbbe-47bf-bd14-36ee6ae1b155",
   "metadata": {
    "tags": []
   },
   "source": [
    "# Broadcasting"
   ]
  },
  {
   "cell_type": "code",
   "execution_count": 201,
   "id": "778d90c0-fc14-4745-8bf8-3374c1ebc041",
   "metadata": {
    "tags": []
   },
   "outputs": [
    {
     "data": {
      "text/plain": [
       "array([[1, 2, 3],\n",
       "       [4, 5, 6],\n",
       "       [7, 8, 9]])"
      ]
     },
     "execution_count": 201,
     "metadata": {},
     "output_type": "execute_result"
    }
   ],
   "source": [
    "n1 = np.arange(1,10).reshape(3,3)\n",
    "n1"
   ]
  },
  {
   "cell_type": "code",
   "execution_count": 205,
   "id": "6faf7614-bd35-42bc-88c4-b6219aa94337",
   "metadata": {
    "tags": []
   },
   "outputs": [
    {
     "data": {
      "text/plain": [
       "array([[1, 2, 3]])"
      ]
     },
     "execution_count": 205,
     "metadata": {},
     "output_type": "execute_result"
    }
   ],
   "source": [
    "n2 = np.arange(1,4).reshape(1,3)\n",
    "n2"
   ]
  },
  {
   "cell_type": "code",
   "execution_count": 206,
   "id": "6a3c2bf0-a585-44dd-a065-dd2887e5ab1e",
   "metadata": {
    "tags": []
   },
   "outputs": [
    {
     "data": {
      "text/plain": [
       "array([[ 2,  4,  6],\n",
       "       [ 5,  7,  9],\n",
       "       [ 8, 10, 12]])"
      ]
     },
     "execution_count": 206,
     "metadata": {},
     "output_type": "execute_result"
    }
   ],
   "source": [
    "n1 + n2"
   ]
  }
 ],
 "metadata": {
  "kernelspec": {
   "display_name": "Python 3 (ipykernel)",
   "language": "python",
   "name": "python3"
  },
  "language_info": {
   "codemirror_mode": {
    "name": "ipython",
    "version": 3
   },
   "file_extension": ".py",
   "mimetype": "text/x-python",
   "name": "python",
   "nbconvert_exporter": "python",
   "pygments_lexer": "ipython3",
   "version": "3.11.5"
  }
 },
 "nbformat": 4,
 "nbformat_minor": 5
}
