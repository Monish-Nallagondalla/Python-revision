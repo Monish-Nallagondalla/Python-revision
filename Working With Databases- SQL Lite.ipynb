{
 "cells": [
  {
   "cell_type": "markdown",
   "metadata": {},
   "source": [
    "# Working with SQL Databases in Python\n",
    "\n",
    "## Introduction\n",
    "\n",
    "SQL (Structured Query Language) is a standard language for accessing and manipulating databases. SQL is used to perform various operations on the data stored in databases, such as querying, updating, inserting, and deleting data.\n",
    "\n",
    "Python provides various libraries to connect to SQL databases. One of the most commonly used libraries for SQL databases is `sqlite3`, which allows you to work with SQLite databases. SQLite is a self-contained, serverless, and zero-configuration database engine, making it ideal for local development and testing.\n",
    "\n",
    "In this tutorial, we will:\n",
    "1. Explain how to connect to a SQL database via Python.\n",
    "2. Connect to a SQL database using Python.\n",
    "3. Show basic SQL commands to work with data.\n",
    "4. Perform CRUD operations (Create, Read, Update, Delete).\n",
    "5. Perform some complex operations using SQL and Python.\n"
   ]
  },
  {
   "cell_type": "markdown",
   "metadata": {},
   "source": [
    "# in SQLlite3 it is not connecting to any online DB so everything is in local, but good for practicing"
   ]
  },
  {
   "cell_type": "markdown",
   "metadata": {},
   "source": [
    "## Connecting to a SQL Database via Python\n",
    "\n",
    "To connect to a SQL database using Python, you need to import the `sqlite3` module. This module provides a lightweight disk-based database that doesn't require a separate server process.\n",
    "\n",
    "Here's how to connect to an SQLite database:\n"
   ]
  },
  {
   "cell_type": "code",
   "execution_count": 4,
   "metadata": {},
   "outputs": [
    {
     "name": "stdout",
     "output_type": "stream",
     "text": [
      "Database connected successfully!\n"
     ]
    }
   ],
   "source": [
    "import sqlite3\n",
    "\n",
    "# Connect to the database (or create it if it doesn't exist)\n",
    "conn = sqlite3.connect('example.db')\n",
    "\n",
    "# Create a cursor object to execute SQL commands\n",
    "cur = conn.cursor()\n",
    "\n",
    "print('Database connected successfully!')"
   ]
  },
  {
   "cell_type": "markdown",
   "metadata": {},
   "source": [
    "## Basic SQL Commands\n",
    "\n",
    "Once connected to the database, you can execute SQL commands using the cursor object. Here are some basic SQL commands to work with data:\n",
    "\n",
    "- **CREATE TABLE**: Creates a new table in the database.\n",
    "- **INSERT INTO**: Inserts new data into a table.\n",
    "- **SELECT**: Retrieves data from a table.\n",
    "- **UPDATE**: Updates existing data in a table.\n",
    "- **DELETE**: Deletes data from a table.\n",
    "- **DROP TABLE**: Deletes a table from the database.\n"
   ]
  },
  {
   "cell_type": "markdown",
   "metadata": {},
   "source": [
    "### Creating a Table\n",
    "\n",
    "Let's create a table named `students` with columns `id`, `name`, and `age`.\n"
   ]
  },
  {
   "cell_type": "code",
   "execution_count": 6,
   "metadata": {},
   "outputs": [
    {
     "name": "stdout",
     "output_type": "stream",
     "text": [
      "Table created successfully!\n"
     ]
    }
   ],
   "source": [
    "# Create a table named students\n",
    "cur.execute('''\n",
    "CREATE TABLE IF NOT EXISTS students (\n",
    "    id INTEGER PRIMARY KEY,\n",
    "    name TEXT NOT NULL,\n",
    "    age INTEGER NOT NULL\n",
    ")\n",
    "''')\n",
    "\n",
    "# Commit the changes\n",
    "conn.commit()\n",
    "\n",
    "print('Table created successfully!')"
   ]
  },
  {
   "cell_type": "markdown",
   "metadata": {},
   "source": [
    "### Inserting Data into the Table\n",
    "\n",
    "Now, let's insert some data into the `students` table.\n"
   ]
  },
  {
   "cell_type": "code",
   "execution_count": 8,
   "metadata": {},
   "outputs": [
    {
     "name": "stdout",
     "output_type": "stream",
     "text": [
      "Data inserted successfully!\n"
     ]
    }
   ],
   "source": [
    "# Insert data into the students table\n",
    "cur.execute(\"INSERT INTO students (name, age) VALUES ('Alice', 21)\")\n",
    "cur.execute(\"INSERT INTO students (name, age) VALUES ('Bob', 22)\")\n",
    "cur.execute(\"INSERT INTO students (name, age) VALUES ('Charlie', 23)\")\n",
    "\n",
    "# Commit the changes\n",
    "conn.commit()\n",
    "\n",
    "print('Data inserted successfully!')"
   ]
  },
  {
   "cell_type": "markdown",
   "metadata": {},
   "source": [
    "### Retrieving Data from the Table\n",
    "\n",
    "We can retrieve data from the `students` table using the `SELECT` statement.\n"
   ]
  },
  {
   "cell_type": "code",
   "execution_count": 10,
   "metadata": {},
   "outputs": [
    {
     "name": "stdout",
     "output_type": "stream",
     "text": [
      "(1, 'Alice', 21)\n",
      "(2, 'Bob', 22)\n",
      "(3, 'Charlie', 23)\n",
      "(4, 'Alice', 21)\n",
      "(5, 'Bob', 22)\n",
      "(6, 'Charlie', 23)\n"
     ]
    }
   ],
   "source": [
    "# Retrieve data from the students table\n",
    "cur.execute(\"SELECT * FROM students\")\n",
    "rows = cur.fetchall()\n",
    "\n",
    "for row in rows:\n",
    "    print(row)"
   ]
  },
  {
   "cell_type": "markdown",
   "metadata": {},
   "source": [
    "### Updating Data in the Table\n",
    "\n",
    "We can update existing data in the `students` table using the `UPDATE` statement.\n"
   ]
  },
  {
   "cell_type": "code",
   "execution_count": 5,
   "metadata": {},
   "outputs": [
    {
     "name": "stdout",
     "output_type": "stream",
     "text": [
      "(1, 'Alice', 21)\n",
      "(2, 'Bob', 22)\n",
      "(3, 'Charlie', 23)\n",
      "(4, 'Dave', 24)\n"
     ]
    }
   ],
   "source": [
    "# Update data in the students table\n",
    "cur.execute(\"UPDATE students SET age = 24 WHERE name = 'Charlie'\")\n",
    "\n",
    "# Commit the changes\n",
    "conn.commit()\n",
    "\n",
    "print('Data updated successfully!')\n",
    "\n",
    "# Verify the update\n",
    "cur.execute(\"SELECT * FROM students\")\n",
    "rows = cur.fetchall()\n",
    "\n",
    "for row in rows:\n",
    "    print(row)"
   ]
  },
  {
   "cell_type": "markdown",
   "metadata": {},
   "source": [
    "### Deleting Data from the Table\n",
    "\n",
    "We can delete data from the `students` table using the `DELETE` statement.\n"
   ]
  },
  {
   "cell_type": "code",
   "execution_count": 6,
   "metadata": {},
   "outputs": [
    {
     "name": "stdout",
     "output_type": "stream",
     "text": [
      "(1, 'Alice', 21)\n",
      "(2, 'Bob', 22)\n"
     ]
    }
   ],
   "source": [
    "# Delete data from the students table\n",
    "cur.execute(\"DELETE FROM students WHERE name = 'Charlie'\")\n",
    "\n",
    "# Commit the changes\n",
    "conn.commit()\n",
    "\n",
    "print('Data deleted successfully!')\n",
    "\n",
    "# Verify the deletion\n",
    "cur.execute(\"SELECT * FROM students\")\n",
    "rows = cur.fetchall()\n",
    "\n",
    "for row in rows:\n",
    "    print(row)"
   ]
  },
  {
   "cell_type": "markdown",
   "metadata": {},
   "source": [
    "## Complex Operations\n",
    "\n",
    "Let's explore some complex operations that we can perform on the database using Python:\n",
    "\n",
    "### Joining Tables\n",
    "\n",
    "We can join two or more tables using the `JOIN` statement. Let's create another table `courses` and demonstrate a join operation.\n"
   ]
  },
  {
   "cell_type": "code",
   "execution_count": 7,
   "metadata": {},
   "outputs": [],
   "source": [
    "# Create a table named courses\n",
    "cur.execute('''\n",
    "CREATE TABLE IF NOT EXISTS courses (\n",
    "    course_id INTEGER PRIMARY KEY,\n",
    "    student_id INTEGER,\n",
    "    course_name TEXT NOT NULL,\n",
    "    FOREIGN KEY (student_id) REFERENCES students (id)\n",
    ")\n",
    "''')\n",
    "\n",
    "# Commit the changes\n",
    "conn.commit()\n",
    "\n",
    "print('Courses table created successfully!')"
   ]
  },
  {
   "cell_type": "markdown",
   "metadata": {},
   "source": [
    "### Inserting Data into the Courses Table\n"
   ]
  },
  {
   "cell_type": "code",
   "execution_count": 8,
   "metadata": {},
   "outputs": [],
   "source": [
    "# Insert data into the courses table\n",
    "cur.execute(\"INSERT INTO courses (student_id, course_name) VALUES (1, 'Mathematics')\")\n",
    "cur.execute(\"INSERT INTO courses (student_id, course_name) VALUES (2, 'Physics')\")\n",
    "cur.execute(\"INSERT INTO courses (student_id, course_name) VALUES (1, 'Chemistry')\")\n",
    "\n",
    "# Commit the changes\n",
    "conn.commit()\n",
    "\n",
    "print('Data inserted into courses table successfully!')"
   ]
  },
  {
   "cell_type": "markdown",
   "metadata": {},
   "source": [
    "### Joining the Students and Courses Tables\n",
    "\n",
    "We can join the `students` and `courses` tables to get a combined view of student and course data.\n"
   ]
  },
  {
   "cell_type": "code",
   "execution_count": 9,
   "metadata": {},
   "outputs": [
    {
     "name": "stdout",
     "output_type": "stream",
     "text": [
      "(1, 'Alice', 21, 'Mathematics')\n",
      "(1, 'Alice', 21, 'Chemistry')\n",
      "(2, 'Bob', 22, 'Physics')\n"
     ]
    }
   ],
   "source": [
    "# Join the students and courses tables\n",
    "cur.execute('''\n",
    "SELECT students.id, students.name, students.age, courses.course_name\n",
    "FROM students\n",
    "JOIN courses ON students.id = courses.student_id\n",
    "''')\n",
    "\n",
    "rows = cur.fetchall()\n",
    "\n",
    "for row in rows:\n",
    "    print(row)"
   ]
  },
  {
   "cell_type": "markdown",
   "metadata": {},
   "source": [
    "### Handling Transactions\n",
    "\n",
    "Transactions are used to ensure that a series of SQL operations are executed as a single unit. This means that either all operations are executed successfully, or none are executed at all.\n",
    "\n",
    "Here's how to handle transactions in SQLite using Python:\n"
   ]
  },
  {
   "cell_type": "code",
   "execution_count": 10,
   "metadata": {},
   "outputs": [],
   "source": [
    "try:\n",
    "    # Start a transaction\n",
    "    cur.execute(\"BEGIN TRANSACTION\")\n",
    "    \n",
    "    # Perform multiple SQL operations\n",
    "    cur.execute(\"INSERT INTO students (name, age) VALUES ('Dave', 24)\")\n",
    "    cur.execute(\"INSERT INTO courses (student_id, course_name) VALUES (4, 'Biology')\")\n",
    "    \n",
    "    # Commit the transaction\n",
    "    conn.commit()\n",
    "    print('Transaction committed successfully!')\n",
    "except Exception as e:\n",
    "    # Rollback the transaction in case of error\n",
    "    conn.rollback()\n",
    "    print('Transaction rolled back due to error:', e)"
   ]
  },
  {
   "cell_type": "markdown",
   "metadata": {},
   "source": [
    "### Closing the Database Connection\n",
    "\n",
    "Finally, always close the database connection when you're done to free up resources.\n"
   ]
  },
  {
   "cell_type": "code",
   "execution_count": 11,
   "metadata": {},
   "outputs": [],
   "source": [
    "# Close the database connection\n",
    "conn.close()\n",
    "print('Database connection closed!')"
   ]
  }
 ],
 "metadata": {
  "kernelspec": {
   "display_name": "Python 3 (ipykernel)",
   "language": "python",
   "name": "python3"
  },
  "language_info": {
   "codemirror_mode": {
    "name": "ipython",
    "version": 3
   },
   "file_extension": ".py",
   "mimetype": "text/x-python",
   "name": "python",
   "nbconvert_exporter": "python",
   "pygments_lexer": "ipython3",
   "version": "3.11.5"
  }
 },
 "nbformat": 4,
 "nbformat_minor": 4
}
