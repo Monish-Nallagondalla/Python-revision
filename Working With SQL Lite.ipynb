{
 "cells": [
  {
   "cell_type": "markdown",
   "id": "55d44d1f",
   "metadata": {},
   "source": [
    "# MySQL Database Operations with Python\n",
    "\n",
    "\n",
    "This notebook demonstrates how to connect to a MySQL database, fetch all tables, and perform basic CRUD operations using Python. We'll use the `mysql-connector-python` library for database connectivity."
   ]
  },
  {
   "cell_type": "code",
   "execution_count": null,
   "id": "06cdba28-7e1d-4358-a447-53853ff133e1",
   "metadata": {},
   "outputs": [],
   "source": [
    "# DB Credentials\n",
    "\n",
    "Host: sql12.freesqldatabase.com\n",
    "Database name: sql12716720\n",
    "Database user: sql12716720\n",
    "Database password: 12BVgJsVAG\n",
    "Port number: 3306\n",
    "\n"
   ]
  },
  {
   "cell_type": "code",
   "execution_count": null,
   "id": "b2691fef",
   "metadata": {},
   "outputs": [],
   "source": [
    "# Install the mysql-connector-python library if you haven't already\n",
    "!pip install mysql-connector-python"
   ]
  },
  {
   "cell_type": "markdown",
   "id": "4a673732",
   "metadata": {},
   "source": [
    "## Connecting to the Database\n",
    "\n",
    "We'll start by connecting to the MySQL database using the provided credentials."
   ]
  },
  {
   "cell_type": "code",
   "execution_count": 1,
   "id": "85cf4791",
   "metadata": {},
   "outputs": [
    {
     "name": "stdout",
     "output_type": "stream",
     "text": [
      "Connection to MySQL DB successful\n"
     ]
    }
   ],
   "source": [
    "import mysql.connector\n",
    "from mysql.connector import Error\n",
    "\n",
    "# Function to create a database connection\n",
    "def create_connection(host_name, user_name, user_password, db_name):\n",
    "    connection = None\n",
    "    try:\n",
    "        connection = mysql.connector.connect(\n",
    "            host=host_name,\n",
    "            user=user_name,\n",
    "            passwd=user_password,\n",
    "            database=db_name\n",
    "        )\n",
    "        print(\"Connection to MySQL DB successful\")\n",
    "    except Error as e:\n",
    "        print(f\"The error '{e}' occurred\")\n",
    "    return connection\n",
    "\n",
    "# Connect to the database\n",
    "connection = create_connection(\n",
    "    \"sql12.freesqldatabase.com\", \"sql12716720\", \"12BVgJsVAG\", \"sql12716720\"\n",
    ")"
   ]
  },
  {
   "cell_type": "code",
   "execution_count": null,
   "id": "7bb9518f-b3b1-493d-be83-5aa0ba24bc45",
   "metadata": {},
   "outputs": [],
   "source": []
  },
  {
   "cell_type": "code",
   "execution_count": null,
   "id": "8747f89a-9ab8-4f65-9424-d437c839dddf",
   "metadata": {},
   "outputs": [],
   "source": []
  },
  {
   "cell_type": "code",
   "execution_count": null,
   "id": "663af1d1-e432-4440-b44b-be423c1571ee",
   "metadata": {},
   "outputs": [],
   "source": []
  },
  {
   "cell_type": "code",
   "execution_count": null,
   "id": "8af3e41a-b234-4648-ad66-c4f45c070908",
   "metadata": {},
   "outputs": [],
   "source": [
    "connection.close()"
   ]
  },
  {
   "cell_type": "code",
   "execution_count": null,
   "id": "788363c7-f12c-4925-9c79-8b470e2bc480",
   "metadata": {},
   "outputs": [],
   "source": []
  },
  {
   "cell_type": "code",
   "execution_count": null,
   "id": "a6bb11e1-d52e-4379-94bb-312b0fcd0f5f",
   "metadata": {},
   "outputs": [],
   "source": []
  },
  {
   "cell_type": "code",
   "execution_count": null,
   "id": "5490ad65-c28d-403a-b35c-9d124dc39707",
   "metadata": {},
   "outputs": [],
   "source": []
  },
  {
   "cell_type": "code",
   "execution_count": 3,
   "id": "84d29e63-c58e-4c38-b7a2-83a61f07f1d0",
   "metadata": {},
   "outputs": [
    {
     "data": {
      "text/plain": [
       "<mysql.connector.connection_cext.CMySQLConnection at 0x10a319b50>"
      ]
     },
     "execution_count": 3,
     "metadata": {},
     "output_type": "execute_result"
    }
   ],
   "source": [
    "connection"
   ]
  },
  {
   "cell_type": "code",
   "execution_count": null,
   "id": "8e2a8107-c51d-4178-93da-53db1962e596",
   "metadata": {},
   "outputs": [],
   "source": []
  },
  {
   "cell_type": "markdown",
   "id": "f5583609",
   "metadata": {},
   "source": [
    "## Fetching All Table Names\n",
    "\n",
    "Next, we'll fetch and display all the table names in the connected database."
   ]
  },
  {
   "cell_type": "code",
   "execution_count": 10,
   "id": "59c3f919",
   "metadata": {},
   "outputs": [
    {
     "name": "stdout",
     "output_type": "stream",
     "text": [
      "Tables in the database:\n",
      "students\n",
      "test_table\n"
     ]
    }
   ],
   "source": [
    "# Function to fetch all table names\n",
    "def fetch_tables(connection):\n",
    "    cursor = connection.cursor()\n",
    "    try:\n",
    "        cursor.execute(\"SHOW TABLES\")\n",
    "        tables = cursor.fetchall()\n",
    "        return tables\n",
    "    except Error as e:\n",
    "        print(f\"The error '{e}' occurred\")\n",
    "        return None\n",
    "\n",
    "# Fetch and print all table names\n",
    "if connection:\n",
    "    tables = fetch_tables(connection)\n",
    "    if tables:\n",
    "        print(\"Tables in the database:\")\n",
    "        for table in tables:\n",
    "            print(table[0])"
   ]
  },
  {
   "cell_type": "code",
   "execution_count": null,
   "id": "e849150f-3eaf-4ee1-a17a-b46b77d918d2",
   "metadata": {},
   "outputs": [],
   "source": []
  },
  {
   "cell_type": "code",
   "execution_count": null,
   "id": "707a589a-bbfa-4a1c-9b64-c6159a7d96cf",
   "metadata": {},
   "outputs": [],
   "source": []
  },
  {
   "cell_type": "markdown",
   "id": "9df886f7",
   "metadata": {},
   "source": [
    "## Creating a New Table\n",
    "\n",
    "We'll create a new table named `test_table` to demonstrate basic CRUD operations."
   ]
  },
  {
   "cell_type": "code",
   "execution_count": null,
   "id": "6b48bc07-214d-4169-aa5d-354d6ec9cf53",
   "metadata": {},
   "outputs": [],
   "source": [
    "# Function to execute a single query\n",
    "def execute_query(connection, query):\n",
    "    cursor = connection.cursor()\n",
    "    try:\n",
    "        cursor.execute(query)\n",
    "        connection.commit()\n",
    "        print(\"Query executed successfully\")\n",
    "    except Error as e:\n",
    "        print(f\"The error '{e}' occurred\")\n"
   ]
  },
  {
   "cell_type": "code",
   "execution_count": 8,
   "id": "e055004a",
   "metadata": {},
   "outputs": [
    {
     "name": "stdout",
     "output_type": "stream",
     "text": [
      "Query executed successfully\n"
     ]
    }
   ],
   "source": [
    "\n",
    "# Create a new table\n",
    "create_test_table = \"\"\"\n",
    "CREATE TABLE IF NOT EXISTS test_table (\n",
    "    id INT AUTO_INCREMENT, \n",
    "    name TEXT NOT NULL, \n",
    "    age INT, \n",
    "    PRIMARY KEY (id)\n",
    ") ENGINE = InnoDB\n",
    "\"\"\"\n",
    "execute_query(connection, create_test_table)"
   ]
  },
  {
   "cell_type": "markdown",
   "id": "193a8e32",
   "metadata": {},
   "source": [
    "## Inserting Data into the Table\n",
    "\n",
    "Now, we'll insert some data into the `test_table`."
   ]
  },
  {
   "cell_type": "code",
   "execution_count": 12,
   "id": "fa4f1e8f",
   "metadata": {},
   "outputs": [
    {
     "name": "stdout",
     "output_type": "stream",
     "text": [
      "Query executed successfully\n"
     ]
    }
   ],
   "source": [
    "# Insert data into the table\n",
    "insert_data = \"\"\"\n",
    "INSERT INTO test_table (name, age) VALUES \n",
    "('Alice', 21),\n",
    "('Bob', 22),\n",
    "('Charlie', 23)\n",
    "\"\"\"\n",
    "execute_query(connection, insert_data)"
   ]
  },
  {
   "cell_type": "markdown",
   "id": "2a923988",
   "metadata": {},
   "source": [
    "## Reading Data from the Table\n",
    "\n",
    "We'll read and display the data from the `test_table`."
   ]
  },
  {
   "cell_type": "code",
   "execution_count": 14,
   "id": "d9cc07b3-6903-498d-8365-6acd8a5ef54d",
   "metadata": {},
   "outputs": [],
   "source": [
    "# Function to execute a query and fetch all results\n",
    "def execute_read_query(connection, query):\n",
    "    cursor = connection.cursor()\n",
    "    result = None\n",
    "    try:\n",
    "        cursor.execute(query)\n",
    "        result = cursor.fetchall()\n",
    "        return result\n",
    "    except Error as e:\n",
    "        print(f\"The error '{e}' occurred\")"
   ]
  },
  {
   "cell_type": "code",
   "execution_count": 16,
   "id": "6eac45cf",
   "metadata": {},
   "outputs": [
    {
     "name": "stdout",
     "output_type": "stream",
     "text": [
      "Data in test_table:\n",
      "(1, 'Alice', 21)\n",
      "(2, 'Bob', 22)\n",
      "(3, 'Charlie', 23)\n"
     ]
    }
   ],
   "source": [
    "\n",
    "\n",
    "# Read data from the table\n",
    "select_data = \"SELECT * FROM test_table\"\n",
    "data = execute_read_query(connection, select_data)\n",
    "\n",
    "print(\"Data in test_table:\")\n",
    "for row in data:\n",
    "    print(row)"
   ]
  },
  {
   "cell_type": "markdown",
   "id": "888f68e0",
   "metadata": {},
   "source": [
    "## Updating Data in the Table\n",
    "\n",
    "We'll update the age of one of the records in the `test_table`."
   ]
  },
  {
   "cell_type": "code",
   "execution_count": 26,
   "id": "816cbc78",
   "metadata": {},
   "outputs": [
    {
     "name": "stdout",
     "output_type": "stream",
     "text": [
      "Query executed successfully\n"
     ]
    }
   ],
   "source": [
    "# Update data in the table\n",
    "update_data = \"\"\"\n",
    "UPDATE test_table\n",
    "SET age = 29\n",
    "WHERE name = 'Charlie'\n",
    "\"\"\"\n",
    "execute_query(connection, update_data)"
   ]
  },
  {
   "cell_type": "markdown",
   "id": "e7436e82",
   "metadata": {},
   "source": [
    "## Reading Data to Verify the Update\n",
    "\n",
    "We'll read and display the data from the `test_table` to verify the update."
   ]
  },
  {
   "cell_type": "code",
   "execution_count": 32,
   "id": "33540305",
   "metadata": {},
   "outputs": [
    {
     "name": "stdout",
     "output_type": "stream",
     "text": [
      "Data in test_table after update:\n",
      "(1, 'Alice', 21)\n",
      "(2, 'Bob', 22)\n"
     ]
    }
   ],
   "source": [
    "# Read data to verify the update\n",
    "data = execute_read_query(connection, select_data)\n",
    "\n",
    "print(\"Data in test_table after update:\")\n",
    "for row in data:\n",
    "    print(row)"
   ]
  },
  {
   "cell_type": "markdown",
   "id": "8b511978",
   "metadata": {},
   "source": [
    "## Deleting Data from the Table\n",
    "\n",
    "We'll delete one of the records from the `test_table`."
   ]
  },
  {
   "cell_type": "code",
   "execution_count": 30,
   "id": "8a233ef3",
   "metadata": {},
   "outputs": [
    {
     "name": "stdout",
     "output_type": "stream",
     "text": [
      "Query executed successfully\n"
     ]
    }
   ],
   "source": [
    "# Delete data from the table\n",
    "delete_data = \"\"\"\n",
    "DELETE FROM test_table\n",
    "WHERE name = 'Charlie'\n",
    "\"\"\"\n",
    "execute_query(connection, delete_data)"
   ]
  },
  {
   "cell_type": "markdown",
   "id": "18f207cc",
   "metadata": {},
   "source": [
    "## Reading Data to Verify the Deletion\n",
    "\n",
    "We'll read and display the data from the `test_table` to verify the deletion."
   ]
  },
  {
   "cell_type": "code",
   "execution_count": 34,
   "id": "62ff2d56",
   "metadata": {},
   "outputs": [
    {
     "name": "stdout",
     "output_type": "stream",
     "text": [
      "Data in test_table after deletion:\n",
      "(1, 'Alice', 21)\n",
      "(2, 'Bob', 22)\n"
     ]
    }
   ],
   "source": [
    "# Read data to verify the deletion\n",
    "data = execute_read_query(connection, select_data)\n",
    "\n",
    "print(\"Data in test_table after deletion:\")\n",
    "for row in data:\n",
    "    print(row)"
   ]
  },
  {
   "cell_type": "markdown",
   "id": "6df20ed1",
   "metadata": {},
   "source": [
    "## Closing the Database Connection\n",
    "\n",
    "Finally, we'll close the database connection."
   ]
  },
  {
   "cell_type": "code",
   "execution_count": 36,
   "id": "f48d8bef",
   "metadata": {},
   "outputs": [
    {
     "name": "stdout",
     "output_type": "stream",
     "text": [
      "Database connection closed!\n"
     ]
    }
   ],
   "source": [
    "# Close the database connection\n",
    "connection.close()\n",
    "print('Database connection closed!')"
   ]
  }
 ],
 "metadata": {
  "kernelspec": {
   "display_name": "Python 3 (ipykernel)",
   "language": "python",
   "name": "python3"
  },
  "language_info": {
   "codemirror_mode": {
    "name": "ipython",
    "version": 3
   },
   "file_extension": ".py",
   "mimetype": "text/x-python",
   "name": "python",
   "nbconvert_exporter": "python",
   "pygments_lexer": "ipython3",
   "version": "3.11.5"
  }
 },
 "nbformat": 4,
 "nbformat_minor": 5
}
