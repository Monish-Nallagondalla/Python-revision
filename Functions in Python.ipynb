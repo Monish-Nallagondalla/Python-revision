{
 "cells": [
  {
   "cell_type": "markdown",
   "id": "99aaea0d-40ed-4c74-adb9-0e5e5a4672af",
   "metadata": {},
   "source": [
    "# Function"
   ]
  },
  {
   "cell_type": "code",
   "execution_count": null,
   "id": "eb25577f-12d1-4700-b731-0ea5c8e6bfb2",
   "metadata": {},
   "outputs": [],
   "source": []
  },
  {
   "cell_type": "code",
   "execution_count": 1,
   "id": "a6800378-bd1c-4c6d-8ba7-590b7bf30f9c",
   "metadata": {
    "tags": []
   },
   "outputs": [
    {
     "data": {
      "text/plain": [
       "3"
      ]
     },
     "execution_count": 1,
     "metadata": {},
     "output_type": "execute_result"
    }
   ],
   "source": [
    "len(\"abc\")"
   ]
  },
  {
   "cell_type": "code",
   "execution_count": 2,
   "id": "c456edd7-d13d-4b4a-b4c4-5a252e6b28bd",
   "metadata": {
    "tags": []
   },
   "outputs": [
    {
     "data": {
      "text/plain": [
       "4"
      ]
     },
     "execution_count": 2,
     "metadata": {},
     "output_type": "execute_result"
    }
   ],
   "source": [
    "max(1,2,3,4)"
   ]
  },
  {
   "cell_type": "code",
   "execution_count": null,
   "id": "243409b8-b000-48e6-95f5-55716307626e",
   "metadata": {},
   "outputs": [],
   "source": []
  },
  {
   "cell_type": "code",
   "execution_count": 10,
   "id": "03f22b5c-65bc-426d-bce1-a01ff63452c7",
   "metadata": {
    "tags": []
   },
   "outputs": [],
   "source": [
    "def myLengthFunction(stringInput):\n",
    "    ans = 0\n",
    "    for i in stringInput:\n",
    "        ans+=1\n",
    "    print(ans)"
   ]
  },
  {
   "cell_type": "code",
   "execution_count": 14,
   "id": "387e19bd-4fc5-4f1d-b6eb-9097a74cd121",
   "metadata": {
    "tags": []
   },
   "outputs": [],
   "source": [
    "def myLengthFunction2(stringInput):\n",
    "    ans = 0\n",
    "    for i in stringInput:\n",
    "        ans+=1\n",
    "    return ans"
   ]
  },
  {
   "cell_type": "code",
   "execution_count": 11,
   "id": "1febcba1-2972-4aa4-969b-61fa5c6aa4b9",
   "metadata": {
    "tags": []
   },
   "outputs": [
    {
     "name": "stdout",
     "output_type": "stream",
     "text": [
      "3\n"
     ]
    }
   ],
   "source": [
    "lengthOfString = myLengthFunction(\"abc\")"
   ]
  },
  {
   "cell_type": "code",
   "execution_count": 12,
   "id": "cf0947c3-c45b-404c-b483-0071e0bd41e8",
   "metadata": {
    "tags": []
   },
   "outputs": [
    {
     "name": "stdout",
     "output_type": "stream",
     "text": [
      "None\n"
     ]
    }
   ],
   "source": [
    "print(lengthOfString)"
   ]
  },
  {
   "cell_type": "code",
   "execution_count": 19,
   "id": "f3b0bf95-87f8-4e89-ba83-f59a96440755",
   "metadata": {
    "tags": []
   },
   "outputs": [],
   "source": [
    "lengthOfString = myLengthFunction2(\"abc\")"
   ]
  },
  {
   "cell_type": "code",
   "execution_count": 20,
   "id": "d2dad8e3-4dcd-48dc-8ecb-dce7a7c58adc",
   "metadata": {
    "tags": []
   },
   "outputs": [
    {
     "name": "stdout",
     "output_type": "stream",
     "text": [
      "3\n"
     ]
    }
   ],
   "source": [
    "print(lengthOfString)"
   ]
  },
  {
   "cell_type": "code",
   "execution_count": null,
   "id": "12a88e7c-f690-4d4f-9e90-4cb44d890f43",
   "metadata": {},
   "outputs": [],
   "source": []
  },
  {
   "cell_type": "code",
   "execution_count": 21,
   "id": "b6e9bd0d-9391-46b4-b504-f622d27a70d7",
   "metadata": {
    "tags": []
   },
   "outputs": [],
   "source": [
    "def print3Times(stringINput):\n",
    "    for i in range(3):\n",
    "        print(stringINput)"
   ]
  },
  {
   "cell_type": "code",
   "execution_count": 22,
   "id": "894b342b-9c85-42d3-8fcf-49a7b68aa898",
   "metadata": {
    "tags": []
   },
   "outputs": [
    {
     "name": "stdout",
     "output_type": "stream",
     "text": [
      "abc\n",
      "abc\n",
      "abc\n"
     ]
    }
   ],
   "source": [
    "print3Times(\"abc\")"
   ]
  },
  {
   "cell_type": "code",
   "execution_count": null,
   "id": "9a069c06-6493-4004-8da7-f2effa616698",
   "metadata": {},
   "outputs": [],
   "source": []
  },
  {
   "cell_type": "code",
   "execution_count": null,
   "id": "44eced11-6c2e-4388-92e5-0103b7d71a6c",
   "metadata": {},
   "outputs": [],
   "source": []
  },
  {
   "cell_type": "code",
   "execution_count": 37,
   "id": "11d11397-33e7-4bb9-af47-6c2628d6a376",
   "metadata": {},
   "outputs": [],
   "source": [
    "def mySumFunction(a,b): # a,b -> Parameters\n",
    "    a = a+b  # a -> 15\n",
    "    b = a-b  # b = 15 - 5 = 10\n",
    "    print(a+b)"
   ]
  },
  {
   "cell_type": "code",
   "execution_count": 38,
   "id": "bae2cafe-042a-41f9-ab65-6c88736b95f5",
   "metadata": {},
   "outputs": [],
   "source": [
    "c = 5\n",
    "d= 10"
   ]
  },
  {
   "cell_type": "code",
   "execution_count": 39,
   "id": "f276479e-47ad-4b98-aed3-04bce8ef3b8a",
   "metadata": {},
   "outputs": [
    {
     "name": "stdout",
     "output_type": "stream",
     "text": [
      "25\n"
     ]
    }
   ],
   "source": [
    "mySumFunction(b=c,a=d) # c,d -> arguments"
   ]
  },
  {
   "cell_type": "code",
   "execution_count": 26,
   "id": "795d0304-1586-4d25-881c-ff19a3bfd68f",
   "metadata": {},
   "outputs": [
    {
     "data": {
      "text/plain": [
       "(5, 10)"
      ]
     },
     "execution_count": 26,
     "metadata": {},
     "output_type": "execute_result"
    }
   ],
   "source": [
    "c,d"
   ]
  },
  {
   "cell_type": "code",
   "execution_count": 28,
   "id": "ae1080a3-5593-444e-b29c-aba4a4ab0284",
   "metadata": {},
   "outputs": [],
   "source": [
    "def printDetails(name,add,mobile,country):\n",
    "    print(f\"The name is {name} and add is {add} and mobile is {mobile} and country is {country}\")"
   ]
  },
  {
   "cell_type": "code",
   "execution_count": 31,
   "id": "0876a5f2-5e7a-4a50-9904-c9c15be8bbfe",
   "metadata": {
    "tags": []
   },
   "outputs": [
    {
     "ename": "TypeError",
     "evalue": "printDetails() missing 1 required positional argument: 'country'",
     "output_type": "error",
     "traceback": [
      "\u001b[0;31m---------------------------------------------------------------------------\u001b[0m",
      "\u001b[0;31mTypeError\u001b[0m                                 Traceback (most recent call last)",
      "Cell \u001b[0;32mIn[31], line 1\u001b[0m\n\u001b[0;32m----> 1\u001b[0m printDetails(\u001b[38;5;124m\"\u001b[39m\u001b[38;5;124mpython\u001b[39m\u001b[38;5;124m\"\u001b[39m,\u001b[38;5;124m'\u001b[39m\u001b[38;5;124min PC\u001b[39m\u001b[38;5;124m'\u001b[39m,\u001b[38;5;124m'\u001b[39m\u001b[38;5;124m91\u001b[39m\u001b[38;5;124m'\u001b[39m)\n",
      "\u001b[0;31mTypeError\u001b[0m: printDetails() missing 1 required positional argument: 'country'"
     ]
    }
   ],
   "source": [
    "printDetails(\"python\",'in PC','91') "
   ]
  },
  {
   "cell_type": "code",
   "execution_count": null,
   "id": "50f35d61-b022-4ce9-9f09-ec2339bc8812",
   "metadata": {},
   "outputs": [],
   "source": []
  },
  {
   "cell_type": "code",
   "execution_count": 32,
   "id": "1e908da5-6362-4177-9289-352d81363f87",
   "metadata": {
    "tags": []
   },
   "outputs": [
    {
     "name": "stdout",
     "output_type": "stream",
     "text": [
      "The name is mayank and add is Delhi and mobile is 91 and country is IND\n"
     ]
    }
   ],
   "source": [
    " printDetails(\"mayank\",\"Delhi\",\"91\",\"IND\") #DEFAULT or Positional Argument"
   ]
  },
  {
   "cell_type": "code",
   "execution_count": 45,
   "id": "7a3459d7-2150-4fab-aa19-de5af99ab504",
   "metadata": {
    "tags": []
   },
   "outputs": [
    {
     "name": "stdout",
     "output_type": "stream",
     "text": [
      "The name is mayank and add is FNJ and mobile is 91 and country is IND\n"
     ]
    }
   ],
   "source": [
    "printDetails(name=\"mayank\",mobile=\"91\",country=\"IND\",add=\"FNJ\") # Keyword Argument"
   ]
  },
  {
   "cell_type": "code",
   "execution_count": 34,
   "id": "8759ddab-6952-44ed-93e3-be1f696b0bb0",
   "metadata": {
    "tags": []
   },
   "outputs": [
    {
     "name": "stdout",
     "output_type": "stream",
     "text": [
      "The name is mayank and add is Delhi and mobile is IND and country is 91\n"
     ]
    }
   ],
   "source": [
    " printDetails(\"mayank\",\"Delhi\",\"IND\",\"91\") #DEFAULT or Positional Argument"
   ]
  },
  {
   "cell_type": "code",
   "execution_count": null,
   "id": "8586541f-dcc6-47bb-a0c8-92514f32af2f",
   "metadata": {},
   "outputs": [],
   "source": []
  },
  {
   "cell_type": "code",
   "execution_count": 35,
   "id": "f0083e23-f60e-4d15-8237-997a190a37a2",
   "metadata": {
    "tags": []
   },
   "outputs": [
    {
     "name": "stdout",
     "output_type": "stream",
     "text": [
      "The name is mayank and add is Delhi and mobile is IND and country is 91\n",
      "None\n"
     ]
    }
   ],
   "source": [
    "print( printDetails(\"mayank\",\"Delhi\",\"IND\",\"91\"))"
   ]
  },
  {
   "cell_type": "code",
   "execution_count": null,
   "id": "c46d18e1-e778-4875-86ad-14278f55b616",
   "metadata": {},
   "outputs": [],
   "source": []
  },
  {
   "cell_type": "code",
   "execution_count": 43,
   "id": "4ad1db79-8c67-4eea-9abf-87a01e65a7a9",
   "metadata": {
    "tags": []
   },
   "outputs": [
    {
     "name": "stdout",
     "output_type": "stream",
     "text": [
      "Hello world\n",
      "i am python\n"
     ]
    }
   ],
   "source": [
    "print(\"Hello world\",\"i am python\",sep=\"\\n\")"
   ]
  },
  {
   "cell_type": "code",
   "execution_count": null,
   "id": "64bf15c5-cecb-459e-8422-f004869c85c9",
   "metadata": {},
   "outputs": [],
   "source": []
  },
  {
   "cell_type": "code",
   "execution_count": null,
   "id": "dd7e0c60-9637-4f82-941d-ca7a1d11c1c5",
   "metadata": {},
   "outputs": [],
   "source": []
  },
  {
   "cell_type": "code",
   "execution_count": null,
   "id": "7bbce13a-d5ec-4597-91d7-72e07bd55105",
   "metadata": {},
   "outputs": [],
   "source": []
  },
  {
   "cell_type": "code",
   "execution_count": null,
   "id": "622760d6-2be4-4dd1-bfac-5a3209f66aca",
   "metadata": {},
   "outputs": [],
   "source": []
  },
  {
   "cell_type": "code",
   "execution_count": 50,
   "id": "70670e36-e1d4-4fe8-a661-b28fd992ea42",
   "metadata": {
    "tags": []
   },
   "outputs": [],
   "source": [
    "# Default Argument\n",
    "\n",
    "def getMobileNumber(num,countryCode):\n",
    "    print(f\"{countryCode}{num}\")"
   ]
  },
  {
   "cell_type": "code",
   "execution_count": 51,
   "id": "226cfea8-5314-44a2-9bf7-13c6a9802d37",
   "metadata": {
    "tags": []
   },
   "outputs": [
    {
     "name": "stdout",
     "output_type": "stream",
     "text": [
      "+91123\n"
     ]
    }
   ],
   "source": [
    "getMobileNumber(\"123\",\"+91\")"
   ]
  },
  {
   "cell_type": "code",
   "execution_count": 52,
   "id": "d68a390e-b1f4-4275-8f57-db314a380542",
   "metadata": {
    "tags": []
   },
   "outputs": [
    {
     "name": "stdout",
     "output_type": "stream",
     "text": [
      "+91431\n"
     ]
    }
   ],
   "source": [
    "getMobileNumber(\"431\",\"+91\")"
   ]
  },
  {
   "cell_type": "code",
   "execution_count": 53,
   "id": "93b46ba6-f4e5-4798-b09f-4cd1b8410179",
   "metadata": {
    "tags": []
   },
   "outputs": [
    {
     "ename": "TypeError",
     "evalue": "getMobileNumber() missing 1 required positional argument: 'countryCode'",
     "output_type": "error",
     "traceback": [
      "\u001b[0;31m---------------------------------------------------------------------------\u001b[0m",
      "\u001b[0;31mTypeError\u001b[0m                                 Traceback (most recent call last)",
      "Cell \u001b[0;32mIn[53], line 1\u001b[0m\n\u001b[0;32m----> 1\u001b[0m getMobileNumber(\u001b[38;5;124m\"\u001b[39m\u001b[38;5;124m123\u001b[39m\u001b[38;5;124m\"\u001b[39m)\n",
      "\u001b[0;31mTypeError\u001b[0m: getMobileNumber() missing 1 required positional argument: 'countryCode'"
     ]
    }
   ],
   "source": [
    "getMobileNumber(\"123\")"
   ]
  },
  {
   "cell_type": "code",
   "execution_count": 55,
   "id": "e86339c1-c907-4543-8b8a-3f75f29337b8",
   "metadata": {
    "tags": []
   },
   "outputs": [],
   "source": [
    "# Default Parameters\n",
    "\n",
    "def getMobileNumberBetter(num,countryCode=\"+91\"):\n",
    "    print(f\"{countryCode}{num}\")"
   ]
  },
  {
   "cell_type": "code",
   "execution_count": 56,
   "id": "bfddb30e-4827-4501-9cf7-dcb6fc3de099",
   "metadata": {
    "tags": []
   },
   "outputs": [
    {
     "name": "stdout",
     "output_type": "stream",
     "text": [
      "+919531\n"
     ]
    }
   ],
   "source": [
    "getMobileNumberBetter(\"9531\")"
   ]
  },
  {
   "cell_type": "code",
   "execution_count": 58,
   "id": "ca787c21-2ada-416d-b637-43cd459c4a8b",
   "metadata": {
    "tags": []
   },
   "outputs": [
    {
     "name": "stdout",
     "output_type": "stream",
     "text": [
      "+914314\n"
     ]
    }
   ],
   "source": [
    "getMobileNumberBetter(\"4314\")"
   ]
  },
  {
   "cell_type": "code",
   "execution_count": 59,
   "id": "ff5d5ffa-d45d-4aca-9f82-683a9aa9c12c",
   "metadata": {
    "tags": []
   },
   "outputs": [
    {
     "name": "stdout",
     "output_type": "stream",
     "text": [
      "+14314\n"
     ]
    }
   ],
   "source": [
    "getMobileNumberBetter(\"4314\",\"+1\")"
   ]
  },
  {
   "cell_type": "code",
   "execution_count": null,
   "id": "cdd6ee73-2904-409c-b9d2-a8fb3d5d11a3",
   "metadata": {},
   "outputs": [],
   "source": []
  },
  {
   "cell_type": "code",
   "execution_count": 60,
   "id": "5477b4cd-2ed6-4b03-a801-887df6bf8514",
   "metadata": {
    "tags": []
   },
   "outputs": [
    {
     "name": "stdout",
     "output_type": "stream",
     "text": [
      "abc cdf\n"
     ]
    }
   ],
   "source": [
    "print(\"abc\",\"cdf\")"
   ]
  },
  {
   "cell_type": "code",
   "execution_count": null,
   "id": "7dbf5052-ac41-47a4-a4eb-32a008866bbc",
   "metadata": {},
   "outputs": [],
   "source": []
  },
  {
   "cell_type": "code",
   "execution_count": 61,
   "id": "5dec79fa-85aa-4c30-b96e-c763980e0037",
   "metadata": {
    "tags": []
   },
   "outputs": [],
   "source": [
    "def sumBetter(a,b=0,c=0):\n",
    "    return a+b+c"
   ]
  },
  {
   "cell_type": "code",
   "execution_count": 62,
   "id": "2b83e805-b788-4eeb-9e89-8326867b81eb",
   "metadata": {
    "tags": []
   },
   "outputs": [
    {
     "data": {
      "text/plain": [
       "5"
      ]
     },
     "execution_count": 62,
     "metadata": {},
     "output_type": "execute_result"
    }
   ],
   "source": [
    "sumBetter(5)"
   ]
  },
  {
   "cell_type": "code",
   "execution_count": 63,
   "id": "6efd56dc-3d63-429f-99fe-94fe6250e3df",
   "metadata": {
    "tags": []
   },
   "outputs": [
    {
     "data": {
      "text/plain": [
       "15"
      ]
     },
     "execution_count": 63,
     "metadata": {},
     "output_type": "execute_result"
    }
   ],
   "source": [
    "sumBetter(5,10)"
   ]
  },
  {
   "cell_type": "code",
   "execution_count": 64,
   "id": "84e7f4fd-c431-4d21-a423-fc73d74ee0bd",
   "metadata": {
    "tags": []
   },
   "outputs": [
    {
     "data": {
      "text/plain": [
       "20"
      ]
     },
     "execution_count": 64,
     "metadata": {},
     "output_type": "execute_result"
    }
   ],
   "source": [
    "sumBetter(5,10,5)"
   ]
  },
  {
   "cell_type": "code",
   "execution_count": 65,
   "id": "9e783d46-cf4b-4852-82e5-8785abe0290d",
   "metadata": {
    "tags": []
   },
   "outputs": [
    {
     "ename": "TypeError",
     "evalue": "sumBetter() takes from 1 to 3 positional arguments but 4 were given",
     "output_type": "error",
     "traceback": [
      "\u001b[0;31m---------------------------------------------------------------------------\u001b[0m",
      "\u001b[0;31mTypeError\u001b[0m                                 Traceback (most recent call last)",
      "Cell \u001b[0;32mIn[65], line 1\u001b[0m\n\u001b[0;32m----> 1\u001b[0m sumBetter(\u001b[38;5;241m5\u001b[39m,\u001b[38;5;241m10\u001b[39m,\u001b[38;5;241m5\u001b[39m,\u001b[38;5;241m10\u001b[39m)\n",
      "\u001b[0;31mTypeError\u001b[0m: sumBetter() takes from 1 to 3 positional arguments but 4 were given"
     ]
    }
   ],
   "source": [
    "sumBetter(5,10,5,10)"
   ]
  },
  {
   "cell_type": "code",
   "execution_count": null,
   "id": "a101cff4-10a3-4016-946e-75ea84702f78",
   "metadata": {},
   "outputs": [],
   "source": []
  },
  {
   "cell_type": "code",
   "execution_count": null,
   "id": "3adbb92d-79a5-4bc0-9e75-84089e85656e",
   "metadata": {},
   "outputs": [],
   "source": []
  },
  {
   "cell_type": "code",
   "execution_count": null,
   "id": "dd93b36d-b18c-4327-9d6d-a8f897bec175",
   "metadata": {},
   "outputs": [],
   "source": []
  },
  {
   "cell_type": "code",
   "execution_count": null,
   "id": "1f41d68c-c4b7-423d-b2c9-fe873f624d04",
   "metadata": {},
   "outputs": [],
   "source": []
  },
  {
   "cell_type": "code",
   "execution_count": null,
   "id": "237fe250-5e5e-4ca2-b237-45a0c507f79b",
   "metadata": {},
   "outputs": [],
   "source": []
  },
  {
   "cell_type": "code",
   "execution_count": null,
   "id": "84a7a43a-84d6-4cad-8001-027e809b1082",
   "metadata": {},
   "outputs": [],
   "source": []
  },
  {
   "cell_type": "code",
   "execution_count": null,
   "id": "442e458d-4835-4943-89d6-61a9be2278fb",
   "metadata": {},
   "outputs": [],
   "source": []
  },
  {
   "cell_type": "code",
   "execution_count": 76,
   "id": "a4627231-5765-46a6-9790-8c93bca35df5",
   "metadata": {
    "tags": []
   },
   "outputs": [],
   "source": [
    "def completeMyNumberBetter(phoneNumber,country,name,countryCode=\"+91\",name2=\"PYT\"):\n",
    "    phoneNumber= str(phoneNumber)\n",
    "    countryCode= str(countryCode)\n",
    "    \n",
    "    print(countryCode + phoneNumber)"
   ]
  },
  {
   "cell_type": "code",
   "execution_count": 77,
   "id": "970302db-d6f0-465a-bde3-7ff6e5e2ea2a",
   "metadata": {
    "tags": []
   },
   "outputs": [
    {
     "name": "stdout",
     "output_type": "stream",
     "text": [
      "+1123\n"
     ]
    }
   ],
   "source": [
    "completeMyNumberBetter(\"123\",\"IND\",\"pyton\",name2=\"MAY\",countryCode=\"+1\")"
   ]
  },
  {
   "cell_type": "code",
   "execution_count": null,
   "id": "98d11b24-2e71-42a3-9d08-385924a1b970",
   "metadata": {},
   "outputs": [],
   "source": []
  },
  {
   "cell_type": "markdown",
   "id": "210da559-8eeb-424c-ab8f-bdfe17ab04ec",
   "metadata": {},
   "source": [
    "# Write a function to add numbers\n"
   ]
  },
  {
   "cell_type": "code",
   "execution_count": 79,
   "id": "5229ab2b-358c-4313-824a-7c4d46ac917f",
   "metadata": {
    "tags": []
   },
   "outputs": [],
   "source": [
    "def mySum(a,b):\n",
    "    return (a+b)"
   ]
  },
  {
   "cell_type": "code",
   "execution_count": 83,
   "id": "00236de5-0af6-4262-98af-7857956a6406",
   "metadata": {
    "tags": []
   },
   "outputs": [
    {
     "ename": "TypeError",
     "evalue": "mySum() missing 1 required positional argument: 'c'",
     "output_type": "error",
     "traceback": [
      "\u001b[0;31m---------------------------------------------------------------------------\u001b[0m",
      "\u001b[0;31mTypeError\u001b[0m                                 Traceback (most recent call last)",
      "Cell \u001b[0;32mIn[83], line 1\u001b[0m\n\u001b[0;32m----> 1\u001b[0m mySum(\u001b[38;5;241m4\u001b[39m,\u001b[38;5;241m5\u001b[39m)\n",
      "\u001b[0;31mTypeError\u001b[0m: mySum() missing 1 required positional argument: 'c'"
     ]
    }
   ],
   "source": [
    "mySum(4,5)"
   ]
  },
  {
   "cell_type": "code",
   "execution_count": 81,
   "id": "d557d3d0-6a1f-478c-aa3a-31d9eec5787f",
   "metadata": {
    "tags": []
   },
   "outputs": [],
   "source": [
    "def mySum(a,b,c):\n",
    "    return (a+b)"
   ]
  },
  {
   "cell_type": "code",
   "execution_count": 82,
   "id": "4f9e1ca1-e8ab-4054-a962-9c6e82d3756c",
   "metadata": {
    "tags": []
   },
   "outputs": [
    {
     "data": {
      "text/plain": [
       "7"
      ]
     },
     "execution_count": 82,
     "metadata": {},
     "output_type": "execute_result"
    }
   ],
   "source": [
    "mySum(3,4,5)"
   ]
  },
  {
   "cell_type": "code",
   "execution_count": 84,
   "id": "78a1dc62-d04a-4b9c-b0d9-c9624dbb09d2",
   "metadata": {
    "tags": []
   },
   "outputs": [
    {
     "name": "stdout",
     "output_type": "stream",
     "text": [
      "afa afa afa afa afa afa afa afa afa afa afa\n"
     ]
    }
   ],
   "source": [
    "print(\"afa\",\"afa\",\"afa\",\"afa\",\"afa\",\"afa\",\"afa\",\"afa\",\"afa\",\"afa\",\"afa\")"
   ]
  },
  {
   "cell_type": "code",
   "execution_count": null,
   "id": "e51581a6-d0e2-4951-8455-f0c5f6a64ee2",
   "metadata": {},
   "outputs": [],
   "source": []
  },
  {
   "cell_type": "code",
   "execution_count": 89,
   "id": "ce70cc85-f99a-4390-913b-4d0f2e2c4707",
   "metadata": {
    "tags": []
   },
   "outputs": [],
   "source": [
    "def mySumBest(*params):\n",
    "    ans =0\n",
    "    for i in params:\n",
    "        ans+=i\n",
    "    print(ans)"
   ]
  },
  {
   "cell_type": "code",
   "execution_count": 91,
   "id": "4e90f126-3239-4e95-9437-98675b634815",
   "metadata": {
    "tags": []
   },
   "outputs": [
    {
     "name": "stdout",
     "output_type": "stream",
     "text": [
      "91\n"
     ]
    }
   ],
   "source": [
    "mySumBest(1,2,3,4,5,6,7,8,9,10,11,12,13)"
   ]
  },
  {
   "cell_type": "code",
   "execution_count": 104,
   "id": "054e6d71-003f-4b8a-98dc-6a341b0adfce",
   "metadata": {
    "tags": []
   },
   "outputs": [],
   "source": [
    "def myProdBest(*number,divisor):\n",
    "    ans =1\n",
    "    for i in params:\n",
    "        print(i)"
   ]
  },
  {
   "cell_type": "code",
   "execution_count": 102,
   "id": "44dbf128-2b54-4954-a365-6cd20cc9a37b",
   "metadata": {
    "tags": []
   },
   "outputs": [
    {
     "name": "stdout",
     "output_type": "stream",
     "text": [
      "(12, 3)\n",
      "12\n",
      "5\n"
     ]
    }
   ],
   "source": [
    "myProdBest((12,3),12,5)"
   ]
  },
  {
   "cell_type": "code",
   "execution_count": 105,
   "id": "6db900fb-e805-43d5-9c7f-7b4a757282bb",
   "metadata": {
    "tags": []
   },
   "outputs": [
    {
     "ename": "TypeError",
     "evalue": "myProdBest() missing 1 required keyword-only argument: 'divisor'",
     "output_type": "error",
     "traceback": [
      "\u001b[0;31m---------------------------------------------------------------------------\u001b[0m",
      "\u001b[0;31mTypeError\u001b[0m                                 Traceback (most recent call last)",
      "Cell \u001b[0;32mIn[105], line 1\u001b[0m\n\u001b[0;32m----> 1\u001b[0m myProdBest(\u001b[38;5;241m1\u001b[39m,\u001b[38;5;241m2\u001b[39m,\u001b[38;5;241m3\u001b[39m,\u001b[38;5;241m4\u001b[39m,\u001b[38;5;241m5\u001b[39m,\u001b[38;5;241m6\u001b[39m,\u001b[38;5;241m7\u001b[39m,\u001b[38;5;241m8\u001b[39m,\u001b[38;5;241m9\u001b[39m)\n",
      "\u001b[0;31mTypeError\u001b[0m: myProdBest() missing 1 required keyword-only argument: 'divisor'"
     ]
    }
   ],
   "source": [
    "myProdBest(1,2,3,4,5,6,7,8,9)"
   ]
  },
  {
   "cell_type": "code",
   "execution_count": null,
   "id": "38e5b785-fca9-4961-8d89-6c5395495f50",
   "metadata": {},
   "outputs": [],
   "source": [
    "print\n",
    "\n",
    "'''\n",
    "Signature: print(*args, sep=' ', end='\\n', file=None, flush=False)\n",
    "Docstring:\n",
    "Prints the values to a stream, or to sys.stdout by default.\n",
    "\n",
    "sep\n",
    "  string inserted between values, default a space.\n",
    "end\n",
    "  string appended after the last value, default a newline.\n",
    "file\n",
    "  a file-like object (stream); defaults to the current sys.stdout.\n",
    "flush\n",
    "  whether to forcibly flush the stream.\n",
    "Type:      builtin_function_or_method\n",
    "'''"
   ]
  },
  {
   "cell_type": "code",
   "execution_count": null,
   "id": "9d270aa5-9801-4b2f-a556-10a8c55db1ae",
   "metadata": {},
   "outputs": [],
   "source": []
  },
  {
   "cell_type": "code",
   "execution_count": 150,
   "id": "6f09c1a5-8e9a-457f-b77a-7630542cfc56",
   "metadata": {
    "tags": []
   },
   "outputs": [],
   "source": [
    "def myProdBest(*number,divisor=1):\n",
    "    ans =1\n",
    "    print(number)\n",
    "    for i in number:\n",
    "        print(i)\n",
    "    print(divisor)"
   ]
  },
  {
   "cell_type": "code",
   "execution_count": 151,
   "id": "6e2870dd-5179-4cd8-be2f-90c0d7766200",
   "metadata": {
    "tags": []
   },
   "outputs": [
    {
     "name": "stdout",
     "output_type": "stream",
     "text": [
      "(1, 2, 3, [1, 2, 3])\n",
      "1\n",
      "2\n",
      "3\n",
      "[1, 2, 3]\n",
      "1\n"
     ]
    }
   ],
   "source": [
    "myProdBest(1,2,3,[1,2,3])"
   ]
  },
  {
   "cell_type": "code",
   "execution_count": null,
   "id": "88fb6af5-2174-4e91-8fa9-d1bf6698335e",
   "metadata": {},
   "outputs": [],
   "source": []
  },
  {
   "cell_type": "code",
   "execution_count": 121,
   "id": "da392185-9de0-44f2-a432-f7443a57fe72",
   "metadata": {
    "tags": []
   },
   "outputs": [],
   "source": [
    "# kwargs"
   ]
  },
  {
   "cell_type": "markdown",
   "id": "10533c4d-877b-44f2-ba06-9d91a903dca3",
   "metadata": {},
   "source": [
    "# Keyword Argument"
   ]
  },
  {
   "cell_type": "code",
   "execution_count": 131,
   "id": "0adba925-22ac-4ae6-aa6c-b092b4afda09",
   "metadata": {
    "tags": []
   },
   "outputs": [
    {
     "ename": "SyntaxError",
     "evalue": "arguments cannot follow var-keyword argument (2300879694.py, line 1)",
     "output_type": "error",
     "traceback": [
      "\u001b[0;36m  Cell \u001b[0;32mIn[131], line 1\u001b[0;36m\u001b[0m\n\u001b[0;31m    def MyFun(**kwargs,**abc):\u001b[0m\n\u001b[0m                       ^\u001b[0m\n\u001b[0;31mSyntaxError\u001b[0m\u001b[0;31m:\u001b[0m arguments cannot follow var-keyword argument\n"
     ]
    }
   ],
   "source": [
    "def MyFun(**kwargs):\n",
    "    for k,v in kwargs.items():\n",
    "        print(f\"{k}:{v}\")\n",
    "    "
   ]
  },
  {
   "cell_type": "code",
   "execution_count": 129,
   "id": "d146c3c2-81b1-4366-8da1-d9b3dc721234",
   "metadata": {
    "tags": []
   },
   "outputs": [
    {
     "name": "stdout",
     "output_type": "stream",
     "text": [
      "firstNum:1\n",
      "secondNum:2\n",
      "thirdNum:3\n"
     ]
    }
   ],
   "source": [
    "MyFun(firstNum= 1, secondNum= 2,thirdNum = 3)"
   ]
  },
  {
   "cell_type": "code",
   "execution_count": null,
   "id": "ffbfb95a-726b-4a84-8876-5f3ccd69d0a4",
   "metadata": {},
   "outputs": [],
   "source": []
  },
  {
   "cell_type": "code",
   "execution_count": null,
   "id": "8dd63ac5-c894-49b5-b9a1-cd354740b262",
   "metadata": {},
   "outputs": [],
   "source": []
  },
  {
   "cell_type": "code",
   "execution_count": null,
   "id": "7b00affe-759b-483a-a708-1e1e8373141b",
   "metadata": {},
   "outputs": [],
   "source": []
  },
  {
   "cell_type": "code",
   "execution_count": null,
   "id": "9f185a7c-67c7-4f00-9d86-becab5e0af34",
   "metadata": {},
   "outputs": [],
   "source": [
    "userInput(name=json[\"name\"],mobile = "
   ]
  },
  {
   "cell_type": "code",
   "execution_count": null,
   "id": "c317fbbb-a9be-4a15-a89d-b927421072ca",
   "metadata": {},
   "outputs": [],
   "source": []
  },
  {
   "cell_type": "code",
   "execution_count": null,
   "id": "2e36892c-822d-4ecc-b7fd-367a6f0e0c4d",
   "metadata": {},
   "outputs": [],
   "source": []
  },
  {
   "cell_type": "code",
   "execution_count": null,
   "id": "8012e781-07e5-4232-b29f-dbf7a263bcf3",
   "metadata": {},
   "outputs": [],
   "source": []
  },
  {
   "cell_type": "markdown",
   "id": "b285c8f7-a32c-4033-962e-ef9c99cf990e",
   "metadata": {},
   "source": [
    "# Scope Of Variable"
   ]
  },
  {
   "cell_type": "code",
   "execution_count": 2,
   "id": "87172631-a83b-4c52-9cd4-b9662073f470",
   "metadata": {
    "tags": []
   },
   "outputs": [],
   "source": [
    "# Restarting the kernel"
   ]
  },
  {
   "cell_type": "code",
   "execution_count": 1,
   "id": "fe688b49-64aa-47f1-9a2b-e45439bb3179",
   "metadata": {
    "tags": []
   },
   "outputs": [
    {
     "ename": "NameError",
     "evalue": "name 'a' is not defined",
     "output_type": "error",
     "traceback": [
      "\u001b[0;31m---------------------------------------------------------------------------\u001b[0m",
      "\u001b[0;31mNameError\u001b[0m                                 Traceback (most recent call last)",
      "Cell \u001b[0;32mIn[1], line 1\u001b[0m\n\u001b[0;32m----> 1\u001b[0m a\n",
      "\u001b[0;31mNameError\u001b[0m: name 'a' is not defined"
     ]
    }
   ],
   "source": []
  },
  {
   "cell_type": "code",
   "execution_count": null,
   "id": "5cfccfc3-645d-46fe-b097-af17c6c832c0",
   "metadata": {},
   "outputs": [],
   "source": []
  },
  {
   "cell_type": "code",
   "execution_count": 22,
   "id": "73a45a76-73e7-43e2-822d-1acf2ca1a734",
   "metadata": {
    "tags": []
   },
   "outputs": [
    {
     "name": "stdout",
     "output_type": "stream",
     "text": [
      "532INDpython 10\n",
      "10\n",
      "532INDpythonINDIA\n"
     ]
    }
   ],
   "source": [
    "phoneNumber=\"532\"\n",
    "country=\"IND\"\n",
    "name=\"python\"\n",
    "\n",
    "a= 10\n",
    "\n",
    "def completeMyNumberBetter(phoneNumber,country,name,countryCode=\"+91\",name2=\"PYT\"):\n",
    "    phoneNumber= str(phoneNumber)\n",
    "    countryCode= str(countryCode)\n",
    "    global fullMobileNumber\n",
    "    fullMobileNumber = str(phoneNumber)+str(country)+str(name)\n",
    "    print(fullMobileNumber,a)\n",
    "    \n",
    "completeMyNumberBetter(phoneNumber,country,name)\n",
    "\n",
    "print(a)\n",
    "\n",
    "print(fullMobileNumber + \"INDIA\")"
   ]
  },
  {
   "cell_type": "code",
   "execution_count": null,
   "id": "f618a951-a927-429f-909f-5fc99a8f68ea",
   "metadata": {},
   "outputs": [],
   "source": []
  },
  {
   "cell_type": "code",
   "execution_count": 15,
   "id": "4062f540-6699-4240-8f36-caee41c5eaf1",
   "metadata": {
    "tags": []
   },
   "outputs": [
    {
     "name": "stdout",
     "output_type": "stream",
     "text": [
      "5 10\n",
      "10\n"
     ]
    }
   ],
   "source": [
    "d = 10\n",
    "\n",
    "def fun():\n",
    "    d = 5\n",
    "    z = 10\n",
    "    print(d,z)\n",
    "    \n",
    "fun()\n",
    "print(d)"
   ]
  },
  {
   "cell_type": "code",
   "execution_count": null,
   "id": "ff3270c0-5235-4610-a538-6ff34e47c021",
   "metadata": {},
   "outputs": [],
   "source": []
  },
  {
   "cell_type": "code",
   "execution_count": 16,
   "id": "bd98b50d-dfa4-4d16-973e-a6af8c46f3f5",
   "metadata": {
    "tags": []
   },
   "outputs": [
    {
     "name": "stdout",
     "output_type": "stream",
     "text": [
      "PYTHON\n"
     ]
    }
   ],
   "source": [
    "def fun1():\n",
    "    print(p1)\n",
    "    \n",
    "p1 = \"PYTHON\"\n",
    "fun1()"
   ]
  },
  {
   "cell_type": "code",
   "execution_count": 19,
   "id": "bd4f205d-89e1-447f-b622-a02b220dc14c",
   "metadata": {
    "tags": []
   },
   "outputs": [],
   "source": [
    "def fun1():\n",
    "    print(p3)\n",
    "    \n"
   ]
  },
  {
   "cell_type": "code",
   "execution_count": 20,
   "id": "6eecf68b-9f56-4b0d-8675-c8a8dfbb997d",
   "metadata": {
    "tags": []
   },
   "outputs": [
    {
     "ename": "NameError",
     "evalue": "name 'p3' is not defined",
     "output_type": "error",
     "traceback": [
      "\u001b[0;31m---------------------------------------------------------------------------\u001b[0m",
      "\u001b[0;31mNameError\u001b[0m                                 Traceback (most recent call last)",
      "Cell \u001b[0;32mIn[20], line 1\u001b[0m\n\u001b[0;32m----> 1\u001b[0m fun1()\n\u001b[1;32m      2\u001b[0m p3 \u001b[38;5;241m=\u001b[39m \u001b[38;5;124m\"\u001b[39m\u001b[38;5;124mPYTHON\u001b[39m\u001b[38;5;124m\"\u001b[39m\n",
      "Cell \u001b[0;32mIn[19], line 2\u001b[0m, in \u001b[0;36mfun1\u001b[0;34m()\u001b[0m\n\u001b[1;32m      1\u001b[0m \u001b[38;5;28;01mdef\u001b[39;00m \u001b[38;5;21mfun1\u001b[39m():\n\u001b[0;32m----> 2\u001b[0m     \u001b[38;5;28mprint\u001b[39m(p3)\n",
      "\u001b[0;31mNameError\u001b[0m: name 'p3' is not defined"
     ]
    }
   ],
   "source": [
    "fun1()\n",
    "p3 = \"PYTHON\""
   ]
  },
  {
   "cell_type": "code",
   "execution_count": null,
   "id": "778b71fc-440e-435a-a7c0-3335b4828830",
   "metadata": {},
   "outputs": [],
   "source": []
  },
  {
   "cell_type": "code",
   "execution_count": 1,
   "id": "cc37bbd7-2c12-49c3-986b-ffd2e17da062",
   "metadata": {
    "tags": []
   },
   "outputs": [
    {
     "name": "stdout",
     "output_type": "stream",
     "text": [
      "5\n",
      "10\n"
     ]
    },
    {
     "ename": "NameError",
     "evalue": "name 'c' is not defined",
     "output_type": "error",
     "traceback": [
      "\u001b[0;31m---------------------------------------------------------------------------\u001b[0m",
      "\u001b[0;31mNameError\u001b[0m                                 Traceback (most recent call last)",
      "Cell \u001b[0;32mIn[1], line 10\u001b[0m\n\u001b[1;32m      5\u001b[0m     \u001b[38;5;28mprint\u001b[39m(c)\n\u001b[1;32m      9\u001b[0m g()\n\u001b[0;32m---> 10\u001b[0m \u001b[38;5;28mprint\u001b[39m(c)\n",
      "\u001b[0;31mNameError\u001b[0m: name 'c' is not defined"
     ]
    }
   ],
   "source": [
    "a=5\n",
    "def g():\n",
    "    c = 10\n",
    "    print(a)\n",
    "    print(c)\n",
    "\n",
    "\n",
    "\n",
    "g()\n",
    "print(c)"
   ]
  },
  {
   "cell_type": "code",
   "execution_count": null,
   "id": "d40c09d9-04e3-434d-bf6e-78923d9ca7d8",
   "metadata": {},
   "outputs": [],
   "source": []
  },
  {
   "cell_type": "code",
   "execution_count": 9,
   "id": "38a4927d-35e4-49d8-b21f-97aa86d90c0c",
   "metadata": {
    "tags": []
   },
   "outputs": [
    {
     "ename": "SyntaxError",
     "evalue": "invalid syntax (3046180757.py, line 3)",
     "output_type": "error",
     "traceback": [
      "\u001b[0;36m  Cell \u001b[0;32mIn[9], line 3\u001b[0;36m\u001b[0m\n\u001b[0;31m    global a=10\u001b[0m\n\u001b[0m            ^\u001b[0m\n\u001b[0;31mSyntaxError\u001b[0m\u001b[0;31m:\u001b[0m invalid syntax\n"
     ]
    }
   ],
   "source": [
    "a=5\n",
    "def g():\n",
    "    global a=10\n",
    "    print(a)\n",
    "\n",
    "\n",
    "g()\n",
    "print(c)"
   ]
  },
  {
   "cell_type": "code",
   "execution_count": null,
   "id": "8dfe17aa-ff37-4748-b879-b1c14c89e779",
   "metadata": {},
   "outputs": [],
   "source": []
  },
  {
   "cell_type": "code",
   "execution_count": 5,
   "id": "8be4497a-81aa-4ec6-99c2-6b24de17260e",
   "metadata": {
    "tags": []
   },
   "outputs": [
    {
     "name": "stdout",
     "output_type": "stream",
     "text": [
      "I Love JS\n",
      "I Love JS\n"
     ]
    }
   ],
   "source": [
    "s1 = \"I Love Python\"\n",
    "\n",
    "def h():\n",
    "\n",
    "    global s1\n",
    "    s1 = \"I Love JS\"\n",
    "    print(s1)\n",
    "\n",
    "h()\n",
    "print(s1)"
   ]
  },
  {
   "cell_type": "code",
   "execution_count": 6,
   "id": "6e7d9e8d-b10f-425d-983b-77baf2511e0c",
   "metadata": {
    "tags": []
   },
   "outputs": [
    {
     "name": "stdout",
     "output_type": "stream",
     "text": [
      "I Love PythonI Love JS\n",
      "I Love PythonI Love JS\n"
     ]
    }
   ],
   "source": [
    "s1 = \"I Love Python\"\n",
    "\n",
    "def h():\n",
    "\n",
    "    global s1\n",
    "    s1 += \"I Love JS\"\n",
    "    print(s1)\n",
    "\n",
    "h()\n",
    "print(s1)"
   ]
  },
  {
   "cell_type": "code",
   "execution_count": 8,
   "id": "588e8894-ca9c-4da2-8be3-9f841f99f4c7",
   "metadata": {
    "tags": []
   },
   "outputs": [
    {
     "name": "stdout",
     "output_type": "stream",
     "text": [
      "ABC\n",
      "ABC\n"
     ]
    }
   ],
   "source": [
    "s1 = \"I Love Python\"\n",
    "\n",
    "def h():\n",
    "\n",
    "    global s1 \n",
    "    s1=\"ABC\"\n",
    "    print(s1)\n",
    "\n",
    "h()\n",
    "print(s1)"
   ]
  },
  {
   "cell_type": "code",
   "execution_count": null,
   "id": "0d872bd9-686d-4c30-96a6-feb34126bb7f",
   "metadata": {},
   "outputs": [],
   "source": []
  },
  {
   "cell_type": "code",
   "execution_count": 16,
   "id": "b5ae38c0-f718-4ecf-af6d-c8bc79f61123",
   "metadata": {
    "tags": []
   },
   "outputs": [],
   "source": [
    "def sum(a,b):\n",
    "    return a+b\n",
    "    "
   ]
  },
  {
   "cell_type": "code",
   "execution_count": 17,
   "id": "470c129c-414f-4a02-928c-4d461978314f",
   "metadata": {
    "tags": []
   },
   "outputs": [],
   "source": [
    "assert (sum(3,4) == 7)"
   ]
  },
  {
   "cell_type": "code",
   "execution_count": null,
   "id": "e389b7a7-3b2f-4259-81a5-30088e42deb4",
   "metadata": {},
   "outputs": [],
   "source": []
  },
  {
   "cell_type": "code",
   "execution_count": null,
   "id": "3f404c41-1be4-48f9-aaa7-5f50d1dc2708",
   "metadata": {},
   "outputs": [],
   "source": []
  },
  {
   "cell_type": "code",
   "execution_count": null,
   "id": "4dc2930a-a6c7-404a-8fb2-411b08b26d39",
   "metadata": {},
   "outputs": [],
   "source": []
  }
 ],
 "metadata": {
  "kernelspec": {
   "display_name": "Python 3 (ipykernel)",
   "language": "python",
   "name": "python3"
  },
  "language_info": {
   "codemirror_mode": {
    "name": "ipython",
    "version": 3
   },
   "file_extension": ".py",
   "mimetype": "text/x-python",
   "name": "python",
   "nbconvert_exporter": "python",
   "pygments_lexer": "ipython3",
   "version": "3.11.5"
  }
 },
 "nbformat": 4,
 "nbformat_minor": 5
}
