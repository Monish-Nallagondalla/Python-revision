{
 "cells": [
  {
   "cell_type": "markdown",
   "id": "d78d91d6-34b1-43f1-9c4a-be5ad31ec1c7",
   "metadata": {},
   "source": [
    "# List Comprehension"
   ]
  },
  {
   "cell_type": "code",
   "execution_count": 1,
   "id": "5b2e569e-9f49-41e9-b5cb-37767ebfa290",
   "metadata": {
    "tags": []
   },
   "outputs": [],
   "source": [
    "l1 = [1,2,\"mayank\"]"
   ]
  },
  {
   "cell_type": "code",
   "execution_count": 2,
   "id": "f6870bc4-3659-4961-91e5-3acf2c7e7d7b",
   "metadata": {
    "tags": []
   },
   "outputs": [],
   "source": [
    "l2 = [1,5.6,42]"
   ]
  },
  {
   "cell_type": "code",
   "execution_count": 4,
   "id": "4e5611f8-c35e-4a8b-8359-d27b1c1eb85e",
   "metadata": {
    "tags": []
   },
   "outputs": [],
   "source": [
    "# WAP to create a list of first 10 natural numbers"
   ]
  },
  {
   "cell_type": "code",
   "execution_count": 5,
   "id": "ef2f9c46-58d2-4764-9271-4d63d09f3221",
   "metadata": {
    "tags": []
   },
   "outputs": [],
   "source": [
    "listAns = []\n",
    "\n",
    "for i in range(1,11):\n",
    "    listAns.append(i)"
   ]
  },
  {
   "cell_type": "code",
   "execution_count": 6,
   "id": "23c2f961-5da8-4717-a5d4-363b233c41a2",
   "metadata": {
    "tags": []
   },
   "outputs": [
    {
     "data": {
      "text/plain": [
       "[1, 2, 3, 4, 5, 6, 7, 8, 9, 10]"
      ]
     },
     "execution_count": 6,
     "metadata": {},
     "output_type": "execute_result"
    }
   ],
   "source": [
    "listAns"
   ]
  },
  {
   "cell_type": "code",
   "execution_count": null,
   "id": "9e6cd54a-d665-4f6f-aa38-8f061ada7a5b",
   "metadata": {},
   "outputs": [],
   "source": [
    "# WAP to create a list of first 10 natural even numbers"
   ]
  },
  {
   "cell_type": "code",
   "execution_count": 9,
   "id": "ff16aae6-dc37-4978-b38b-5fe6652c63d8",
   "metadata": {
    "tags": []
   },
   "outputs": [],
   "source": [
    "listAns = []\n",
    "\n",
    "for i in range(2,21,2):\n",
    "    listAns.append(i)"
   ]
  },
  {
   "cell_type": "code",
   "execution_count": 10,
   "id": "c6bb62ed-29b1-4329-9390-0baf56ff189f",
   "metadata": {
    "tags": []
   },
   "outputs": [
    {
     "data": {
      "text/plain": [
       "[2, 4, 6, 8, 10, 12, 14, 16, 18, 20]"
      ]
     },
     "execution_count": 10,
     "metadata": {},
     "output_type": "execute_result"
    }
   ],
   "source": [
    "listAns"
   ]
  },
  {
   "cell_type": "code",
   "execution_count": null,
   "id": "64ca571e-2ae1-41a5-9c39-d74b5c527926",
   "metadata": {},
   "outputs": [],
   "source": []
  },
  {
   "cell_type": "markdown",
   "id": "d8cdd35a-d744-4b04-8e23-b6b718e5d687",
   "metadata": {},
   "source": [
    "# Using List Comprehension"
   ]
  },
  {
   "cell_type": "code",
   "execution_count": null,
   "id": "72690aa1-316d-4f50-b941-325b483b5f81",
   "metadata": {},
   "outputs": [],
   "source": []
  },
  {
   "cell_type": "code",
   "execution_count": 11,
   "id": "026c524e-5ad1-458e-8005-8a07887070fd",
   "metadata": {
    "tags": []
   },
   "outputs": [
    {
     "ename": "SyntaxError",
     "evalue": "invalid syntax (3595573187.py, line 1)",
     "output_type": "error",
     "traceback": [
      "\u001b[0;36m  Cell \u001b[0;32mIn[11], line 1\u001b[0;36m\u001b[0m\n\u001b[0;31m    i for i in range(1,10)\u001b[0m\n\u001b[0m      ^\u001b[0m\n\u001b[0;31mSyntaxError\u001b[0m\u001b[0;31m:\u001b[0m invalid syntax\n"
     ]
    }
   ],
   "source": [
    "i for i in range(1,10)"
   ]
  },
  {
   "cell_type": "code",
   "execution_count": 15,
   "id": "a63f1a5c-f6c1-4ee1-8006-ed08f1f7a928",
   "metadata": {
    "tags": []
   },
   "outputs": [],
   "source": [
    "l1 = [i for i in range(1,11)]"
   ]
  },
  {
   "cell_type": "code",
   "execution_count": 16,
   "id": "26862813-34db-4e16-908a-0d5f4b04035e",
   "metadata": {
    "tags": []
   },
   "outputs": [
    {
     "data": {
      "text/plain": [
       "[1, 2, 3, 4, 5, 6, 7, 8, 9, 10]"
      ]
     },
     "execution_count": 16,
     "metadata": {},
     "output_type": "execute_result"
    }
   ],
   "source": [
    "l1"
   ]
  },
  {
   "cell_type": "code",
   "execution_count": 17,
   "id": "cbc0ba34-6708-4f7b-8004-71553d9c8452",
   "metadata": {
    "tags": []
   },
   "outputs": [
    {
     "data": {
      "text/plain": [
       "[2, 4, 6, 8, 10]"
      ]
     },
     "execution_count": 17,
     "metadata": {},
     "output_type": "execute_result"
    }
   ],
   "source": [
    "[i for i in range(1,11) if i%2 ==0 ]"
   ]
  },
  {
   "cell_type": "code",
   "execution_count": null,
   "id": "31bd2700-71c6-4b08-a9ef-74532ee211ec",
   "metadata": {},
   "outputs": [],
   "source": []
  },
  {
   "cell_type": "code",
   "execution_count": null,
   "id": "1e224b79-7663-47da-9479-238c94ae04e9",
   "metadata": {},
   "outputs": [],
   "source": []
  },
  {
   "cell_type": "code",
   "execution_count": 18,
   "id": "c799c636-9f21-4178-83cc-ba1812eded01",
   "metadata": {
    "tags": []
   },
   "outputs": [],
   "source": [
    "s = \"mayank\""
   ]
  },
  {
   "cell_type": "code",
   "execution_count": 21,
   "id": "4ad1f8a9-b13b-483a-93ab-be93a2261405",
   "metadata": {
    "tags": []
   },
   "outputs": [
    {
     "data": {
      "text/plain": [
       "['a', 'a']"
      ]
     },
     "execution_count": 21,
     "metadata": {},
     "output_type": "execute_result"
    }
   ],
   "source": [
    "[ i for i in s if i in \"aeiou\"]"
   ]
  },
  {
   "cell_type": "code",
   "execution_count": null,
   "id": "c0531329-a554-4582-b8fa-9c85f52ef55d",
   "metadata": {},
   "outputs": [],
   "source": []
  },
  {
   "cell_type": "code",
   "execution_count": null,
   "id": "01f0c581-0533-4743-9fa9-67cc5dd53a9b",
   "metadata": {},
   "outputs": [],
   "source": []
  },
  {
   "cell_type": "code",
   "execution_count": 22,
   "id": "3753618b-601a-4ca8-b520-457390d4a3f1",
   "metadata": {
    "tags": []
   },
   "outputs": [],
   "source": [
    "from math import sqrt"
   ]
  },
  {
   "cell_type": "code",
   "execution_count": 25,
   "id": "8c678897-bc60-4cfd-b8fa-2602c6f4427e",
   "metadata": {
    "tags": []
   },
   "outputs": [
    {
     "data": {
      "text/plain": [
       "[1, 2, 3, 4, 5, 6, 7, 8, 9, 10, 11, 12, 13, 14, 15, 16, 17, 18, 19]"
      ]
     },
     "execution_count": 25,
     "metadata": {},
     "output_type": "execute_result"
    }
   ],
   "source": [
    "[ (i) for i in range(1,20) ]"
   ]
  },
  {
   "cell_type": "code",
   "execution_count": null,
   "id": "dd2a8e83-6d3a-490e-b8fc-dbb3e40a8096",
   "metadata": {},
   "outputs": [],
   "source": []
  },
  {
   "cell_type": "code",
   "execution_count": null,
   "id": "91cb46ea-6b0a-47ba-a0e9-51fefc05987a",
   "metadata": {},
   "outputs": [],
   "source": []
  },
  {
   "cell_type": "code",
   "execution_count": 30,
   "id": "045b0156-11ae-4ea4-ac09-6717db7cd311",
   "metadata": {
    "tags": []
   },
   "outputs": [
    {
     "data": {
      "text/plain": [
       "[1, 2, 3, 4]"
      ]
     },
     "execution_count": 30,
     "metadata": {},
     "output_type": "execute_result"
    }
   ],
   "source": [
    "[i for i in range(1,5)]"
   ]
  },
  {
   "cell_type": "code",
   "execution_count": 31,
   "id": "f9e7ed43-a6f3-49e5-ad91-459d49a82b94",
   "metadata": {
    "tags": []
   },
   "outputs": [
    {
     "data": {
      "text/plain": [
       "['max', 'max', 'max', 'max']"
      ]
     },
     "execution_count": 31,
     "metadata": {},
     "output_type": "execute_result"
    }
   ],
   "source": [
    "[\"max\" for i in range(1,5)]"
   ]
  },
  {
   "cell_type": "code",
   "execution_count": 32,
   "id": "681a8433-5a9f-42fa-a9bb-98c54e57dd65",
   "metadata": {
    "tags": []
   },
   "outputs": [
    {
     "data": {
      "text/plain": [
       "[[1, 2, 3], [1, 2, 3], [1, 2, 3], [1, 2, 3]]"
      ]
     },
     "execution_count": 32,
     "metadata": {},
     "output_type": "execute_result"
    }
   ],
   "source": [
    "[[1,2,3] for i in range(1,5)]"
   ]
  },
  {
   "cell_type": "code",
   "execution_count": 33,
   "id": "e5dd0bec-37c3-4542-b8dd-3d715f2ecc13",
   "metadata": {
    "tags": []
   },
   "outputs": [
    {
     "data": {
      "text/plain": [
       "[[1], [2], [3], [4]]"
      ]
     },
     "execution_count": 33,
     "metadata": {},
     "output_type": "execute_result"
    }
   ],
   "source": [
    "[ [ i ]  for i in range(1,5)]"
   ]
  },
  {
   "cell_type": "code",
   "execution_count": 34,
   "id": "73b540b3-2d80-4594-8f7e-26cbdc12f5a8",
   "metadata": {
    "tags": []
   },
   "outputs": [
    {
     "data": {
      "text/plain": [
       "[[1, 2], [1, 2], [1, 2], [1, 2]]"
      ]
     },
     "execution_count": 34,
     "metadata": {},
     "output_type": "execute_result"
    }
   ],
   "source": [
    "[ [j for j in range(1,3)]  for i in range(1,5)]"
   ]
  },
  {
   "cell_type": "code",
   "execution_count": 36,
   "id": "9211e4a1-64bc-44e9-9bf8-2cbe211c3aa5",
   "metadata": {
    "tags": []
   },
   "outputs": [
    {
     "data": {
      "text/plain": [
       "[[3, 4], [5, 6]]"
      ]
     },
     "execution_count": 36,
     "metadata": {},
     "output_type": "execute_result"
    }
   ],
   "source": [
    "[ [ i + j for j in range(1,3)]  for i in range(1,5) if i%2==0]"
   ]
  },
  {
   "cell_type": "code",
   "execution_count": null,
   "id": "8838a52c-3cd8-4b2f-9ba9-5913b9686fd4",
   "metadata": {},
   "outputs": [],
   "source": []
  },
  {
   "cell_type": "code",
   "execution_count": 37,
   "id": "decebdeb-ca74-499e-9b5d-3a4b924eaf15",
   "metadata": {
    "tags": []
   },
   "outputs": [],
   "source": [
    "allIds = [ \"C123\",\"S123\",\"S12\",\"C12\",\"C345\",\"S1234\"]"
   ]
  },
  {
   "cell_type": "code",
   "execution_count": 39,
   "id": "36db2e1e-ff51-45c0-b8e1-8620ca3eeeeb",
   "metadata": {
    "tags": []
   },
   "outputs": [
    {
     "data": {
      "text/plain": [
       "['S123', 'S12', 'S1234']"
      ]
     },
     "execution_count": 39,
     "metadata": {},
     "output_type": "execute_result"
    }
   ],
   "source": [
    "[ i for i in allIds if \"S\" in i]"
   ]
  }
 ],
 "metadata": {
  "kernelspec": {
   "display_name": "Python 3 (ipykernel)",
   "language": "python",
   "name": "python3"
  },
  "language_info": {
   "codemirror_mode": {
    "name": "ipython",
    "version": 3
   },
   "file_extension": ".py",
   "mimetype": "text/x-python",
   "name": "python",
   "nbconvert_exporter": "python",
   "pygments_lexer": "ipython3",
   "version": "3.11.5"
  }
 },
 "nbformat": 4,
 "nbformat_minor": 5
}
