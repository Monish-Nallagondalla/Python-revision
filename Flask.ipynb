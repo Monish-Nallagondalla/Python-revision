{
 "cells": [
  {
   "cell_type": "markdown",
   "id": "ee04abd0-43a4-47ac-9797-4d2ccd083383",
   "metadata": {
    "tags": []
   },
   "source": [
    "# Flask and APIs\n",
    "\n",
    "## What Is Web API\n",
    "A Web API (Application Programming Interface) is a set of rules and protocols for building and interacting with software applications. It allows different software systems to communicate with each other over the web. Web APIs are used to interact with web services, enabling applications to request data, send data, and perform various operations over the internet.\n",
    "\n",
    "## Difference Between API and Web API\n",
    "- **API (Application Programming Interface):** A general term for any interface that allows different software applications to communicate with each other. It can be used within a single system or across multiple systems.\n",
    "- **Web API:** A specific type of API that allows communication between different systems over the internet using web technologies. It uses HTTP/HTTPS protocols for requests and responses.\n",
    "\n",
    "## REST and SOAP Architecture\n",
    "- **REST (Representational State Transfer):** An architectural style for designing networked applications. RESTful services use HTTP requests to perform CRUD (Create, Read, Update, Delete) operations. They are stateless, meaning each request from a client contains all the information needed to process the request.\n",
    "- **SOAP (Simple Object Access Protocol):** A protocol for exchanging structured information in web services. SOAP uses XML for message formatting and relies on application layer protocols like HTTP or SMTP for message negotiation and transmission. It is more rigid and protocol-heavy compared to REST.\n",
    "\n",
    "## RESTful Services\n",
    "RESTful services are web services that adhere to the principles of REST. They use standard HTTP methods (GET, POST, PUT, DELETE) and are stateless. Each URL represents a resource, and HTTP methods operate on these resources.\n",
    "\n",
    "---\n",
    "\n",
    "# Flask Introduction\n",
    "Flask is a micro web framework for Python, known for its simplicity and ease of use. It is lightweight and modular, making it easy to scale up for complex applications.\n",
    "\n",
    "```python\n",
    "# Flask Installation\n",
    "!pip install Flask\n"
   ]
  },
  {
   "cell_type": "code",
   "execution_count": null,
   "id": "41a82229-2216-42c2-9325-0cbc77d89fd2",
   "metadata": {
    "jupyter": {
     "source_hidden": true
    }
   },
   "outputs": [],
   "source": [
    "import pandas as pd"
   ]
  },
  {
   "cell_type": "code",
   "execution_count": null,
   "id": "c8ee8274-81a1-41cf-9739-0eb56fb11d4b",
   "metadata": {
    "jupyter": {
     "source_hidden": true
    }
   },
   "outputs": [],
   "source": [
    "#data = pd.read_json(\"https://raw.githubusercontent.com/YBI-Foundation/Dataset/main/Titanic.json\")\n",
    "data.to_json()"
   ]
  },
  {
   "cell_type": "code",
   "execution_count": null,
   "id": "4526ad5b-9156-47cc-98aa-e72dcdc9580e",
   "metadata": {},
   "outputs": [],
   "source": [
    "from flask import Flask"
   ]
  },
  {
   "cell_type": "code",
   "execution_count": null,
   "id": "23ad8274-cc5f-4605-8da1-4bee10aa4211",
   "metadata": {},
   "outputs": [],
   "source": [
    "print(__name__)"
   ]
  },
  {
   "cell_type": "code",
   "execution_count": null,
   "id": "5e9cd65e-cd5e-493e-8272-393ef9e82a3d",
   "metadata": {},
   "outputs": [],
   "source": [
    "import urllib.request, json \n",
    "with urllib.request.urlopen(\"https://raw.githubusercontent.com/YBI-Foundation/Dataset/main/Titanic.json\") as url:\n",
    "    data = json.load(url)\n",
    "    "
   ]
  },
  {
   "cell_type": "code",
   "execution_count": null,
   "id": "150a4d44-c852-4554-b941-dc1fbf6b7f78",
   "metadata": {},
   "outputs": [
    {
     "name": "stdout",
     "output_type": "stream",
     "text": [
      " * Serving Flask app '__main__'\n",
      " * Debug mode: off\n"
     ]
    },
    {
     "name": "stderr",
     "output_type": "stream",
     "text": [
      "WARNING: This is a development server. Do not use it in a production deployment. Use a production WSGI server instead.\n",
      " * Running on http://127.0.0.1:8000\n",
      "Press CTRL+C to quit\n",
      "127.0.0.1 - - [15/Jun/2024 14:49:44] \"PUT /login2 HTTP/1.1\" 200 -\n"
     ]
    },
    {
     "name": "stdout",
     "output_type": "stream",
     "text": [
      "The request is {'name': 'mayank', 'lang': 'python'}\n",
      "mayank\n",
      "python\n"
     ]
    }
   ],
   "source": [
    "from flask import Flask,request,jsonify\n",
    "\n",
    "import pandas as pd\n",
    "\n",
    "app = Flask(__name__)\n",
    "\n",
    "@app.route('/')\n",
    "def home():\n",
    "    return (\"hello from Flask\")\n",
    "\n",
    "@app.route('/about')\n",
    "def about():\n",
    "    return (\"hello from Flask. This is about Page\")\n",
    "\n",
    "@app.route('/contact')\n",
    "def contact():\n",
    "    return (\"hello from Flask. I cannot be contacted\")\n",
    "\n",
    "@app.route('/login', methods = ['GET'])\n",
    "def login():\n",
    "    \n",
    "    return jsonify(data)\n",
    "\n",
    "@app.route('/login2', methods = ['PUT'])\n",
    "def login2():\n",
    "    print(\"The request is \" + str(request.get_json()))\n",
    "    json = request.get_json()\n",
    "    print(json['name'])\n",
    "    print(json['lang'])\n",
    "    \n",
    "    return jsonify(\"hi I am login2\")\n",
    "\n",
    "\n",
    "if (__name__) == \"__main__\":\n",
    "    app.run(port = 8000)"
   ]
  },
  {
   "cell_type": "markdown",
   "id": "db8fb24a-8161-4960-8eb7-4add72d426ae",
   "metadata": {},
   "source": [
    "\n",
    "\n",
    "\n",
    "# Linking of Page\n",
    "# App routing"
   ]
  },
  {
   "cell_type": "code",
   "execution_count": null,
   "id": "b9f1ce83-9758-44f7-8809-52b3dbbfacd9",
   "metadata": {},
   "outputs": [],
   "source": []
  },
  {
   "cell_type": "code",
   "execution_count": null,
   "id": "f3778550-d558-4d5b-945a-3ee0a1cc4e2e",
   "metadata": {},
   "outputs": [],
   "source": [
    "from flask import Flask\n",
    "\n",
    "app = Flask(__name__)\n",
    "\n",
    "@app.route('/')\n",
    "def home():\n",
    "    return (\"Go to the <a href = '/about'> about Page\")\n",
    "\n",
    "@app.route('/about')\n",
    "def about():\n",
    "    return (\"hello from Flask. This is about Page\")\n",
    "\n",
    "@app.route('/contact')\n",
    "def contact():\n",
    "    return (\"hello from Flask. I cannot be contacted\")\n",
    "\n",
    "\n",
    "\n",
    "\n",
    "\n",
    "if (__name__) == \"__main__\":\n",
    "    app.run()"
   ]
  },
  {
   "cell_type": "code",
   "execution_count": null,
   "id": "fc7516d6-7a52-4ec5-9b7a-9fbbd8e12879",
   "metadata": {},
   "outputs": [],
   "source": []
  },
  {
   "cell_type": "markdown",
   "id": "83d3a386-992e-4521-8227-ae4097d888c6",
   "metadata": {},
   "source": [
    "# URL Building"
   ]
  },
  {
   "cell_type": "code",
   "execution_count": null,
   "id": "e7f552d2-14d5-48fe-a097-bb8fd7b2e5a9",
   "metadata": {
    "jupyter": {
     "source_hidden": true
    }
   },
   "outputs": [],
   "source": [
    "from flask import Flask, \n",
    "\n",
    "app = Flask(__name__)\n",
    "\n",
    "@app.route('/')\n",
    "def home():\n",
    "    return f\"Go to {url_for('about')}\"\n",
    "\n",
    "@app.route('/about')\n",
    "def about():\n",
    "    return \"This is the about page.\"\n",
    "\n",
    "if __name__ == \"__main__\":\n",
    "    app.run()\n"
   ]
  }
 ],
 "metadata": {
  "kernelspec": {
   "display_name": "Python 3 (ipykernel)",
   "language": "python",
   "name": "python3"
  },
  "language_info": {
   "codemirror_mode": {
    "name": "ipython",
    "version": 3
   },
   "file_extension": ".py",
   "mimetype": "text/x-python",
   "name": "python",
   "nbconvert_exporter": "python",
   "pygments_lexer": "ipython3",
   "version": "3.11.5"
  }
 },
 "nbformat": 4,
 "nbformat_minor": 5
}
