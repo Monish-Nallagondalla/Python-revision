{
 "cells": [
  {
   "cell_type": "markdown",
   "id": "58c599fd-1d53-4eb4-8455-4779f0a0c2da",
   "metadata": {},
   "source": [
    "# Wap to store information like name, age etc. for 5 shopkeepers"
   ]
  },
  {
   "cell_type": "code",
   "execution_count": 2,
   "id": "e62e9c0d-0840-4a83-b2ba-875a84e4d36a",
   "metadata": {
    "tags": []
   },
   "outputs": [],
   "source": [
    "name = []\n",
    "age =[]\n",
    "balance =[]"
   ]
  },
  {
   "cell_type": "code",
   "execution_count": 3,
   "id": "e9e9580e-e0c4-4dda-91c0-1d34d8fc14c1",
   "metadata": {
    "tags": []
   },
   "outputs": [],
   "source": [
    "details = {}"
   ]
  },
  {
   "cell_type": "code",
   "execution_count": null,
   "id": "75102b67-9e4a-42e3-9a29-6059f3fe8217",
   "metadata": {},
   "outputs": [],
   "source": []
  },
  {
   "cell_type": "code",
   "execution_count": null,
   "id": "cc857236-fb3f-4269-a907-5842bc1ecb38",
   "metadata": {},
   "outputs": [],
   "source": []
  },
  {
   "cell_type": "code",
   "execution_count": 10,
   "id": "75045413-b73c-4abb-aba2-e68e46c9419f",
   "metadata": {
    "tags": []
   },
   "outputs": [],
   "source": [
    "l1 = [1,2,3]\n",
    "\n",
    "l2 = [2,3,4]\n",
    "l3=[43,315,\"mayank\"]"
   ]
  },
  {
   "cell_type": "code",
   "execution_count": 11,
   "id": "6e5fc818-5799-442a-98b1-0e9abdd0f4cc",
   "metadata": {
    "tags": []
   },
   "outputs": [
    {
     "name": "stdout",
     "output_type": "stream",
     "text": [
      "<class 'list'>\n",
      "<class 'list'>\n",
      "<class 'list'>\n"
     ]
    },
    {
     "data": {
      "text/plain": [
       "(None, None, None)"
      ]
     },
     "execution_count": 11,
     "metadata": {},
     "output_type": "execute_result"
    }
   ],
   "source": [
    "print(type(l1)),print(type(l2)),print(type(l3))"
   ]
  },
  {
   "cell_type": "code",
   "execution_count": null,
   "id": "86cd204c-1362-40be-b367-859835815e54",
   "metadata": {},
   "outputs": [],
   "source": []
  },
  {
   "cell_type": "code",
   "execution_count": 13,
   "id": "a7fd78cd-52e1-4cbf-a3df-14c4005b5b0a",
   "metadata": {
    "tags": []
   },
   "outputs": [
    {
     "ename": "NameError",
     "evalue": "name 'User' is not defined",
     "output_type": "error",
     "traceback": [
      "\u001b[0;31m---------------------------------------------------------------------------\u001b[0m",
      "\u001b[0;31mNameError\u001b[0m                                 Traceback (most recent call last)",
      "Cell \u001b[0;32mIn[13], line 1\u001b[0m\n\u001b[0;32m----> 1\u001b[0m u1 \u001b[38;5;241m=\u001b[39m User()\n",
      "\u001b[0;31mNameError\u001b[0m: name 'User' is not defined"
     ]
    }
   ],
   "source": [
    "u1 = User()"
   ]
  },
  {
   "cell_type": "code",
   "execution_count": null,
   "id": "efdeb196-cb96-4035-be57-f7d99b2f8a4e",
   "metadata": {},
   "outputs": [],
   "source": []
  },
  {
   "cell_type": "code",
   "execution_count": 14,
   "id": "f9ab1d86-77a9-429a-8254-fa75ba86a7c0",
   "metadata": {
    "tags": []
   },
   "outputs": [
    {
     "name": "stdout",
     "output_type": "stream",
     "text": [
      "<class 'int'>\n"
     ]
    }
   ],
   "source": [
    "print(type(1))"
   ]
  },
  {
   "cell_type": "code",
   "execution_count": null,
   "id": "68dae1eb-615a-4269-9fe4-5d64d4343ec1",
   "metadata": {},
   "outputs": [],
   "source": []
  },
  {
   "cell_type": "code",
   "execution_count": 16,
   "id": "08666f38-ccdd-4e17-ae09-28d79419f6f9",
   "metadata": {
    "tags": []
   },
   "outputs": [
    {
     "name": "stdout",
     "output_type": "stream",
     "text": [
      "<class 'builtin_function_or_method'>\n"
     ]
    }
   ],
   "source": [
    "print(type(len))"
   ]
  },
  {
   "cell_type": "code",
   "execution_count": null,
   "id": "2e5ddaa9-a829-4134-8e89-67b42abfe9e8",
   "metadata": {},
   "outputs": [],
   "source": []
  },
  {
   "cell_type": "code",
   "execution_count": 34,
   "id": "46764206-1cf4-47f8-b8d1-20fad74e41f1",
   "metadata": {
    "tags": []
   },
   "outputs": [],
   "source": [
    "def fun1(arg1):\n",
    "    print(\"hello\")"
   ]
  },
  {
   "cell_type": "code",
   "execution_count": 35,
   "id": "641eb786-602c-4ff5-9058-69d7d9628c0d",
   "metadata": {
    "tags": []
   },
   "outputs": [
    {
     "name": "stdout",
     "output_type": "stream",
     "text": [
      "hello\n"
     ]
    }
   ],
   "source": [
    "fun1(5)"
   ]
  },
  {
   "cell_type": "code",
   "execution_count": null,
   "id": "ca9e92fc-ebf8-4050-bc34-fcaa89041c8b",
   "metadata": {},
   "outputs": [],
   "source": []
  },
  {
   "cell_type": "code",
   "execution_count": null,
   "id": "fd6db94c-f3e4-4db6-a62b-95f3296cf09f",
   "metadata": {},
   "outputs": [],
   "source": []
  },
  {
   "cell_type": "code",
   "execution_count": null,
   "id": "00c8bce9-21e6-49ef-b114-1ad7354ee695",
   "metadata": {},
   "outputs": [],
   "source": []
  },
  {
   "cell_type": "markdown",
   "id": "2c8f5498-19fb-4adf-a7d1-1f4fba8f2e62",
   "metadata": {},
   "source": [
    "# Creating our Own Class"
   ]
  },
  {
   "cell_type": "code",
   "execution_count": 36,
   "id": "caeb70f8-1230-4109-8206-e7c004efb5d0",
   "metadata": {
    "tags": []
   },
   "outputs": [],
   "source": [
    "class Car:\n",
    "    \n",
    "    def __init__(arg1):\n",
    "        print(\"I am getting called\")"
   ]
  },
  {
   "cell_type": "code",
   "execution_count": 38,
   "id": "b163cabf-c0a5-4a68-92b9-9f13fef713e1",
   "metadata": {
    "tags": []
   },
   "outputs": [
    {
     "name": "stdout",
     "output_type": "stream",
     "text": [
      "I am getting called\n",
      "I am getting called\n"
     ]
    }
   ],
   "source": [
    "c1 = Car()"
   ]
  },
  {
   "cell_type": "code",
   "execution_count": 19,
   "id": "0cf82944-7e6f-4f56-be0d-c031d1f20379",
   "metadata": {
    "tags": []
   },
   "outputs": [
    {
     "name": "stdout",
     "output_type": "stream",
     "text": [
      "<class '__main__.Car'>\n"
     ]
    }
   ],
   "source": [
    "print(type(c1))"
   ]
  },
  {
   "cell_type": "code",
   "execution_count": 20,
   "id": "e01d9773-f366-4c7f-ad7f-6ef30fad34a7",
   "metadata": {
    "tags": []
   },
   "outputs": [],
   "source": [
    "l1= list()\n",
    "i1 = int()"
   ]
  },
  {
   "cell_type": "code",
   "execution_count": 21,
   "id": "9e0f1840-c462-45a8-88af-9b4ed8855c3d",
   "metadata": {
    "tags": []
   },
   "outputs": [
    {
     "data": {
      "text/plain": [
       "([], 0)"
      ]
     },
     "execution_count": 21,
     "metadata": {},
     "output_type": "execute_result"
    }
   ],
   "source": [
    "l1,i1"
   ]
  },
  {
   "cell_type": "code",
   "execution_count": 23,
   "id": "b68a4cf6-52f0-4f57-a165-a9f4cde56503",
   "metadata": {
    "tags": []
   },
   "outputs": [
    {
     "data": {
      "text/plain": [
       "0"
      ]
     },
     "execution_count": 23,
     "metadata": {},
     "output_type": "execute_result"
    }
   ],
   "source": [
    "[],(),{},0  #object Literal"
   ]
  },
  {
   "cell_type": "code",
   "execution_count": 24,
   "id": "f68129e7-2408-4285-9a5a-9d96111aed33",
   "metadata": {
    "tags": []
   },
   "outputs": [],
   "source": [
    "# Functions vs Methods\n"
   ]
  },
  {
   "cell_type": "code",
   "execution_count": 74,
   "id": "8789ea47-0187-48cd-8718-b87da40525b9",
   "metadata": {
    "tags": []
   },
   "outputs": [],
   "source": [
    "class Car2:\n",
    "    \n",
    "    def __init__(self): #constructor\n",
    "        print(type(self))\n",
    "        print(id(self))\n",
    "        print(\"I am here\")\n",
    "        \n",
    "        \n",
    "    def __str__(self): # print\n",
    "        return (\"[Hi, I am a car]\")"
   ]
  },
  {
   "cell_type": "code",
   "execution_count": 75,
   "id": "de213e22-d1c3-493d-b89a-0f63fd55c1ba",
   "metadata": {
    "tags": []
   },
   "outputs": [
    {
     "name": "stdout",
     "output_type": "stream",
     "text": [
      "<class '__main__.Car2'>\n",
      "4413832080\n",
      "I am here\n"
     ]
    }
   ],
   "source": [
    "c2 = Car2()"
   ]
  },
  {
   "cell_type": "code",
   "execution_count": 60,
   "id": "a61fcfa7-606b-49f3-bc84-91509346e68d",
   "metadata": {
    "tags": []
   },
   "outputs": [
    {
     "name": "stdout",
     "output_type": "stream",
     "text": [
      "4412751376\n",
      "<class '__main__.Car2'>\n"
     ]
    }
   ],
   "source": [
    "print(id(c2))\n",
    "print(type(c2))"
   ]
  },
  {
   "cell_type": "code",
   "execution_count": 76,
   "id": "44e37500-4abf-44c5-b1c0-52cb00bc34a6",
   "metadata": {
    "tags": []
   },
   "outputs": [
    {
     "name": "stdout",
     "output_type": "stream",
     "text": [
      "[Hi, I am a car]\n"
     ]
    }
   ],
   "source": [
    "print(c2)"
   ]
  },
  {
   "cell_type": "code",
   "execution_count": null,
   "id": "41254fb3-82a0-4c46-a0ab-76b1d5a5aef1",
   "metadata": {},
   "outputs": [],
   "source": []
  },
  {
   "cell_type": "code",
   "execution_count": null,
   "id": "f8cbfd23-18e4-463c-8815-aa56c82a3cfe",
   "metadata": {},
   "outputs": [],
   "source": []
  },
  {
   "cell_type": "code",
   "execution_count": null,
   "id": "6f063bf3-a7e5-4d09-b0ee-18e16ac785b6",
   "metadata": {},
   "outputs": [],
   "source": []
  },
  {
   "cell_type": "code",
   "execution_count": 53,
   "id": "815dd805-4ff7-4484-8bac-8d20b57d48ff",
   "metadata": {
    "tags": []
   },
   "outputs": [],
   "source": [
    "def fun2(arg1):\n",
    "    print(\"type from fun2 is\" + str(type(arg1)))\n",
    "    print(id(arg1))\n",
    "    print(\"I am fun2\")"
   ]
  },
  {
   "cell_type": "code",
   "execution_count": 54,
   "id": "0686c883-942e-49ff-b554-f5ed3ff94625",
   "metadata": {
    "tags": []
   },
   "outputs": [
    {
     "name": "stdout",
     "output_type": "stream",
     "text": [
      "4419738800\n",
      "<class 'int'>\n",
      "type from fun2 is<class 'int'>\n",
      "4419738800\n",
      "I am fun2\n"
     ]
    }
   ],
   "source": [
    "a=1000\n",
    "print(id(a))\n",
    "print(type(a))\n",
    "fun2(a)"
   ]
  },
  {
   "cell_type": "code",
   "execution_count": 73,
   "id": "0a647996-ec32-4c2a-86dc-51d8f0633714",
   "metadata": {
    "tags": []
   },
   "outputs": [
    {
     "name": "stdout",
     "output_type": "stream",
     "text": [
      "[2, 3, 4]\n"
     ]
    }
   ],
   "source": []
  },
  {
   "cell_type": "code",
   "execution_count": 80,
   "id": "8becc777-6f98-402b-ba7b-ce7ec52d6676",
   "metadata": {
    "tags": []
   },
   "outputs": [],
   "source": [
    "self = 5"
   ]
  },
  {
   "cell_type": "code",
   "execution_count": 81,
   "id": "b0456fa8-c7b1-4493-8f55-61ec73726d34",
   "metadata": {
    "tags": []
   },
   "outputs": [
    {
     "data": {
      "text/plain": [
       "5"
      ]
     },
     "execution_count": 81,
     "metadata": {},
     "output_type": "execute_result"
    }
   ],
   "source": [
    "self"
   ]
  },
  {
   "cell_type": "code",
   "execution_count": null,
   "id": "bcc66e91-b57f-44c3-b757-8e7e397d6959",
   "metadata": {},
   "outputs": [],
   "source": []
  },
  {
   "cell_type": "code",
   "execution_count": null,
   "id": "26218c05-da9e-492a-bccb-bbd5baf8954d",
   "metadata": {},
   "outputs": [],
   "source": []
  },
  {
   "cell_type": "code",
   "execution_count": null,
   "id": "c4b3858c-4914-4d1c-ad4f-90f3b5df3d6e",
   "metadata": {},
   "outputs": [],
   "source": []
  },
  {
   "cell_type": "code",
   "execution_count": 94,
   "id": "869b9211-3c7f-4e9d-99e0-48ca48ac875f",
   "metadata": {
    "tags": []
   },
   "outputs": [],
   "source": [
    "class Car3:\n",
    "    def __init__(self):\n",
    "        print(\"creating a car object\")\n",
    "        self.brand \n",
    "        self.name \n",
    "        self.color \n",
    "        self.price = 400000"
   ]
  },
  {
   "cell_type": "code",
   "execution_count": 95,
   "id": "2c6a7c0a-c9e6-4364-b40e-3b4f839f3cd7",
   "metadata": {
    "tags": []
   },
   "outputs": [
    {
     "name": "stdout",
     "output_type": "stream",
     "text": [
      "creating a car object\n"
     ]
    },
    {
     "ename": "AttributeError",
     "evalue": "'Car3' object has no attribute 'brand'",
     "output_type": "error",
     "traceback": [
      "\u001b[0;31m---------------------------------------------------------------------------\u001b[0m",
      "\u001b[0;31mAttributeError\u001b[0m                            Traceback (most recent call last)",
      "Cell \u001b[0;32mIn[95], line 1\u001b[0m\n\u001b[0;32m----> 1\u001b[0m c3 \u001b[38;5;241m=\u001b[39m Car3()\n",
      "Cell \u001b[0;32mIn[94], line 4\u001b[0m, in \u001b[0;36mCar3.__init__\u001b[0;34m(self)\u001b[0m\n\u001b[1;32m      2\u001b[0m \u001b[38;5;28;01mdef\u001b[39;00m \u001b[38;5;21m__init__\u001b[39m(\u001b[38;5;28mself\u001b[39m):\n\u001b[1;32m      3\u001b[0m     \u001b[38;5;28mprint\u001b[39m(\u001b[38;5;124m\"\u001b[39m\u001b[38;5;124mcreating a car object\u001b[39m\u001b[38;5;124m\"\u001b[39m)\n\u001b[0;32m----> 4\u001b[0m     \u001b[38;5;28mself\u001b[39m\u001b[38;5;241m.\u001b[39mbrand \n\u001b[1;32m      5\u001b[0m     \u001b[38;5;28mself\u001b[39m\u001b[38;5;241m.\u001b[39mname \n\u001b[1;32m      6\u001b[0m     \u001b[38;5;28mself\u001b[39m\u001b[38;5;241m.\u001b[39mcolor \n",
      "\u001b[0;31mAttributeError\u001b[0m: 'Car3' object has no attribute 'brand'"
     ]
    }
   ],
   "source": [
    "c3 = Car3()"
   ]
  },
  {
   "cell_type": "code",
   "execution_count": 91,
   "id": "2a7ccc63-af67-43be-b991-f3adc04b4cf0",
   "metadata": {
    "tags": []
   },
   "outputs": [
    {
     "data": {
      "text/plain": [
       "('silver', 400000, 'santro')"
      ]
     },
     "execution_count": 91,
     "metadata": {},
     "output_type": "execute_result"
    }
   ],
   "source": [
    "c3.color,c3.price,c3.name"
   ]
  },
  {
   "cell_type": "code",
   "execution_count": 92,
   "id": "f653d5b3-7ca4-461d-a166-365ba0596b48",
   "metadata": {
    "tags": []
   },
   "outputs": [
    {
     "name": "stdout",
     "output_type": "stream",
     "text": [
      "creating a car object\n"
     ]
    }
   ],
   "source": [
    "c32 = Car3()"
   ]
  },
  {
   "cell_type": "code",
   "execution_count": 93,
   "id": "b70ac561-71d8-4e61-8a14-6eb61e2576e4",
   "metadata": {
    "tags": []
   },
   "outputs": [
    {
     "data": {
      "text/plain": [
       "('silver', 400000, 'santro')"
      ]
     },
     "execution_count": 93,
     "metadata": {},
     "output_type": "execute_result"
    }
   ],
   "source": [
    "c32.color,c32.price,c32.name"
   ]
  },
  {
   "cell_type": "code",
   "execution_count": 113,
   "id": "73d1f040-bce7-4e68-8843-55cdecdf6493",
   "metadata": {
    "tags": []
   },
   "outputs": [],
   "source": [
    "l1,l2 = [1,2,3],[4,5,6]"
   ]
  },
  {
   "cell_type": "code",
   "execution_count": 114,
   "id": "7a77becf-c694-4487-a7ac-c3cfec3c92a1",
   "metadata": {
    "tags": []
   },
   "outputs": [
    {
     "data": {
      "text/plain": [
       "[1, 2, 3]"
      ]
     },
     "execution_count": 114,
     "metadata": {},
     "output_type": "execute_result"
    }
   ],
   "source": []
  },
  {
   "cell_type": "code",
   "execution_count": 116,
   "id": "cca29bcc-2351-4742-9283-b335407f1fa0",
   "metadata": {
    "tags": []
   },
   "outputs": [],
   "source": [
    "class Car4:\n",
    "    def __init__(self,brand=\"\",name=\"\",color=\"\",price=0):\n",
    "        print(\"creating a car object\")        \n",
    "        self.brand = brand\n",
    "        self.name  = name\n",
    "        self.color  = color\n",
    "        self.price = price\n",
    "        self.speed = 0\n",
    "        \n",
    "    def acc(self):\n",
    "        print(\"accelerating the car\")\n",
    "        self.speed +=10\n",
    "        \n",
    "    def dec(self):\n",
    "        print(\"de-accelerating the car\")\n",
    "        self.speed-=10\n",
    "    "
   ]
  },
  {
   "cell_type": "code",
   "execution_count": 120,
   "id": "ee438778-5eaa-4e09-a508-5e4955a6a123",
   "metadata": {
    "tags": []
   },
   "outputs": [
    {
     "name": "stdout",
     "output_type": "stream",
     "text": [
      "creating a car object\n"
     ]
    }
   ],
   "source": [
    "c4= Car4(\"marutiSuzuki\",\"wagonr\",\"grey\",300000)"
   ]
  },
  {
   "cell_type": "code",
   "execution_count": 118,
   "id": "51f60236-869b-4ae3-b18a-776b97a51b3e",
   "metadata": {
    "tags": []
   },
   "outputs": [
    {
     "name": "stdout",
     "output_type": "stream",
     "text": [
      "creating a car object\n"
     ]
    }
   ],
   "source": [
    "c42= Car4(\"audi\",\"a8\",\"white\",3000000)"
   ]
  },
  {
   "cell_type": "code",
   "execution_count": 100,
   "id": "5ff8cd12-819d-49cc-b474-bfc387417bc7",
   "metadata": {
    "tags": []
   },
   "outputs": [
    {
     "data": {
      "text/plain": [
       "('marutiSuzuki', 'wagonr')"
      ]
     },
     "execution_count": 100,
     "metadata": {},
     "output_type": "execute_result"
    }
   ],
   "source": [
    "c4.brand,c4.name"
   ]
  },
  {
   "cell_type": "code",
   "execution_count": 102,
   "id": "d0653a02-7b6d-473a-823f-eff99c37727a",
   "metadata": {
    "tags": []
   },
   "outputs": [
    {
     "data": {
      "text/plain": [
       "('audi', 'a8')"
      ]
     },
     "execution_count": 102,
     "metadata": {},
     "output_type": "execute_result"
    }
   ],
   "source": [
    "c42.brand,c42.name"
   ]
  },
  {
   "cell_type": "code",
   "execution_count": 106,
   "id": "dabda3af-8df3-440d-802a-36b55c55be92",
   "metadata": {
    "tags": []
   },
   "outputs": [
    {
     "name": "stdout",
     "output_type": "stream",
     "text": [
      "creating a car object\n"
     ]
    }
   ],
   "source": [
    "c43 = Car4()"
   ]
  },
  {
   "cell_type": "code",
   "execution_count": 121,
   "id": "d0811d34-0ff8-42d1-9e3e-6e227283a0b3",
   "metadata": {
    "tags": []
   },
   "outputs": [
    {
     "name": "stdout",
     "output_type": "stream",
     "text": [
      "accelerating the car\n"
     ]
    },
    {
     "data": {
      "text/plain": [
       "(0, None, 10)"
      ]
     },
     "execution_count": 121,
     "metadata": {},
     "output_type": "execute_result"
    }
   ],
   "source": [
    "c4.speed,c4.acc(),c4.speed"
   ]
  },
  {
   "cell_type": "code",
   "execution_count": null,
   "id": "b5367f1e-9526-4cff-88a1-5b42697cc7e8",
   "metadata": {},
   "outputs": [],
   "source": []
  },
  {
   "cell_type": "code",
   "execution_count": 122,
   "id": "91d25a06-9721-45f4-96b3-8cbc085defdc",
   "metadata": {
    "tags": []
   },
   "outputs": [
    {
     "data": {
      "text/plain": [
       "'wagonr'"
      ]
     },
     "execution_count": 122,
     "metadata": {},
     "output_type": "execute_result"
    }
   ],
   "source": [
    "c4.name"
   ]
  },
  {
   "cell_type": "code",
   "execution_count": 124,
   "id": "12d0d147-eb16-4098-b14b-2e303ac2f4aa",
   "metadata": {
    "tags": []
   },
   "outputs": [],
   "source": [
    "c4.price = 5000000"
   ]
  },
  {
   "cell_type": "code",
   "execution_count": 125,
   "id": "7873ef94-e0ae-4c3e-82fe-d8bbea1bfc19",
   "metadata": {
    "tags": []
   },
   "outputs": [
    {
     "data": {
      "text/plain": [
       "5000000"
      ]
     },
     "execution_count": 125,
     "metadata": {},
     "output_type": "execute_result"
    }
   ],
   "source": [
    "c4.price"
   ]
  },
  {
   "cell_type": "code",
   "execution_count": null,
   "id": "fdc625dc-8a22-4a99-8ccc-2d5e02677e55",
   "metadata": {},
   "outputs": [],
   "source": []
  }
 ],
 "metadata": {
  "kernelspec": {
   "display_name": "Python 3 (ipykernel)",
   "language": "python",
   "name": "python3"
  },
  "language_info": {
   "codemirror_mode": {
    "name": "ipython",
    "version": 3
   },
   "file_extension": ".py",
   "mimetype": "text/x-python",
   "name": "python",
   "nbconvert_exporter": "python",
   "pygments_lexer": "ipython3",
   "version": "3.11.5"
  }
 },
 "nbformat": 4,
 "nbformat_minor": 5
}
